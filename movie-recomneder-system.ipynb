{
 "cells": [
  {
   "cell_type": "code",
   "execution_count": 2,
   "id": "bf0d8245",
   "metadata": {},
   "outputs": [],
   "source": [
    "import pandas as pd\n",
    "import numpy as np"
   ]
  },
  {
   "cell_type": "code",
   "execution_count": 3,
   "id": "2eff655b",
   "metadata": {},
   "outputs": [
    {
     "data": {
      "text/html": [
       "<div>\n",
       "<style scoped>\n",
       "    .dataframe tbody tr th:only-of-type {\n",
       "        vertical-align: middle;\n",
       "    }\n",
       "\n",
       "    .dataframe tbody tr th {\n",
       "        vertical-align: top;\n",
       "    }\n",
       "\n",
       "    .dataframe thead th {\n",
       "        text-align: right;\n",
       "    }\n",
       "</style>\n",
       "<table border=\"1\" class=\"dataframe\">\n",
       "  <thead>\n",
       "    <tr style=\"text-align: right;\">\n",
       "      <th></th>\n",
       "      <th>budget</th>\n",
       "      <th>genres</th>\n",
       "      <th>homepage</th>\n",
       "      <th>id</th>\n",
       "      <th>keywords</th>\n",
       "      <th>original_language</th>\n",
       "      <th>original_title</th>\n",
       "      <th>overview</th>\n",
       "      <th>popularity</th>\n",
       "      <th>production_companies</th>\n",
       "      <th>production_countries</th>\n",
       "      <th>release_date</th>\n",
       "      <th>revenue</th>\n",
       "      <th>runtime</th>\n",
       "      <th>spoken_languages</th>\n",
       "      <th>status</th>\n",
       "      <th>tagline</th>\n",
       "      <th>title</th>\n",
       "      <th>vote_average</th>\n",
       "      <th>vote_count</th>\n",
       "    </tr>\n",
       "  </thead>\n",
       "  <tbody>\n",
       "    <tr>\n",
       "      <th>0</th>\n",
       "      <td>237000000</td>\n",
       "      <td>[{\"id\": 28, \"name\": \"Action\"}, {\"id\": 12, \"nam...</td>\n",
       "      <td>http://www.avatarmovie.com/</td>\n",
       "      <td>19995</td>\n",
       "      <td>[{\"id\": 1463, \"name\": \"culture clash\"}, {\"id\":...</td>\n",
       "      <td>en</td>\n",
       "      <td>Avatar</td>\n",
       "      <td>In the 22nd century, a paraplegic Marine is di...</td>\n",
       "      <td>150.437577</td>\n",
       "      <td>[{\"name\": \"Ingenious Film Partners\", \"id\": 289...</td>\n",
       "      <td>[{\"iso_3166_1\": \"US\", \"name\": \"United States o...</td>\n",
       "      <td>2009-12-10</td>\n",
       "      <td>2787965087</td>\n",
       "      <td>162.0</td>\n",
       "      <td>[{\"iso_639_1\": \"en\", \"name\": \"English\"}, {\"iso...</td>\n",
       "      <td>Released</td>\n",
       "      <td>Enter the World of Pandora.</td>\n",
       "      <td>Avatar</td>\n",
       "      <td>7.2</td>\n",
       "      <td>11800</td>\n",
       "    </tr>\n",
       "  </tbody>\n",
       "</table>\n",
       "</div>"
      ],
      "text/plain": [
       "      budget                                             genres  \\\n",
       "0  237000000  [{\"id\": 28, \"name\": \"Action\"}, {\"id\": 12, \"nam...   \n",
       "\n",
       "                      homepage     id  \\\n",
       "0  http://www.avatarmovie.com/  19995   \n",
       "\n",
       "                                            keywords original_language  \\\n",
       "0  [{\"id\": 1463, \"name\": \"culture clash\"}, {\"id\":...                en   \n",
       "\n",
       "  original_title                                           overview  \\\n",
       "0         Avatar  In the 22nd century, a paraplegic Marine is di...   \n",
       "\n",
       "   popularity                               production_companies  \\\n",
       "0  150.437577  [{\"name\": \"Ingenious Film Partners\", \"id\": 289...   \n",
       "\n",
       "                                production_countries release_date     revenue  \\\n",
       "0  [{\"iso_3166_1\": \"US\", \"name\": \"United States o...   2009-12-10  2787965087   \n",
       "\n",
       "   runtime                                   spoken_languages    status  \\\n",
       "0    162.0  [{\"iso_639_1\": \"en\", \"name\": \"English\"}, {\"iso...  Released   \n",
       "\n",
       "                       tagline   title  vote_average  vote_count  \n",
       "0  Enter the World of Pandora.  Avatar           7.2       11800  "
      ]
     },
     "execution_count": 3,
     "metadata": {},
     "output_type": "execute_result"
    }
   ],
   "source": [
    "movies  = pd.read_csv('tmdb_5000_movies.csv', encoding=\"utf-8-sig\")\n",
    "credits = pd.read_csv('tmdb_5000_credits.csv')\n",
    "credits.head(1)\n",
    "movies.head(1)"
   ]
  },
  {
   "cell_type": "code",
   "execution_count": 4,
   "id": "d3b02dde",
   "metadata": {},
   "outputs": [
    {
     "data": {
      "text/html": [
       "<div>\n",
       "<style scoped>\n",
       "    .dataframe tbody tr th:only-of-type {\n",
       "        vertical-align: middle;\n",
       "    }\n",
       "\n",
       "    .dataframe tbody tr th {\n",
       "        vertical-align: top;\n",
       "    }\n",
       "\n",
       "    .dataframe thead th {\n",
       "        text-align: right;\n",
       "    }\n",
       "</style>\n",
       "<table border=\"1\" class=\"dataframe\">\n",
       "  <thead>\n",
       "    <tr style=\"text-align: right;\">\n",
       "      <th></th>\n",
       "      <th>movie_id</th>\n",
       "      <th>title</th>\n",
       "      <th>cast</th>\n",
       "      <th>crew</th>\n",
       "    </tr>\n",
       "  </thead>\n",
       "  <tbody>\n",
       "    <tr>\n",
       "      <th>0</th>\n",
       "      <td>19995</td>\n",
       "      <td>Avatar</td>\n",
       "      <td>[{\"cast_id\": 242, \"character\": \"Jake Sully\", \"...</td>\n",
       "      <td>[{\"credit_id\": \"52fe48009251416c750aca23\", \"de...</td>\n",
       "    </tr>\n",
       "    <tr>\n",
       "      <th>1</th>\n",
       "      <td>285</td>\n",
       "      <td>Pirates of the Caribbean: At World's End</td>\n",
       "      <td>[{\"cast_id\": 4, \"character\": \"Captain Jack Spa...</td>\n",
       "      <td>[{\"credit_id\": \"52fe4232c3a36847f800b579\", \"de...</td>\n",
       "    </tr>\n",
       "    <tr>\n",
       "      <th>2</th>\n",
       "      <td>206647</td>\n",
       "      <td>Spectre</td>\n",
       "      <td>[{\"cast_id\": 1, \"character\": \"James Bond\", \"cr...</td>\n",
       "      <td>[{\"credit_id\": \"54805967c3a36829b5002c41\", \"de...</td>\n",
       "    </tr>\n",
       "    <tr>\n",
       "      <th>3</th>\n",
       "      <td>49026</td>\n",
       "      <td>The Dark Knight Rises</td>\n",
       "      <td>[{\"cast_id\": 2, \"character\": \"Bruce Wayne / Ba...</td>\n",
       "      <td>[{\"credit_id\": \"52fe4781c3a36847f81398c3\", \"de...</td>\n",
       "    </tr>\n",
       "    <tr>\n",
       "      <th>4</th>\n",
       "      <td>49529</td>\n",
       "      <td>John Carter</td>\n",
       "      <td>[{\"cast_id\": 5, \"character\": \"John Carter\", \"c...</td>\n",
       "      <td>[{\"credit_id\": \"52fe479ac3a36847f813eaa3\", \"de...</td>\n",
       "    </tr>\n",
       "  </tbody>\n",
       "</table>\n",
       "</div>"
      ],
      "text/plain": [
       "   movie_id                                     title  \\\n",
       "0     19995                                    Avatar   \n",
       "1       285  Pirates of the Caribbean: At World's End   \n",
       "2    206647                                   Spectre   \n",
       "3     49026                     The Dark Knight Rises   \n",
       "4     49529                               John Carter   \n",
       "\n",
       "                                                cast  \\\n",
       "0  [{\"cast_id\": 242, \"character\": \"Jake Sully\", \"...   \n",
       "1  [{\"cast_id\": 4, \"character\": \"Captain Jack Spa...   \n",
       "2  [{\"cast_id\": 1, \"character\": \"James Bond\", \"cr...   \n",
       "3  [{\"cast_id\": 2, \"character\": \"Bruce Wayne / Ba...   \n",
       "4  [{\"cast_id\": 5, \"character\": \"John Carter\", \"c...   \n",
       "\n",
       "                                                crew  \n",
       "0  [{\"credit_id\": \"52fe48009251416c750aca23\", \"de...  \n",
       "1  [{\"credit_id\": \"52fe4232c3a36847f800b579\", \"de...  \n",
       "2  [{\"credit_id\": \"54805967c3a36829b5002c41\", \"de...  \n",
       "3  [{\"credit_id\": \"52fe4781c3a36847f81398c3\", \"de...  \n",
       "4  [{\"credit_id\": \"52fe479ac3a36847f813eaa3\", \"de...  "
      ]
     },
     "execution_count": 4,
     "metadata": {},
     "output_type": "execute_result"
    }
   ],
   "source": [
    "credits.head()"
   ]
  },
  {
   "cell_type": "code",
   "execution_count": 5,
   "id": "bd404ee6",
   "metadata": {},
   "outputs": [
    {
     "data": {
      "text/plain": [
       "genres\n",
       "[{\"id\": 18, \"name\": \"Drama\"}]                                                                     370\n",
       "[{\"id\": 35, \"name\": \"Comedy\"}]                                                                    282\n",
       "[{\"id\": 18, \"name\": \"Drama\"}, {\"id\": 10749, \"name\": \"Romance\"}]                                   164\n",
       "[{\"id\": 35, \"name\": \"Comedy\"}, {\"id\": 10749, \"name\": \"Romance\"}]                                  144\n",
       "[{\"id\": 35, \"name\": \"Comedy\"}, {\"id\": 18, \"name\": \"Drama\"}]                                       142\n",
       "                                                                                                 ... \n",
       "[{\"id\": 35, \"name\": \"Comedy\"}, {\"id\": 27, \"name\": \"Horror\"}, {\"id\": 53, \"name\": \"Thriller\"}]        1\n",
       "[{\"id\": 16, \"name\": \"Animation\"}, {\"id\": 35, \"name\": \"Comedy\"}, {\"id\": 18, \"name\": \"Drama\"}]        1\n",
       "[{\"id\": 878, \"name\": \"Science Fiction\"}, {\"id\": 10751, \"name\": \"Family\"}]                           1\n",
       "[{\"id\": 27, \"name\": \"Horror\"}, {\"id\": 18, \"name\": \"Drama\"}]                                         1\n",
       "[{\"id\": 28, \"name\": \"Action\"}, {\"id\": 12, \"name\": \"Adventure\"}, {\"id\": 37, \"name\": \"Western\"}]      1\n",
       "Name: count, Length: 1175, dtype: int64"
      ]
     },
     "execution_count": 5,
     "metadata": {},
     "output_type": "execute_result"
    }
   ],
   "source": [
    "movies['genres'].value_counts()"
   ]
  },
  {
   "cell_type": "markdown",
   "id": "7013e9be",
   "metadata": {},
   "source": [
    "extract useful variable from the both the datasets and merge them together\n"
   ]
  },
  {
   "cell_type": "code",
   "execution_count": 6,
   "id": "13217983",
   "metadata": {},
   "outputs": [],
   "source": [
    "movies = movies.merge(credits , on = 'title')"
   ]
  },
  {
   "cell_type": "code",
   "execution_count": 7,
   "id": "0e14136a",
   "metadata": {},
   "outputs": [
    {
     "data": {
      "text/plain": [
       "(4809, 23)"
      ]
     },
     "execution_count": 7,
     "metadata": {},
     "output_type": "execute_result"
    }
   ],
   "source": [
    "movies.shape"
   ]
  },
  {
   "cell_type": "code",
   "execution_count": 8,
   "id": "1c577319",
   "metadata": {},
   "outputs": [
    {
     "name": "stdout",
     "output_type": "stream",
     "text": [
      "<class 'pandas.core.frame.DataFrame'>\n",
      "RangeIndex: 4809 entries, 0 to 4808\n",
      "Data columns (total 23 columns):\n",
      " #   Column                Non-Null Count  Dtype  \n",
      "---  ------                --------------  -----  \n",
      " 0   budget                4809 non-null   int64  \n",
      " 1   genres                4809 non-null   object \n",
      " 2   homepage              1713 non-null   object \n",
      " 3   id                    4809 non-null   int64  \n",
      " 4   keywords              4809 non-null   object \n",
      " 5   original_language     4809 non-null   object \n",
      " 6   original_title        4809 non-null   object \n",
      " 7   overview              4806 non-null   object \n",
      " 8   popularity            4809 non-null   float64\n",
      " 9   production_companies  4809 non-null   object \n",
      " 10  production_countries  4809 non-null   object \n",
      " 11  release_date          4808 non-null   object \n",
      " 12  revenue               4809 non-null   int64  \n",
      " 13  runtime               4807 non-null   float64\n",
      " 14  spoken_languages      4809 non-null   object \n",
      " 15  status                4809 non-null   object \n",
      " 16  tagline               3965 non-null   object \n",
      " 17  title                 4809 non-null   object \n",
      " 18  vote_average          4809 non-null   float64\n",
      " 19  vote_count            4809 non-null   int64  \n",
      " 20  movie_id              4809 non-null   int64  \n",
      " 21  cast                  4809 non-null   object \n",
      " 22  crew                  4809 non-null   object \n",
      "dtypes: float64(3), int64(5), object(15)\n",
      "memory usage: 864.2+ KB\n"
     ]
    }
   ],
   "source": [
    "movies.info()"
   ]
  },
  {
   "cell_type": "markdown",
   "id": "7d95e031",
   "metadata": {},
   "source": [
    "selecting the importent columns \n",
    "1 genres\n",
    "2 id\t\n",
    "3 keywords\n",
    "4 overview\n",
    "5 title\n",
    "6 cast\n",
    "7 crew"
   ]
  },
  {
   "cell_type": "code",
   "execution_count": 9,
   "id": "4c15a9fd",
   "metadata": {},
   "outputs": [],
   "source": [
    "movies = movies[['movie_id' , 'title','overview', 'genres' , 'keywords' , 'cast' , 'crew']]"
   ]
  },
  {
   "cell_type": "code",
   "execution_count": 10,
   "id": "238cad90",
   "metadata": {},
   "outputs": [
    {
     "data": {
      "text/plain": [
       "(4809, 7)"
      ]
     },
     "execution_count": 10,
     "metadata": {},
     "output_type": "execute_result"
    }
   ],
   "source": [
    "movies.shape"
   ]
  },
  {
   "cell_type": "code",
   "execution_count": 11,
   "id": "76f79635",
   "metadata": {},
   "outputs": [
    {
     "name": "stdout",
     "output_type": "stream",
     "text": [
      "<class 'pandas.core.frame.DataFrame'>\n",
      "RangeIndex: 4809 entries, 0 to 4808\n",
      "Data columns (total 7 columns):\n",
      " #   Column    Non-Null Count  Dtype \n",
      "---  ------    --------------  ----- \n",
      " 0   movie_id  4809 non-null   int64 \n",
      " 1   title     4809 non-null   object\n",
      " 2   overview  4806 non-null   object\n",
      " 3   genres    4809 non-null   object\n",
      " 4   keywords  4809 non-null   object\n",
      " 5   cast      4809 non-null   object\n",
      " 6   crew      4809 non-null   object\n",
      "dtypes: int64(1), object(6)\n",
      "memory usage: 263.1+ KB\n"
     ]
    }
   ],
   "source": [
    "movies.info()"
   ]
  },
  {
   "cell_type": "code",
   "execution_count": 12,
   "id": "d5141636",
   "metadata": {},
   "outputs": [
    {
     "data": {
      "text/html": [
       "<div>\n",
       "<style scoped>\n",
       "    .dataframe tbody tr th:only-of-type {\n",
       "        vertical-align: middle;\n",
       "    }\n",
       "\n",
       "    .dataframe tbody tr th {\n",
       "        vertical-align: top;\n",
       "    }\n",
       "\n",
       "    .dataframe thead th {\n",
       "        text-align: right;\n",
       "    }\n",
       "</style>\n",
       "<table border=\"1\" class=\"dataframe\">\n",
       "  <thead>\n",
       "    <tr style=\"text-align: right;\">\n",
       "      <th></th>\n",
       "      <th>movie_id</th>\n",
       "      <th>title</th>\n",
       "      <th>overview</th>\n",
       "      <th>genres</th>\n",
       "      <th>keywords</th>\n",
       "      <th>cast</th>\n",
       "      <th>crew</th>\n",
       "    </tr>\n",
       "  </thead>\n",
       "  <tbody>\n",
       "    <tr>\n",
       "      <th>3687</th>\n",
       "      <td>16337</td>\n",
       "      <td>The Texas Chainsaw Massacre 2</td>\n",
       "      <td>A radio host is victimized by the cannibal fam...</td>\n",
       "      <td>[{\"id\": 27, \"name\": \"Horror\"}]</td>\n",
       "      <td>[{\"id\": 9366, \"name\": \"hammer\"}, {\"id\": 10292,...</td>\n",
       "      <td>[{\"cast_id\": 2, \"character\": \"Lieutenant 'Left...</td>\n",
       "      <td>[{\"credit_id\": \"52fe46c79251416c750833ed\", \"de...</td>\n",
       "    </tr>\n",
       "    <tr>\n",
       "      <th>1777</th>\n",
       "      <td>41488</td>\n",
       "      <td>The Statement</td>\n",
       "      <td>The film is set in France in the 1990s, the Fr...</td>\n",
       "      <td>[{\"id\": 18, \"name\": \"Drama\"}, {\"id\": 53, \"name...</td>\n",
       "      <td>[]</td>\n",
       "      <td>[{\"cast_id\": 1, \"character\": \"Pierre Brossard\"...</td>\n",
       "      <td>[{\"credit_id\": \"55478268c3a36856e50088ff\", \"de...</td>\n",
       "    </tr>\n",
       "    <tr>\n",
       "      <th>2294</th>\n",
       "      <td>16110</td>\n",
       "      <td>Thomas and the Magic Railroad</td>\n",
       "      <td>Mr. Conductor's supply of magic gold dust, whi...</td>\n",
       "      <td>[{\"id\": 16, \"name\": \"Animation\"}, {\"id\": 18, \"...</td>\n",
       "      <td>[]</td>\n",
       "      <td>[{\"cast_id\": 1, \"character\": \"Mr. Conductor\", ...</td>\n",
       "      <td>[{\"credit_id\": \"52fe46a39251416c7507ea85\", \"de...</td>\n",
       "    </tr>\n",
       "    <tr>\n",
       "      <th>1410</th>\n",
       "      <td>2288</td>\n",
       "      <td>Closer</td>\n",
       "      <td>A witty, romantic, and very dangerous love sto...</td>\n",
       "      <td>[{\"id\": 18, \"name\": \"Drama\"}, {\"id\": 10749, \"n...</td>\n",
       "      <td>[{\"id\": 494, \"name\": \"father son relationship\"...</td>\n",
       "      <td>[{\"cast_id\": 4, \"character\": \"Anna Cameron\", \"...</td>\n",
       "      <td>[{\"credit_id\": \"52fe434ac3a36847f8048fcb\", \"de...</td>\n",
       "    </tr>\n",
       "  </tbody>\n",
       "</table>\n",
       "</div>"
      ],
      "text/plain": [
       "      movie_id                          title  \\\n",
       "3687     16337  The Texas Chainsaw Massacre 2   \n",
       "1777     41488                  The Statement   \n",
       "2294     16110  Thomas and the Magic Railroad   \n",
       "1410      2288                         Closer   \n",
       "\n",
       "                                               overview  \\\n",
       "3687  A radio host is victimized by the cannibal fam...   \n",
       "1777  The film is set in France in the 1990s, the Fr...   \n",
       "2294  Mr. Conductor's supply of magic gold dust, whi...   \n",
       "1410  A witty, romantic, and very dangerous love sto...   \n",
       "\n",
       "                                                 genres  \\\n",
       "3687                     [{\"id\": 27, \"name\": \"Horror\"}]   \n",
       "1777  [{\"id\": 18, \"name\": \"Drama\"}, {\"id\": 53, \"name...   \n",
       "2294  [{\"id\": 16, \"name\": \"Animation\"}, {\"id\": 18, \"...   \n",
       "1410  [{\"id\": 18, \"name\": \"Drama\"}, {\"id\": 10749, \"n...   \n",
       "\n",
       "                                               keywords  \\\n",
       "3687  [{\"id\": 9366, \"name\": \"hammer\"}, {\"id\": 10292,...   \n",
       "1777                                                 []   \n",
       "2294                                                 []   \n",
       "1410  [{\"id\": 494, \"name\": \"father son relationship\"...   \n",
       "\n",
       "                                                   cast  \\\n",
       "3687  [{\"cast_id\": 2, \"character\": \"Lieutenant 'Left...   \n",
       "1777  [{\"cast_id\": 1, \"character\": \"Pierre Brossard\"...   \n",
       "2294  [{\"cast_id\": 1, \"character\": \"Mr. Conductor\", ...   \n",
       "1410  [{\"cast_id\": 4, \"character\": \"Anna Cameron\", \"...   \n",
       "\n",
       "                                                   crew  \n",
       "3687  [{\"credit_id\": \"52fe46c79251416c750833ed\", \"de...  \n",
       "1777  [{\"credit_id\": \"55478268c3a36856e50088ff\", \"de...  \n",
       "2294  [{\"credit_id\": \"52fe46a39251416c7507ea85\", \"de...  \n",
       "1410  [{\"credit_id\": \"52fe434ac3a36847f8048fcb\", \"de...  "
      ]
     },
     "execution_count": 12,
     "metadata": {},
     "output_type": "execute_result"
    }
   ],
   "source": [
    "movies.sample(4)"
   ]
  },
  {
   "cell_type": "code",
   "execution_count": 13,
   "id": "12187146",
   "metadata": {},
   "outputs": [
    {
     "data": {
      "text/plain": [
       "movie_id    0\n",
       "title       0\n",
       "overview    3\n",
       "genres      0\n",
       "keywords    0\n",
       "cast        0\n",
       "crew        0\n",
       "dtype: int64"
      ]
     },
     "execution_count": 13,
     "metadata": {},
     "output_type": "execute_result"
    }
   ],
   "source": [
    "movies.isnull().sum()"
   ]
  },
  {
   "cell_type": "code",
   "execution_count": 14,
   "id": "7e1252d5",
   "metadata": {},
   "outputs": [],
   "source": [
    "movies.dropna(inplace=True)"
   ]
  },
  {
   "cell_type": "code",
   "execution_count": 15,
   "id": "f50b30e2",
   "metadata": {},
   "outputs": [
    {
     "data": {
      "text/plain": [
       "movie_id    0\n",
       "title       0\n",
       "overview    0\n",
       "genres      0\n",
       "keywords    0\n",
       "cast        0\n",
       "crew        0\n",
       "dtype: int64"
      ]
     },
     "execution_count": 15,
     "metadata": {},
     "output_type": "execute_result"
    }
   ],
   "source": [
    "movies.isnull().sum()"
   ]
  },
  {
   "cell_type": "code",
   "execution_count": 16,
   "id": "ca2bc323",
   "metadata": {},
   "outputs": [
    {
     "data": {
      "text/plain": [
       "np.int64(0)"
      ]
     },
     "execution_count": 16,
     "metadata": {},
     "output_type": "execute_result"
    }
   ],
   "source": [
    "movies.duplicated().sum()"
   ]
  },
  {
   "cell_type": "markdown",
   "id": "f1e66023",
   "metadata": {},
   "source": [
    "Now creating a new dataset with the columns movie_id , title , tags(combination od [overwiew , genres, keywords\t,cast\tcrew])\n"
   ]
  },
  {
   "cell_type": "code",
   "execution_count": 17,
   "id": "9746ef5f",
   "metadata": {},
   "outputs": [
    {
     "data": {
      "text/plain": [
       "'[{\"id\": 28, \"name\": \"Action\"}, {\"id\": 12, \"name\": \"Adventure\"}, {\"id\": 14, \"name\": \"Fantasy\"}, {\"id\": 878, \"name\": \"Science Fiction\"}]'"
      ]
     },
     "execution_count": 17,
     "metadata": {},
     "output_type": "execute_result"
    }
   ],
   "source": [
    "movies.iloc[0].genres"
   ]
  },
  {
   "cell_type": "code",
   "execution_count": 18,
   "metadata": {},
   "outputs": [],
   "source": [
    "import ast\n",
    "def convert(obj):\n",
    "    l =[]\n",
    "    for i in ast.literal_eval(obj):\n",
    "        l.append(i['name'])\n",
    "    return l\n"
   ]
  },
  {
   "cell_type": "code",
   "execution_count": 19,
   "id": "4943a2ab",
   "metadata": {},
   "outputs": [
    {
     "data": {
      "text/html": [
       "<div>\n",
       "<style scoped>\n",
       "    .dataframe tbody tr th:only-of-type {\n",
       "        vertical-align: middle;\n",
       "    }\n",
       "\n",
       "    .dataframe tbody tr th {\n",
       "        vertical-align: top;\n",
       "    }\n",
       "\n",
       "    .dataframe thead th {\n",
       "        text-align: right;\n",
       "    }\n",
       "</style>\n",
       "<table border=\"1\" class=\"dataframe\">\n",
       "  <thead>\n",
       "    <tr style=\"text-align: right;\">\n",
       "      <th></th>\n",
       "      <th>movie_id</th>\n",
       "      <th>title</th>\n",
       "      <th>overview</th>\n",
       "      <th>genres</th>\n",
       "      <th>keywords</th>\n",
       "      <th>cast</th>\n",
       "      <th>crew</th>\n",
       "    </tr>\n",
       "  </thead>\n",
       "  <tbody>\n",
       "    <tr>\n",
       "      <th>0</th>\n",
       "      <td>19995</td>\n",
       "      <td>Avatar</td>\n",
       "      <td>In the 22nd century, a paraplegic Marine is di...</td>\n",
       "      <td>[Action, Adventure, Fantasy, Science Fiction]</td>\n",
       "      <td>[{\"id\": 1463, \"name\": \"culture clash\"}, {\"id\":...</td>\n",
       "      <td>[{\"cast_id\": 242, \"character\": \"Jake Sully\", \"...</td>\n",
       "      <td>[{\"credit_id\": \"52fe48009251416c750aca23\", \"de...</td>\n",
       "    </tr>\n",
       "    <tr>\n",
       "      <th>1</th>\n",
       "      <td>285</td>\n",
       "      <td>Pirates of the Caribbean: At World's End</td>\n",
       "      <td>Captain Barbossa, long believed to be dead, ha...</td>\n",
       "      <td>[Adventure, Fantasy, Action]</td>\n",
       "      <td>[{\"id\": 270, \"name\": \"ocean\"}, {\"id\": 726, \"na...</td>\n",
       "      <td>[{\"cast_id\": 4, \"character\": \"Captain Jack Spa...</td>\n",
       "      <td>[{\"credit_id\": \"52fe4232c3a36847f800b579\", \"de...</td>\n",
       "    </tr>\n",
       "    <tr>\n",
       "      <th>2</th>\n",
       "      <td>206647</td>\n",
       "      <td>Spectre</td>\n",
       "      <td>A cryptic message from Bond’s past sends him o...</td>\n",
       "      <td>[Action, Adventure, Crime]</td>\n",
       "      <td>[{\"id\": 470, \"name\": \"spy\"}, {\"id\": 818, \"name...</td>\n",
       "      <td>[{\"cast_id\": 1, \"character\": \"James Bond\", \"cr...</td>\n",
       "      <td>[{\"credit_id\": \"54805967c3a36829b5002c41\", \"de...</td>\n",
       "    </tr>\n",
       "    <tr>\n",
       "      <th>3</th>\n",
       "      <td>49026</td>\n",
       "      <td>The Dark Knight Rises</td>\n",
       "      <td>Following the death of District Attorney Harve...</td>\n",
       "      <td>[Action, Crime, Drama, Thriller]</td>\n",
       "      <td>[{\"id\": 849, \"name\": \"dc comics\"}, {\"id\": 853,...</td>\n",
       "      <td>[{\"cast_id\": 2, \"character\": \"Bruce Wayne / Ba...</td>\n",
       "      <td>[{\"credit_id\": \"52fe4781c3a36847f81398c3\", \"de...</td>\n",
       "    </tr>\n",
       "    <tr>\n",
       "      <th>4</th>\n",
       "      <td>49529</td>\n",
       "      <td>John Carter</td>\n",
       "      <td>John Carter is a war-weary, former military ca...</td>\n",
       "      <td>[Action, Adventure, Science Fiction]</td>\n",
       "      <td>[{\"id\": 818, \"name\": \"based on novel\"}, {\"id\":...</td>\n",
       "      <td>[{\"cast_id\": 5, \"character\": \"John Carter\", \"c...</td>\n",
       "      <td>[{\"credit_id\": \"52fe479ac3a36847f813eaa3\", \"de...</td>\n",
       "    </tr>\n",
       "  </tbody>\n",
       "</table>\n",
       "</div>"
      ],
      "text/plain": [
       "   movie_id                                     title  \\\n",
       "0     19995                                    Avatar   \n",
       "1       285  Pirates of the Caribbean: At World's End   \n",
       "2    206647                                   Spectre   \n",
       "3     49026                     The Dark Knight Rises   \n",
       "4     49529                               John Carter   \n",
       "\n",
       "                                            overview  \\\n",
       "0  In the 22nd century, a paraplegic Marine is di...   \n",
       "1  Captain Barbossa, long believed to be dead, ha...   \n",
       "2  A cryptic message from Bond’s past sends him o...   \n",
       "3  Following the death of District Attorney Harve...   \n",
       "4  John Carter is a war-weary, former military ca...   \n",
       "\n",
       "                                          genres  \\\n",
       "0  [Action, Adventure, Fantasy, Science Fiction]   \n",
       "1                   [Adventure, Fantasy, Action]   \n",
       "2                     [Action, Adventure, Crime]   \n",
       "3               [Action, Crime, Drama, Thriller]   \n",
       "4           [Action, Adventure, Science Fiction]   \n",
       "\n",
       "                                            keywords  \\\n",
       "0  [{\"id\": 1463, \"name\": \"culture clash\"}, {\"id\":...   \n",
       "1  [{\"id\": 270, \"name\": \"ocean\"}, {\"id\": 726, \"na...   \n",
       "2  [{\"id\": 470, \"name\": \"spy\"}, {\"id\": 818, \"name...   \n",
       "3  [{\"id\": 849, \"name\": \"dc comics\"}, {\"id\": 853,...   \n",
       "4  [{\"id\": 818, \"name\": \"based on novel\"}, {\"id\":...   \n",
       "\n",
       "                                                cast  \\\n",
       "0  [{\"cast_id\": 242, \"character\": \"Jake Sully\", \"...   \n",
       "1  [{\"cast_id\": 4, \"character\": \"Captain Jack Spa...   \n",
       "2  [{\"cast_id\": 1, \"character\": \"James Bond\", \"cr...   \n",
       "3  [{\"cast_id\": 2, \"character\": \"Bruce Wayne / Ba...   \n",
       "4  [{\"cast_id\": 5, \"character\": \"John Carter\", \"c...   \n",
       "\n",
       "                                                crew  \n",
       "0  [{\"credit_id\": \"52fe48009251416c750aca23\", \"de...  \n",
       "1  [{\"credit_id\": \"52fe4232c3a36847f800b579\", \"de...  \n",
       "2  [{\"credit_id\": \"54805967c3a36829b5002c41\", \"de...  \n",
       "3  [{\"credit_id\": \"52fe4781c3a36847f81398c3\", \"de...  \n",
       "4  [{\"credit_id\": \"52fe479ac3a36847f813eaa3\", \"de...  "
      ]
     },
     "execution_count": 19,
     "metadata": {},
     "output_type": "execute_result"
    }
   ],
   "source": [
    "movies['genres'] = movies['genres'].apply(convert)\n",
    "movies.head()"
   ]
  },
  {
   "cell_type": "code",
   "execution_count": 20,
   "id": "c5088d32",
   "metadata": {},
   "outputs": [],
   "source": [
    "movies['keywords'] = movies['keywords'].apply(convert)\n"
   ]
  },
  {
   "cell_type": "code",
   "execution_count": 21,
   "id": "98d8ab25",
   "metadata": {},
   "outputs": [
    {
     "data": {
      "text/html": [
       "<div>\n",
       "<style scoped>\n",
       "    .dataframe tbody tr th:only-of-type {\n",
       "        vertical-align: middle;\n",
       "    }\n",
       "\n",
       "    .dataframe tbody tr th {\n",
       "        vertical-align: top;\n",
       "    }\n",
       "\n",
       "    .dataframe thead th {\n",
       "        text-align: right;\n",
       "    }\n",
       "</style>\n",
       "<table border=\"1\" class=\"dataframe\">\n",
       "  <thead>\n",
       "    <tr style=\"text-align: right;\">\n",
       "      <th></th>\n",
       "      <th>movie_id</th>\n",
       "      <th>title</th>\n",
       "      <th>overview</th>\n",
       "      <th>genres</th>\n",
       "      <th>keywords</th>\n",
       "      <th>cast</th>\n",
       "      <th>crew</th>\n",
       "    </tr>\n",
       "  </thead>\n",
       "  <tbody>\n",
       "    <tr>\n",
       "      <th>0</th>\n",
       "      <td>19995</td>\n",
       "      <td>Avatar</td>\n",
       "      <td>In the 22nd century, a paraplegic Marine is di...</td>\n",
       "      <td>[Action, Adventure, Fantasy, Science Fiction]</td>\n",
       "      <td>[culture clash, future, space war, space colon...</td>\n",
       "      <td>[{\"cast_id\": 242, \"character\": \"Jake Sully\", \"...</td>\n",
       "      <td>[{\"credit_id\": \"52fe48009251416c750aca23\", \"de...</td>\n",
       "    </tr>\n",
       "  </tbody>\n",
       "</table>\n",
       "</div>"
      ],
      "text/plain": [
       "   movie_id   title                                           overview  \\\n",
       "0     19995  Avatar  In the 22nd century, a paraplegic Marine is di...   \n",
       "\n",
       "                                          genres  \\\n",
       "0  [Action, Adventure, Fantasy, Science Fiction]   \n",
       "\n",
       "                                            keywords  \\\n",
       "0  [culture clash, future, space war, space colon...   \n",
       "\n",
       "                                                cast  \\\n",
       "0  [{\"cast_id\": 242, \"character\": \"Jake Sully\", \"...   \n",
       "\n",
       "                                                crew  \n",
       "0  [{\"credit_id\": \"52fe48009251416c750aca23\", \"de...  "
      ]
     },
     "execution_count": 21,
     "metadata": {},
     "output_type": "execute_result"
    }
   ],
   "source": [
    "movies.head(1)"
   ]
  },
  {
   "cell_type": "code",
   "execution_count": 22,
   "id": "4ca4efe5",
   "metadata": {},
   "outputs": [],
   "source": [
    "def convert_cast(obj):\n",
    "    l =[]\n",
    "    count = 0\n",
    "    for i in ast.literal_eval(obj):\n",
    "        if count != 3:\n",
    "            l.append(i['name'])\n",
    "            count += 1\n",
    "        else:\n",
    "            break\n",
    "    return l\n"
   ]
  },
  {
   "cell_type": "code",
   "execution_count": 23,
   "id": "cc2f9314",
   "metadata": {},
   "outputs": [],
   "source": [
    "movies['cast'] = movies['cast'].apply(convert_cast)"
   ]
  },
  {
   "cell_type": "code",
   "execution_count": 24,
   "id": "e1ce1613",
   "metadata": {},
   "outputs": [],
   "source": [
    "def get_Director(obj):\n",
    "    l =[]\n",
    "    for i in ast.literal_eval(obj):\n",
    "        if i['job'] == 'Director':\n",
    "            l.append(i['name'])\n",
    "            break\n",
    "    return l"
   ]
  },
  {
   "cell_type": "code",
   "execution_count": 25,
   "id": "dd7cb670",
   "metadata": {},
   "outputs": [],
   "source": [
    "movies['crew'] = movies['crew'].apply(get_Director)"
   ]
  },
  {
   "cell_type": "code",
   "execution_count": 26,
   "id": "0d35bb48",
   "metadata": {},
   "outputs": [
    {
     "data": {
      "text/html": [
       "<div>\n",
       "<style scoped>\n",
       "    .dataframe tbody tr th:only-of-type {\n",
       "        vertical-align: middle;\n",
       "    }\n",
       "\n",
       "    .dataframe tbody tr th {\n",
       "        vertical-align: top;\n",
       "    }\n",
       "\n",
       "    .dataframe thead th {\n",
       "        text-align: right;\n",
       "    }\n",
       "</style>\n",
       "<table border=\"1\" class=\"dataframe\">\n",
       "  <thead>\n",
       "    <tr style=\"text-align: right;\">\n",
       "      <th></th>\n",
       "      <th>movie_id</th>\n",
       "      <th>title</th>\n",
       "      <th>overview</th>\n",
       "      <th>genres</th>\n",
       "      <th>keywords</th>\n",
       "      <th>cast</th>\n",
       "      <th>crew</th>\n",
       "    </tr>\n",
       "  </thead>\n",
       "  <tbody>\n",
       "    <tr>\n",
       "      <th>0</th>\n",
       "      <td>19995</td>\n",
       "      <td>Avatar</td>\n",
       "      <td>In the 22nd century, a paraplegic Marine is di...</td>\n",
       "      <td>[Action, Adventure, Fantasy, Science Fiction]</td>\n",
       "      <td>[culture clash, future, space war, space colon...</td>\n",
       "      <td>[Sam Worthington, Zoe Saldana, Sigourney Weaver]</td>\n",
       "      <td>[James Cameron]</td>\n",
       "    </tr>\n",
       "    <tr>\n",
       "      <th>1</th>\n",
       "      <td>285</td>\n",
       "      <td>Pirates of the Caribbean: At World's End</td>\n",
       "      <td>Captain Barbossa, long believed to be dead, ha...</td>\n",
       "      <td>[Adventure, Fantasy, Action]</td>\n",
       "      <td>[ocean, drug abuse, exotic island, east india ...</td>\n",
       "      <td>[Johnny Depp, Orlando Bloom, Keira Knightley]</td>\n",
       "      <td>[Gore Verbinski]</td>\n",
       "    </tr>\n",
       "    <tr>\n",
       "      <th>2</th>\n",
       "      <td>206647</td>\n",
       "      <td>Spectre</td>\n",
       "      <td>A cryptic message from Bond’s past sends him o...</td>\n",
       "      <td>[Action, Adventure, Crime]</td>\n",
       "      <td>[spy, based on novel, secret agent, sequel, mi...</td>\n",
       "      <td>[Daniel Craig, Christoph Waltz, Léa Seydoux]</td>\n",
       "      <td>[Sam Mendes]</td>\n",
       "    </tr>\n",
       "  </tbody>\n",
       "</table>\n",
       "</div>"
      ],
      "text/plain": [
       "   movie_id                                     title  \\\n",
       "0     19995                                    Avatar   \n",
       "1       285  Pirates of the Caribbean: At World's End   \n",
       "2    206647                                   Spectre   \n",
       "\n",
       "                                            overview  \\\n",
       "0  In the 22nd century, a paraplegic Marine is di...   \n",
       "1  Captain Barbossa, long believed to be dead, ha...   \n",
       "2  A cryptic message from Bond’s past sends him o...   \n",
       "\n",
       "                                          genres  \\\n",
       "0  [Action, Adventure, Fantasy, Science Fiction]   \n",
       "1                   [Adventure, Fantasy, Action]   \n",
       "2                     [Action, Adventure, Crime]   \n",
       "\n",
       "                                            keywords  \\\n",
       "0  [culture clash, future, space war, space colon...   \n",
       "1  [ocean, drug abuse, exotic island, east india ...   \n",
       "2  [spy, based on novel, secret agent, sequel, mi...   \n",
       "\n",
       "                                               cast              crew  \n",
       "0  [Sam Worthington, Zoe Saldana, Sigourney Weaver]   [James Cameron]  \n",
       "1     [Johnny Depp, Orlando Bloom, Keira Knightley]  [Gore Verbinski]  \n",
       "2      [Daniel Craig, Christoph Waltz, Léa Seydoux]      [Sam Mendes]  "
      ]
     },
     "execution_count": 26,
     "metadata": {},
     "output_type": "execute_result"
    }
   ],
   "source": [
    "movies.head(3)"
   ]
  },
  {
   "cell_type": "code",
   "execution_count": 27,
   "id": "cc47db66",
   "metadata": {},
   "outputs": [],
   "source": [
    "movies['overview'] = movies['overview'].apply(lambda x: x.split())"
   ]
  },
  {
   "cell_type": "code",
   "execution_count": 28,
   "id": "9c766ced",
   "metadata": {},
   "outputs": [
    {
     "data": {
      "text/html": [
       "<div>\n",
       "<style scoped>\n",
       "    .dataframe tbody tr th:only-of-type {\n",
       "        vertical-align: middle;\n",
       "    }\n",
       "\n",
       "    .dataframe tbody tr th {\n",
       "        vertical-align: top;\n",
       "    }\n",
       "\n",
       "    .dataframe thead th {\n",
       "        text-align: right;\n",
       "    }\n",
       "</style>\n",
       "<table border=\"1\" class=\"dataframe\">\n",
       "  <thead>\n",
       "    <tr style=\"text-align: right;\">\n",
       "      <th></th>\n",
       "      <th>movie_id</th>\n",
       "      <th>title</th>\n",
       "      <th>overview</th>\n",
       "      <th>genres</th>\n",
       "      <th>keywords</th>\n",
       "      <th>cast</th>\n",
       "      <th>crew</th>\n",
       "    </tr>\n",
       "  </thead>\n",
       "  <tbody>\n",
       "    <tr>\n",
       "      <th>1484</th>\n",
       "      <td>71469</td>\n",
       "      <td>The Darkest Hour</td>\n",
       "      <td>[In, Moscow,, five, young, people, lead, the, ...</td>\n",
       "      <td>[Horror, Action, Thriller, Science Fiction]</td>\n",
       "      <td>[alien invasion, american abroad, moscow, unli...</td>\n",
       "      <td>[Emile Hirsch, Rachael Taylor, Olivia Thirlby]</td>\n",
       "      <td>[Chris Gorak]</td>\n",
       "    </tr>\n",
       "    <tr>\n",
       "      <th>2048</th>\n",
       "      <td>5550</td>\n",
       "      <td>RoboCop 3</td>\n",
       "      <td>[The, mega, corporation, Omni, Consumer, Produ...</td>\n",
       "      <td>[Action, Adventure, Crime, Science Fiction, Th...</td>\n",
       "      <td>[cyborg, dystopia, police, sequel, cyberpunk, ...</td>\n",
       "      <td>[Robert John Burke, Nancy Allen, Mario Machado]</td>\n",
       "      <td>[Fred Dekker]</td>\n",
       "    </tr>\n",
       "    <tr>\n",
       "      <th>203</th>\n",
       "      <td>36658</td>\n",
       "      <td>X2</td>\n",
       "      <td>[Professor, Charles, Xavier, and, his, team, o...</td>\n",
       "      <td>[Adventure, Action, Science Fiction, Thriller]</td>\n",
       "      <td>[mutant, marvel comic, superhero, based on com...</td>\n",
       "      <td>[Patrick Stewart, Hugh Jackman, Ian McKellen]</td>\n",
       "      <td>[Bryan Singer]</td>\n",
       "    </tr>\n",
       "    <tr>\n",
       "      <th>2878</th>\n",
       "      <td>14778</td>\n",
       "      <td>Last Orders</td>\n",
       "      <td>[Jack, Dodd, was, a, London, butcher, who, enj...</td>\n",
       "      <td>[Comedy, Drama]</td>\n",
       "      <td>[based on novel, war veteran, male friendship,...</td>\n",
       "      <td>[Michael Caine, Tom Courtenay, David Hemmings]</td>\n",
       "      <td>[Fred Schepisi]</td>\n",
       "    </tr>\n",
       "    <tr>\n",
       "      <th>1937</th>\n",
       "      <td>9912</td>\n",
       "      <td>The World's Fastest Indian</td>\n",
       "      <td>[The, life, story, of, New, Zealander, Burt, M...</td>\n",
       "      <td>[Drama]</td>\n",
       "      <td>[new zealand, utah, life's dream, independent ...</td>\n",
       "      <td>[Anthony Hopkins, Iain Rea, Tessa Mitchell]</td>\n",
       "      <td>[Roger Donaldson]</td>\n",
       "    </tr>\n",
       "  </tbody>\n",
       "</table>\n",
       "</div>"
      ],
      "text/plain": [
       "      movie_id                       title  \\\n",
       "1484     71469            The Darkest Hour   \n",
       "2048      5550                   RoboCop 3   \n",
       "203      36658                          X2   \n",
       "2878     14778                 Last Orders   \n",
       "1937      9912  The World's Fastest Indian   \n",
       "\n",
       "                                               overview  \\\n",
       "1484  [In, Moscow,, five, young, people, lead, the, ...   \n",
       "2048  [The, mega, corporation, Omni, Consumer, Produ...   \n",
       "203   [Professor, Charles, Xavier, and, his, team, o...   \n",
       "2878  [Jack, Dodd, was, a, London, butcher, who, enj...   \n",
       "1937  [The, life, story, of, New, Zealander, Burt, M...   \n",
       "\n",
       "                                                 genres  \\\n",
       "1484        [Horror, Action, Thriller, Science Fiction]   \n",
       "2048  [Action, Adventure, Crime, Science Fiction, Th...   \n",
       "203      [Adventure, Action, Science Fiction, Thriller]   \n",
       "2878                                    [Comedy, Drama]   \n",
       "1937                                            [Drama]   \n",
       "\n",
       "                                               keywords  \\\n",
       "1484  [alien invasion, american abroad, moscow, unli...   \n",
       "2048  [cyborg, dystopia, police, sequel, cyberpunk, ...   \n",
       "203   [mutant, marvel comic, superhero, based on com...   \n",
       "2878  [based on novel, war veteran, male friendship,...   \n",
       "1937  [new zealand, utah, life's dream, independent ...   \n",
       "\n",
       "                                                 cast               crew  \n",
       "1484   [Emile Hirsch, Rachael Taylor, Olivia Thirlby]      [Chris Gorak]  \n",
       "2048  [Robert John Burke, Nancy Allen, Mario Machado]      [Fred Dekker]  \n",
       "203     [Patrick Stewart, Hugh Jackman, Ian McKellen]     [Bryan Singer]  \n",
       "2878   [Michael Caine, Tom Courtenay, David Hemmings]    [Fred Schepisi]  \n",
       "1937      [Anthony Hopkins, Iain Rea, Tessa Mitchell]  [Roger Donaldson]  "
      ]
     },
     "execution_count": 28,
     "metadata": {},
     "output_type": "execute_result"
    }
   ],
   "source": [
    "movies.sample(5)"
   ]
  },
  {
   "cell_type": "code",
   "execution_count": 29,
   "id": "37f36d46",
   "metadata": {},
   "outputs": [],
   "source": [
    "movies['genres'] = movies['genres'].apply(lambda x:[i.replace(\" \" ,\"\")for i in x])\n",
    "movies['keywords'] = movies['keywords'].apply(lambda x:[i.replace(\" \" ,\"\")for i in x])\n",
    "movies['cast'] = movies['cast'].apply(lambda x:[i.replace(\" \" ,\"\")for i in x])\n",
    "movies['crew'] = movies['crew'].apply(lambda x:[i.replace(\" \" ,\"\")for i in x])\n"
   ]
  },
  {
   "cell_type": "code",
   "execution_count": 30,
   "id": "080374a7",
   "metadata": {},
   "outputs": [
    {
     "data": {
      "text/html": [
       "<div>\n",
       "<style scoped>\n",
       "    .dataframe tbody tr th:only-of-type {\n",
       "        vertical-align: middle;\n",
       "    }\n",
       "\n",
       "    .dataframe tbody tr th {\n",
       "        vertical-align: top;\n",
       "    }\n",
       "\n",
       "    .dataframe thead th {\n",
       "        text-align: right;\n",
       "    }\n",
       "</style>\n",
       "<table border=\"1\" class=\"dataframe\">\n",
       "  <thead>\n",
       "    <tr style=\"text-align: right;\">\n",
       "      <th></th>\n",
       "      <th>movie_id</th>\n",
       "      <th>title</th>\n",
       "      <th>overview</th>\n",
       "      <th>genres</th>\n",
       "      <th>keywords</th>\n",
       "      <th>cast</th>\n",
       "      <th>crew</th>\n",
       "    </tr>\n",
       "  </thead>\n",
       "  <tbody>\n",
       "    <tr>\n",
       "      <th>0</th>\n",
       "      <td>19995</td>\n",
       "      <td>Avatar</td>\n",
       "      <td>[In, the, 22nd, century,, a, paraplegic, Marin...</td>\n",
       "      <td>[Action, Adventure, Fantasy, ScienceFiction]</td>\n",
       "      <td>[cultureclash, future, spacewar, spacecolony, ...</td>\n",
       "      <td>[SamWorthington, ZoeSaldana, SigourneyWeaver]</td>\n",
       "      <td>[JamesCameron]</td>\n",
       "    </tr>\n",
       "    <tr>\n",
       "      <th>1</th>\n",
       "      <td>285</td>\n",
       "      <td>Pirates of the Caribbean: At World's End</td>\n",
       "      <td>[Captain, Barbossa,, long, believed, to, be, d...</td>\n",
       "      <td>[Adventure, Fantasy, Action]</td>\n",
       "      <td>[ocean, drugabuse, exoticisland, eastindiatrad...</td>\n",
       "      <td>[JohnnyDepp, OrlandoBloom, KeiraKnightley]</td>\n",
       "      <td>[GoreVerbinski]</td>\n",
       "    </tr>\n",
       "    <tr>\n",
       "      <th>2</th>\n",
       "      <td>206647</td>\n",
       "      <td>Spectre</td>\n",
       "      <td>[A, cryptic, message, from, Bond’s, past, send...</td>\n",
       "      <td>[Action, Adventure, Crime]</td>\n",
       "      <td>[spy, basedonnovel, secretagent, sequel, mi6, ...</td>\n",
       "      <td>[DanielCraig, ChristophWaltz, LéaSeydoux]</td>\n",
       "      <td>[SamMendes]</td>\n",
       "    </tr>\n",
       "    <tr>\n",
       "      <th>3</th>\n",
       "      <td>49026</td>\n",
       "      <td>The Dark Knight Rises</td>\n",
       "      <td>[Following, the, death, of, District, Attorney...</td>\n",
       "      <td>[Action, Crime, Drama, Thriller]</td>\n",
       "      <td>[dccomics, crimefighter, terrorist, secretiden...</td>\n",
       "      <td>[ChristianBale, MichaelCaine, GaryOldman]</td>\n",
       "      <td>[ChristopherNolan]</td>\n",
       "    </tr>\n",
       "    <tr>\n",
       "      <th>4</th>\n",
       "      <td>49529</td>\n",
       "      <td>John Carter</td>\n",
       "      <td>[John, Carter, is, a, war-weary,, former, mili...</td>\n",
       "      <td>[Action, Adventure, ScienceFiction]</td>\n",
       "      <td>[basedonnovel, mars, medallion, spacetravel, p...</td>\n",
       "      <td>[TaylorKitsch, LynnCollins, SamanthaMorton]</td>\n",
       "      <td>[AndrewStanton]</td>\n",
       "    </tr>\n",
       "  </tbody>\n",
       "</table>\n",
       "</div>"
      ],
      "text/plain": [
       "   movie_id                                     title  \\\n",
       "0     19995                                    Avatar   \n",
       "1       285  Pirates of the Caribbean: At World's End   \n",
       "2    206647                                   Spectre   \n",
       "3     49026                     The Dark Knight Rises   \n",
       "4     49529                               John Carter   \n",
       "\n",
       "                                            overview  \\\n",
       "0  [In, the, 22nd, century,, a, paraplegic, Marin...   \n",
       "1  [Captain, Barbossa,, long, believed, to, be, d...   \n",
       "2  [A, cryptic, message, from, Bond’s, past, send...   \n",
       "3  [Following, the, death, of, District, Attorney...   \n",
       "4  [John, Carter, is, a, war-weary,, former, mili...   \n",
       "\n",
       "                                         genres  \\\n",
       "0  [Action, Adventure, Fantasy, ScienceFiction]   \n",
       "1                  [Adventure, Fantasy, Action]   \n",
       "2                    [Action, Adventure, Crime]   \n",
       "3              [Action, Crime, Drama, Thriller]   \n",
       "4           [Action, Adventure, ScienceFiction]   \n",
       "\n",
       "                                            keywords  \\\n",
       "0  [cultureclash, future, spacewar, spacecolony, ...   \n",
       "1  [ocean, drugabuse, exoticisland, eastindiatrad...   \n",
       "2  [spy, basedonnovel, secretagent, sequel, mi6, ...   \n",
       "3  [dccomics, crimefighter, terrorist, secretiden...   \n",
       "4  [basedonnovel, mars, medallion, spacetravel, p...   \n",
       "\n",
       "                                            cast                crew  \n",
       "0  [SamWorthington, ZoeSaldana, SigourneyWeaver]      [JamesCameron]  \n",
       "1     [JohnnyDepp, OrlandoBloom, KeiraKnightley]     [GoreVerbinski]  \n",
       "2      [DanielCraig, ChristophWaltz, LéaSeydoux]         [SamMendes]  \n",
       "3      [ChristianBale, MichaelCaine, GaryOldman]  [ChristopherNolan]  \n",
       "4    [TaylorKitsch, LynnCollins, SamanthaMorton]     [AndrewStanton]  "
      ]
     },
     "execution_count": 30,
     "metadata": {},
     "output_type": "execute_result"
    }
   ],
   "source": [
    "movies.head()"
   ]
  },
  {
   "cell_type": "code",
   "execution_count": 31,
   "id": "19e1ac68",
   "metadata": {},
   "outputs": [],
   "source": [
    "movies['tags'] = movies['overview'] + movies['genres'] + movies['keywords'] + movies['cast'] + movies['crew']"
   ]
  },
  {
   "cell_type": "code",
   "execution_count": null,
   "id": "8b871833",
   "metadata": {},
   "outputs": [],
   "source": []
  },
  {
   "cell_type": "code",
   "execution_count": 32,
   "id": "91df1f99",
   "metadata": {},
   "outputs": [
    {
     "data": {
      "text/html": [
       "<div>\n",
       "<style scoped>\n",
       "    .dataframe tbody tr th:only-of-type {\n",
       "        vertical-align: middle;\n",
       "    }\n",
       "\n",
       "    .dataframe tbody tr th {\n",
       "        vertical-align: top;\n",
       "    }\n",
       "\n",
       "    .dataframe thead th {\n",
       "        text-align: right;\n",
       "    }\n",
       "</style>\n",
       "<table border=\"1\" class=\"dataframe\">\n",
       "  <thead>\n",
       "    <tr style=\"text-align: right;\">\n",
       "      <th></th>\n",
       "      <th>movie_id</th>\n",
       "      <th>title</th>\n",
       "      <th>overview</th>\n",
       "      <th>genres</th>\n",
       "      <th>keywords</th>\n",
       "      <th>cast</th>\n",
       "      <th>crew</th>\n",
       "      <th>tags</th>\n",
       "    </tr>\n",
       "  </thead>\n",
       "  <tbody>\n",
       "    <tr>\n",
       "      <th>0</th>\n",
       "      <td>19995</td>\n",
       "      <td>Avatar</td>\n",
       "      <td>[In, the, 22nd, century,, a, paraplegic, Marin...</td>\n",
       "      <td>[Action, Adventure, Fantasy, ScienceFiction]</td>\n",
       "      <td>[cultureclash, future, spacewar, spacecolony, ...</td>\n",
       "      <td>[SamWorthington, ZoeSaldana, SigourneyWeaver]</td>\n",
       "      <td>[JamesCameron]</td>\n",
       "      <td>[In, the, 22nd, century,, a, paraplegic, Marin...</td>\n",
       "    </tr>\n",
       "    <tr>\n",
       "      <th>1</th>\n",
       "      <td>285</td>\n",
       "      <td>Pirates of the Caribbean: At World's End</td>\n",
       "      <td>[Captain, Barbossa,, long, believed, to, be, d...</td>\n",
       "      <td>[Adventure, Fantasy, Action]</td>\n",
       "      <td>[ocean, drugabuse, exoticisland, eastindiatrad...</td>\n",
       "      <td>[JohnnyDepp, OrlandoBloom, KeiraKnightley]</td>\n",
       "      <td>[GoreVerbinski]</td>\n",
       "      <td>[Captain, Barbossa,, long, believed, to, be, d...</td>\n",
       "    </tr>\n",
       "    <tr>\n",
       "      <th>2</th>\n",
       "      <td>206647</td>\n",
       "      <td>Spectre</td>\n",
       "      <td>[A, cryptic, message, from, Bond’s, past, send...</td>\n",
       "      <td>[Action, Adventure, Crime]</td>\n",
       "      <td>[spy, basedonnovel, secretagent, sequel, mi6, ...</td>\n",
       "      <td>[DanielCraig, ChristophWaltz, LéaSeydoux]</td>\n",
       "      <td>[SamMendes]</td>\n",
       "      <td>[A, cryptic, message, from, Bond’s, past, send...</td>\n",
       "    </tr>\n",
       "    <tr>\n",
       "      <th>3</th>\n",
       "      <td>49026</td>\n",
       "      <td>The Dark Knight Rises</td>\n",
       "      <td>[Following, the, death, of, District, Attorney...</td>\n",
       "      <td>[Action, Crime, Drama, Thriller]</td>\n",
       "      <td>[dccomics, crimefighter, terrorist, secretiden...</td>\n",
       "      <td>[ChristianBale, MichaelCaine, GaryOldman]</td>\n",
       "      <td>[ChristopherNolan]</td>\n",
       "      <td>[Following, the, death, of, District, Attorney...</td>\n",
       "    </tr>\n",
       "    <tr>\n",
       "      <th>4</th>\n",
       "      <td>49529</td>\n",
       "      <td>John Carter</td>\n",
       "      <td>[John, Carter, is, a, war-weary,, former, mili...</td>\n",
       "      <td>[Action, Adventure, ScienceFiction]</td>\n",
       "      <td>[basedonnovel, mars, medallion, spacetravel, p...</td>\n",
       "      <td>[TaylorKitsch, LynnCollins, SamanthaMorton]</td>\n",
       "      <td>[AndrewStanton]</td>\n",
       "      <td>[John, Carter, is, a, war-weary,, former, mili...</td>\n",
       "    </tr>\n",
       "  </tbody>\n",
       "</table>\n",
       "</div>"
      ],
      "text/plain": [
       "   movie_id                                     title  \\\n",
       "0     19995                                    Avatar   \n",
       "1       285  Pirates of the Caribbean: At World's End   \n",
       "2    206647                                   Spectre   \n",
       "3     49026                     The Dark Knight Rises   \n",
       "4     49529                               John Carter   \n",
       "\n",
       "                                            overview  \\\n",
       "0  [In, the, 22nd, century,, a, paraplegic, Marin...   \n",
       "1  [Captain, Barbossa,, long, believed, to, be, d...   \n",
       "2  [A, cryptic, message, from, Bond’s, past, send...   \n",
       "3  [Following, the, death, of, District, Attorney...   \n",
       "4  [John, Carter, is, a, war-weary,, former, mili...   \n",
       "\n",
       "                                         genres  \\\n",
       "0  [Action, Adventure, Fantasy, ScienceFiction]   \n",
       "1                  [Adventure, Fantasy, Action]   \n",
       "2                    [Action, Adventure, Crime]   \n",
       "3              [Action, Crime, Drama, Thriller]   \n",
       "4           [Action, Adventure, ScienceFiction]   \n",
       "\n",
       "                                            keywords  \\\n",
       "0  [cultureclash, future, spacewar, spacecolony, ...   \n",
       "1  [ocean, drugabuse, exoticisland, eastindiatrad...   \n",
       "2  [spy, basedonnovel, secretagent, sequel, mi6, ...   \n",
       "3  [dccomics, crimefighter, terrorist, secretiden...   \n",
       "4  [basedonnovel, mars, medallion, spacetravel, p...   \n",
       "\n",
       "                                            cast                crew  \\\n",
       "0  [SamWorthington, ZoeSaldana, SigourneyWeaver]      [JamesCameron]   \n",
       "1     [JohnnyDepp, OrlandoBloom, KeiraKnightley]     [GoreVerbinski]   \n",
       "2      [DanielCraig, ChristophWaltz, LéaSeydoux]         [SamMendes]   \n",
       "3      [ChristianBale, MichaelCaine, GaryOldman]  [ChristopherNolan]   \n",
       "4    [TaylorKitsch, LynnCollins, SamanthaMorton]     [AndrewStanton]   \n",
       "\n",
       "                                                tags  \n",
       "0  [In, the, 22nd, century,, a, paraplegic, Marin...  \n",
       "1  [Captain, Barbossa,, long, believed, to, be, d...  \n",
       "2  [A, cryptic, message, from, Bond’s, past, send...  \n",
       "3  [Following, the, death, of, District, Attorney...  \n",
       "4  [John, Carter, is, a, war-weary,, former, mili...  "
      ]
     },
     "execution_count": 32,
     "metadata": {},
     "output_type": "execute_result"
    }
   ],
   "source": [
    "movies.head()"
   ]
  },
  {
   "cell_type": "code",
   "execution_count": 33,
   "id": "47720221",
   "metadata": {},
   "outputs": [],
   "source": [
    "new_df = movies[['movie_id', 'title' , 'tags']]"
   ]
  },
  {
   "cell_type": "code",
   "execution_count": 34,
   "id": "8d513ecd",
   "metadata": {},
   "outputs": [
    {
     "data": {
      "text/html": [
       "<div>\n",
       "<style scoped>\n",
       "    .dataframe tbody tr th:only-of-type {\n",
       "        vertical-align: middle;\n",
       "    }\n",
       "\n",
       "    .dataframe tbody tr th {\n",
       "        vertical-align: top;\n",
       "    }\n",
       "\n",
       "    .dataframe thead th {\n",
       "        text-align: right;\n",
       "    }\n",
       "</style>\n",
       "<table border=\"1\" class=\"dataframe\">\n",
       "  <thead>\n",
       "    <tr style=\"text-align: right;\">\n",
       "      <th></th>\n",
       "      <th>movie_id</th>\n",
       "      <th>title</th>\n",
       "      <th>tags</th>\n",
       "    </tr>\n",
       "  </thead>\n",
       "  <tbody>\n",
       "    <tr>\n",
       "      <th>0</th>\n",
       "      <td>19995</td>\n",
       "      <td>Avatar</td>\n",
       "      <td>[In, the, 22nd, century,, a, paraplegic, Marin...</td>\n",
       "    </tr>\n",
       "    <tr>\n",
       "      <th>1</th>\n",
       "      <td>285</td>\n",
       "      <td>Pirates of the Caribbean: At World's End</td>\n",
       "      <td>[Captain, Barbossa,, long, believed, to, be, d...</td>\n",
       "    </tr>\n",
       "    <tr>\n",
       "      <th>2</th>\n",
       "      <td>206647</td>\n",
       "      <td>Spectre</td>\n",
       "      <td>[A, cryptic, message, from, Bond’s, past, send...</td>\n",
       "    </tr>\n",
       "    <tr>\n",
       "      <th>3</th>\n",
       "      <td>49026</td>\n",
       "      <td>The Dark Knight Rises</td>\n",
       "      <td>[Following, the, death, of, District, Attorney...</td>\n",
       "    </tr>\n",
       "    <tr>\n",
       "      <th>4</th>\n",
       "      <td>49529</td>\n",
       "      <td>John Carter</td>\n",
       "      <td>[John, Carter, is, a, war-weary,, former, mili...</td>\n",
       "    </tr>\n",
       "  </tbody>\n",
       "</table>\n",
       "</div>"
      ],
      "text/plain": [
       "   movie_id                                     title  \\\n",
       "0     19995                                    Avatar   \n",
       "1       285  Pirates of the Caribbean: At World's End   \n",
       "2    206647                                   Spectre   \n",
       "3     49026                     The Dark Knight Rises   \n",
       "4     49529                               John Carter   \n",
       "\n",
       "                                                tags  \n",
       "0  [In, the, 22nd, century,, a, paraplegic, Marin...  \n",
       "1  [Captain, Barbossa,, long, believed, to, be, d...  \n",
       "2  [A, cryptic, message, from, Bond’s, past, send...  \n",
       "3  [Following, the, death, of, District, Attorney...  \n",
       "4  [John, Carter, is, a, war-weary,, former, mili...  "
      ]
     },
     "execution_count": 34,
     "metadata": {},
     "output_type": "execute_result"
    }
   ],
   "source": [
    "new_df.head()"
   ]
  },
  {
   "cell_type": "code",
   "execution_count": 35,
   "id": "19a6b176",
   "metadata": {},
   "outputs": [
    {
     "name": "stderr",
     "output_type": "stream",
     "text": [
      "C:\\Users\\Hp\\AppData\\Local\\Temp\\ipykernel_3552\\4205366112.py:2: SettingWithCopyWarning: \n",
      "A value is trying to be set on a copy of a slice from a DataFrame.\n",
      "Try using .loc[row_indexer,col_indexer] = value instead\n",
      "\n",
      "See the caveats in the documentation: https://pandas.pydata.org/pandas-docs/stable/user_guide/indexing.html#returning-a-view-versus-a-copy\n",
      "  new_df['tags'] = new_df['tags'].apply(lambda x: \" \".join(x))\n"
     ]
    }
   ],
   "source": [
    "#convert the tags[list] to string\n",
    "new_df['tags'] = new_df['tags'].apply(lambda x: \" \".join(x))"
   ]
  },
  {
   "cell_type": "code",
   "execution_count": 36,
   "id": "83e5e43c",
   "metadata": {},
   "outputs": [
    {
     "data": {
      "text/html": [
       "<div>\n",
       "<style scoped>\n",
       "    .dataframe tbody tr th:only-of-type {\n",
       "        vertical-align: middle;\n",
       "    }\n",
       "\n",
       "    .dataframe tbody tr th {\n",
       "        vertical-align: top;\n",
       "    }\n",
       "\n",
       "    .dataframe thead th {\n",
       "        text-align: right;\n",
       "    }\n",
       "</style>\n",
       "<table border=\"1\" class=\"dataframe\">\n",
       "  <thead>\n",
       "    <tr style=\"text-align: right;\">\n",
       "      <th></th>\n",
       "      <th>movie_id</th>\n",
       "      <th>title</th>\n",
       "      <th>tags</th>\n",
       "    </tr>\n",
       "  </thead>\n",
       "  <tbody>\n",
       "    <tr>\n",
       "      <th>0</th>\n",
       "      <td>19995</td>\n",
       "      <td>Avatar</td>\n",
       "      <td>In the 22nd century, a paraplegic Marine is di...</td>\n",
       "    </tr>\n",
       "    <tr>\n",
       "      <th>1</th>\n",
       "      <td>285</td>\n",
       "      <td>Pirates of the Caribbean: At World's End</td>\n",
       "      <td>Captain Barbossa, long believed to be dead, ha...</td>\n",
       "    </tr>\n",
       "    <tr>\n",
       "      <th>2</th>\n",
       "      <td>206647</td>\n",
       "      <td>Spectre</td>\n",
       "      <td>A cryptic message from Bond’s past sends him o...</td>\n",
       "    </tr>\n",
       "    <tr>\n",
       "      <th>3</th>\n",
       "      <td>49026</td>\n",
       "      <td>The Dark Knight Rises</td>\n",
       "      <td>Following the death of District Attorney Harve...</td>\n",
       "    </tr>\n",
       "    <tr>\n",
       "      <th>4</th>\n",
       "      <td>49529</td>\n",
       "      <td>John Carter</td>\n",
       "      <td>John Carter is a war-weary, former military ca...</td>\n",
       "    </tr>\n",
       "  </tbody>\n",
       "</table>\n",
       "</div>"
      ],
      "text/plain": [
       "   movie_id                                     title  \\\n",
       "0     19995                                    Avatar   \n",
       "1       285  Pirates of the Caribbean: At World's End   \n",
       "2    206647                                   Spectre   \n",
       "3     49026                     The Dark Knight Rises   \n",
       "4     49529                               John Carter   \n",
       "\n",
       "                                                tags  \n",
       "0  In the 22nd century, a paraplegic Marine is di...  \n",
       "1  Captain Barbossa, long believed to be dead, ha...  \n",
       "2  A cryptic message from Bond’s past sends him o...  \n",
       "3  Following the death of District Attorney Harve...  \n",
       "4  John Carter is a war-weary, former military ca...  "
      ]
     },
     "execution_count": 36,
     "metadata": {},
     "output_type": "execute_result"
    }
   ],
   "source": [
    "new_df.head()"
   ]
  },
  {
   "cell_type": "code",
   "execution_count": 37,
   "id": "a5539103",
   "metadata": {},
   "outputs": [
    {
     "name": "stderr",
     "output_type": "stream",
     "text": [
      "C:\\Users\\Hp\\AppData\\Local\\Temp\\ipykernel_3552\\4018861174.py:2: SettingWithCopyWarning: \n",
      "A value is trying to be set on a copy of a slice from a DataFrame.\n",
      "Try using .loc[row_indexer,col_indexer] = value instead\n",
      "\n",
      "See the caveats in the documentation: https://pandas.pydata.org/pandas-docs/stable/user_guide/indexing.html#returning-a-view-versus-a-copy\n",
      "  new_df['tags'] = new_df['tags'].apply(lambda x: x.lower())\n"
     ]
    }
   ],
   "source": [
    "#convert the tags into lowercare\n",
    "new_df['tags'] = new_df['tags'].apply(lambda x: x.lower())"
   ]
  },
  {
   "cell_type": "code",
   "execution_count": 38,
   "id": "5b518afe",
   "metadata": {},
   "outputs": [
    {
     "data": {
      "text/html": [
       "<div>\n",
       "<style scoped>\n",
       "    .dataframe tbody tr th:only-of-type {\n",
       "        vertical-align: middle;\n",
       "    }\n",
       "\n",
       "    .dataframe tbody tr th {\n",
       "        vertical-align: top;\n",
       "    }\n",
       "\n",
       "    .dataframe thead th {\n",
       "        text-align: right;\n",
       "    }\n",
       "</style>\n",
       "<table border=\"1\" class=\"dataframe\">\n",
       "  <thead>\n",
       "    <tr style=\"text-align: right;\">\n",
       "      <th></th>\n",
       "      <th>movie_id</th>\n",
       "      <th>title</th>\n",
       "      <th>tags</th>\n",
       "    </tr>\n",
       "  </thead>\n",
       "  <tbody>\n",
       "    <tr>\n",
       "      <th>0</th>\n",
       "      <td>19995</td>\n",
       "      <td>Avatar</td>\n",
       "      <td>in the 22nd century, a paraplegic marine is di...</td>\n",
       "    </tr>\n",
       "    <tr>\n",
       "      <th>1</th>\n",
       "      <td>285</td>\n",
       "      <td>Pirates of the Caribbean: At World's End</td>\n",
       "      <td>captain barbossa, long believed to be dead, ha...</td>\n",
       "    </tr>\n",
       "    <tr>\n",
       "      <th>2</th>\n",
       "      <td>206647</td>\n",
       "      <td>Spectre</td>\n",
       "      <td>a cryptic message from bond’s past sends him o...</td>\n",
       "    </tr>\n",
       "    <tr>\n",
       "      <th>3</th>\n",
       "      <td>49026</td>\n",
       "      <td>The Dark Knight Rises</td>\n",
       "      <td>following the death of district attorney harve...</td>\n",
       "    </tr>\n",
       "    <tr>\n",
       "      <th>4</th>\n",
       "      <td>49529</td>\n",
       "      <td>John Carter</td>\n",
       "      <td>john carter is a war-weary, former military ca...</td>\n",
       "    </tr>\n",
       "  </tbody>\n",
       "</table>\n",
       "</div>"
      ],
      "text/plain": [
       "   movie_id                                     title  \\\n",
       "0     19995                                    Avatar   \n",
       "1       285  Pirates of the Caribbean: At World's End   \n",
       "2    206647                                   Spectre   \n",
       "3     49026                     The Dark Knight Rises   \n",
       "4     49529                               John Carter   \n",
       "\n",
       "                                                tags  \n",
       "0  in the 22nd century, a paraplegic marine is di...  \n",
       "1  captain barbossa, long believed to be dead, ha...  \n",
       "2  a cryptic message from bond’s past sends him o...  \n",
       "3  following the death of district attorney harve...  \n",
       "4  john carter is a war-weary, former military ca...  "
      ]
     },
     "execution_count": 38,
     "metadata": {},
     "output_type": "execute_result"
    }
   ],
   "source": [
    "new_df.head()"
   ]
  },
  {
   "cell_type": "code",
   "execution_count": 39,
   "id": "883a07ad",
   "metadata": {},
   "outputs": [],
   "source": [
    "#text vectorization of coumn tags using skitlearn freatureExtraction.text \n",
    "from sklearn.feature_extraction.text import CountVectorizer"
   ]
  },
  {
   "cell_type": "code",
   "execution_count": 40,
   "id": "ff3153bc",
   "metadata": {},
   "outputs": [],
   "source": [
    "cv = CountVectorizer(max_features=5000 , stop_words='english')"
   ]
  },
  {
   "cell_type": "code",
   "execution_count": 41,
   "id": "236d4185",
   "metadata": {},
   "outputs": [
    {
     "data": {
      "text/plain": [
       "array([[0, 0, 0, ..., 0, 0, 0],\n",
       "       [0, 0, 0, ..., 0, 0, 0],\n",
       "       [0, 0, 0, ..., 0, 0, 0],\n",
       "       ...,\n",
       "       [0, 0, 0, ..., 0, 0, 0],\n",
       "       [0, 0, 0, ..., 0, 0, 0],\n",
       "       [0, 0, 0, ..., 0, 0, 0]])"
      ]
     },
     "execution_count": 41,
     "metadata": {},
     "output_type": "execute_result"
    }
   ],
   "source": [
    "vactors = cv.fit_transform(new_df['tags']).toarray()\n",
    "vactors"
   ]
  },
  {
   "cell_type": "code",
   "execution_count": 42,
   "id": "2cdc3265",
   "metadata": {},
   "outputs": [
    {
     "data": {
      "text/plain": [
       "array(['000', '007', '10', ..., 'zone', 'zoo', 'zooeydeschanel'],\n",
       "      dtype=object)"
      ]
     },
     "execution_count": 42,
     "metadata": {},
     "output_type": "execute_result"
    }
   ],
   "source": [
    "cv.get_feature_names_out()"
   ]
  },
  {
   "cell_type": "code",
   "execution_count": 43,
   "id": "4f1b394f",
   "metadata": {},
   "outputs": [],
   "source": [
    "import nltk"
   ]
  },
  {
   "cell_type": "code",
   "execution_count": 44,
   "id": "da50ead7",
   "metadata": {},
   "outputs": [],
   "source": [
    "from nltk.stem.porter import PorterStemmer\n",
    "ps = PorterStemmer()"
   ]
  },
  {
   "cell_type": "code",
   "execution_count": 45,
   "id": "b4b7f7c9",
   "metadata": {},
   "outputs": [],
   "source": [
    "def stem(text):\n",
    "    y = []\n",
    "    for i in text.split():\n",
    "        y.append(ps.stem(i))\n",
    "    return \" \".join(y)\n"
   ]
  },
  {
   "cell_type": "code",
   "execution_count": 46,
   "id": "bf80a142",
   "metadata": {},
   "outputs": [
    {
     "name": "stderr",
     "output_type": "stream",
     "text": [
      "C:\\Users\\Hp\\AppData\\Local\\Temp\\ipykernel_3552\\3579641834.py:1: SettingWithCopyWarning: \n",
      "A value is trying to be set on a copy of a slice from a DataFrame.\n",
      "Try using .loc[row_indexer,col_indexer] = value instead\n",
      "\n",
      "See the caveats in the documentation: https://pandas.pydata.org/pandas-docs/stable/user_guide/indexing.html#returning-a-view-versus-a-copy\n",
      "  new_df['tags'] = new_df['tags'].apply(stem)\n"
     ]
    },
    {
     "data": {
      "text/plain": [
       "'in the 22nd century, a parapleg marin is dispatch to the moon pandora on a uniqu mission, but becom torn between follow order and protect an alien civilization. action adventur fantasi sciencefict cultureclash futur spacewar spacecoloni societi spacetravel futurist romanc space alien tribe alienplanet cgi marin soldier battl loveaffair antiwar powerrel mindandsoul 3d samworthington zoesaldana sigourneyweav jamescameron'"
      ]
     },
     "execution_count": 46,
     "metadata": {},
     "output_type": "execute_result"
    }
   ],
   "source": [
    "new_df['tags'] = new_df['tags'].apply(stem)\n",
    "new_df['tags'][0]"
   ]
  },
  {
   "cell_type": "code",
   "execution_count": 47,
   "id": "b934fa6b",
   "metadata": {},
   "outputs": [
    {
     "data": {
      "text/plain": [
       "array([[1.        , 0.08740748, 0.05827165, ..., 0.02418254, 0.02564946,\n",
       "        0.        ],\n",
       "       [0.08740748, 1.        , 0.06451613, ..., 0.02677398, 0.        ,\n",
       "        0.        ],\n",
       "       [0.05827165, 0.06451613, 1.        , ..., 0.02677398, 0.        ,\n",
       "        0.        ],\n",
       "       ...,\n",
       "       [0.02418254, 0.02677398, 0.02677398, ..., 1.        , 0.07071068,\n",
       "        0.04836508],\n",
       "       [0.02564946, 0.        , 0.        , ..., 0.07071068, 1.        ,\n",
       "        0.05129892],\n",
       "       [0.        , 0.        , 0.        , ..., 0.04836508, 0.05129892,\n",
       "        1.        ]])"
      ]
     },
     "execution_count": 47,
     "metadata": {},
     "output_type": "execute_result"
    }
   ],
   "source": [
    "from sklearn.metrics.pairwise import cosine_similarity\n",
    "similarity = cosine_similarity(vactors)\n",
    "similarity"
   ]
  },
  {
   "cell_type": "markdown",
   "id": "88fb878e",
   "metadata": {},
   "source": [
    "this is an array of arrays which tell the similarity of every movie to other movies"
   ]
  },
  {
   "cell_type": "code",
   "execution_count": 48,
   "id": "c5fd89b0",
   "metadata": {},
   "outputs": [
    {
     "data": {
      "text/plain": [
       "movie_id     int64\n",
       "title       object\n",
       "overview    object\n",
       "genres      object\n",
       "keywords    object\n",
       "cast        object\n",
       "crew        object\n",
       "tags        object\n",
       "dtype: object"
      ]
     },
     "execution_count": 48,
     "metadata": {},
     "output_type": "execute_result"
    }
   ],
   "source": [
    "movies.dtypes"
   ]
  },
  {
   "cell_type": "code",
   "execution_count": 62,
   "id": "a280a43c",
   "metadata": {},
   "outputs": [],
   "source": [
    "def recommend(movie):\n",
    "    index = new_df[new_df['title'] == movie].index[0]\n",
    "    distances = sorted(list(enumerate(similarity[index])),reverse=True,key = lambda x: x[1])\n",
    "    for i in distances[1:6]:\n",
    "        print(new_df.iloc[i[0]].title)\n",
    "        "
   ]
  },
  {
   "cell_type": "code",
   "execution_count": 61,
   "id": "a1263028",
   "metadata": {},
   "outputs": [
    {
     "name": "stdout",
     "output_type": "stream",
     "text": [
      "0\n",
      "[(0, np.float64(1.0000000000000002)), (539, np.float64(0.25038669783359574)), (1192, np.float64(0.24779731389167606)), (507, np.float64(0.24283093212859141)), (260, np.float64(0.2409900932515112)), (1214, np.float64(0.23939494881986934)), (1916, np.float64(0.233785950059759)), (582, np.float64(0.23174488732966075)), (1202, np.float64(0.23084512921915967)), (2405, np.float64(0.23084512921915967)), (3728, np.float64(0.2294157338705618)), (1440, np.float64(0.21677749238103003)), (322, np.float64(0.21629522817435)), (74, np.float64(0.21526419295572297)), (3606, np.float64(0.21486752129677)), (83, np.float64(0.21296183592613546)), (61, np.float64(0.21239769762143662)), (4190, np.float64(0.21239769762143662)), (1533, np.float64(0.2108663315950723)), (2329, np.float64(0.20857039859669468)), (47, np.float64(0.20770324619863198)), (495, np.float64(0.20751433915982237)), (942, np.float64(0.20395079136182276)), (972, np.float64(0.20395079136182276)), (466, np.float64(0.2029530274475215)), (1327, np.float64(0.2029530274475215)), (2969, np.float64(0.2024645717996314)), (2200, np.float64(0.19767387315371682)), (1199, np.float64(0.19466570535691505)), (973, np.float64(0.19194297398747862)), (151, np.float64(0.19117977822546817)), (1273, np.float64(0.19088542889273336)), (2782, np.float64(0.19088542889273336)), (4046, np.float64(0.18848425873126295)), (2997, np.float64(0.18731716231633883)), (4405, np.float64(0.18731716231633883)), (305, np.float64(0.18541926977182405)), (3160, np.float64(0.1853959098637286)), (3536, np.float64(0.1842105263157895)), (27, np.float64(0.18172434016970185)), (3325, np.float64(0.1813690625275029)), (150, np.float64(0.1810898182317451)), (220, np.float64(0.18074256993863339)), (931, np.float64(0.18074256993863339)), (300, np.float64(0.17954621161490197)), (1069, np.float64(0.17954621161490197)), (4, np.float64(0.177343107178349)), (36, np.float64(0.177343107178349)), (461, np.float64(0.17699808135119718)), (1319, np.float64(0.17699808135119718)), (184, np.float64(0.17521916101261562)), (301, np.float64(0.1745025152241333)), (67, np.float64(0.17206180040292132)), (46, np.float64(0.16943474841747155)), (7, np.float64(0.1692777916923361)), (373, np.float64(0.1691275228729346)), (1827, np.float64(0.16742770563222897)), (2492, np.float64(0.16556654463313053)), (2727, np.float64(0.16556654463313053)), (149, np.float64(0.16481712868606585)), (26, np.float64(0.16452254913212452)), (1342, np.float64(0.16452254913212452)), (661, np.float64(0.16350382386265752)), (208, np.float64(0.16222142113076254)), (838, np.float64(0.16222142113076254)), (4008, np.float64(0.16222142113076254)), (108, np.float64(0.16222142113076252)), (1804, np.float64(0.16222142113076252)), (94, np.float64(0.15907119074394446)), (2511, np.float64(0.15907119074394446)), (52, np.float64(0.15789473684210528)), (1392, np.float64(0.15747244473304667)), (31, np.float64(0.15609763526361567)), (581, np.float64(0.15609763526361567)), (1295, np.float64(0.15585730003983933)), (1379, np.float64(0.15585730003983933)), (4336, np.float64(0.15389675281277312)), (91, np.float64(0.15328483487124145)), (168, np.float64(0.152008377581442)), (3626, np.float64(0.15061880828219448)), (311, np.float64(0.15018785229652765)), (1961, np.float64(0.14910501299480672)), (577, np.float64(0.14808721943977307)), (3352, np.float64(0.14808721943977307)), (158, np.float64(0.14673479641335554)), (502, np.float64(0.14673479641335554)), (111, np.float64(0.14567913668701626)), (2165, np.float64(0.14567913668701626)), (1353, np.float64(0.14509525002200235)), (172, np.float64(0.14509525002200233)), (490, np.float64(0.14509525002200233)), (17, np.float64(0.1442149876003076)), (1934, np.float64(0.14350946197048198)), (1176, np.float64(0.1433848336691011)), (422, np.float64(0.14159846508095775)), (505, np.float64(0.14159846508095775)), (1484, np.float64(0.14159846508095775)), (557, np.float64(0.1411956236812263)), (41, np.float64(0.1404878717372541)), (84, np.float64(0.13977653617040256)), (369, np.float64(0.1391037210186643)), (568, np.float64(0.1391037210186643)), (2682, np.float64(0.1391037210186643)), (56, np.float64(0.13834289277321493)), (249, np.float64(0.13834289277321493)), (1325, np.float64(0.13834289277321493)), (1320, np.float64(0.13764944032233709)), (332, np.float64(0.13710212427677043)), (1218, np.float64(0.13710212427677043)), (487, np.float64(0.13530201829834768)), (2580, np.float64(0.13530201829834768)), (3997, np.float64(0.13530201829834768)), (187, np.float64(0.13518451760896877)), (413, np.float64(0.13518451760896877)), (1669, np.float64(0.13497638119975428)), (4348, np.float64(0.13497638119975428)), (2129, np.float64(0.13369695534647594)), (2869, np.float64(0.13369695534647594)), (1941, np.float64(0.13334518676566626)), (2616, np.float64(0.1324532357065044)), (2968, np.float64(0.1324532357065044)), (4490, np.float64(0.1324532357065044)), (595, np.float64(0.13157894736842107)), (1013, np.float64(0.13157894736842107)), (1297, np.float64(0.13157894736842107)), (3407, np.float64(0.13157894736842107)), (3620, np.float64(0.13157894736842107)), (127, np.float64(0.13112201362143713)), (342, np.float64(0.1302565123238377)), (2476, np.float64(0.130066495428618)), (754, np.float64(0.12988108336653278)), (1475, np.float64(0.12988108336653278)), (68, np.float64(0.12977713690461004)), (134, np.float64(0.12977713690461004)), (368, np.float64(0.12977713690461004)), (1156, np.float64(0.12977713690461004)), (1000, np.float64(0.12892051277806202)), (3671, np.float64(0.12824729401064427)), (1045, np.float64(0.12725695259515557)), (1094, np.float64(0.12725695259515557)), (1743, np.float64(0.12725695259515557)), (2374, np.float64(0.12725695259515557)), (3374, np.float64(0.12725695259515557)), (740, np.float64(0.126673647984535)), (1613, np.float64(0.126673647984535)), (1571, np.float64(0.12565617248750865)), (1711, np.float64(0.12565617248750865)), (529, np.float64(0.12515654358043973)), (778, np.float64(0.12515654358043973)), (483, np.float64(0.12487810821089254)), (1654, np.float64(0.12487810821089254)), (420, np.float64(0.12369267399882337)), (1035, np.float64(0.12369267399882337)), (3441, np.float64(0.12369267399882337)), (1829, np.float64(0.12262786789699316)), (4673, np.float64(0.12262786789699316)), (939, np.float64(0.12262786789699313)), (1737, np.float64(0.12262786789699313)), (228, np.float64(0.12227899701112963)), (279, np.float64(0.12227899701112963)), (2709, np.float64(0.12227899701112963)), (3307, np.float64(0.12227899701112963)), (3405, np.float64(0.12227899701112963)), (3216, np.float64(0.12166606584807191)), (278, np.float64(0.12091270835166862)), (432, np.float64(0.12091270835166862)), (549, np.float64(0.12091270835166862)), (28, np.float64(0.1204950466257556)), (1272, np.float64(0.1204950466257556)), (2071, np.float64(0.1204950466257556)), (238, np.float64(0.11980845957463077)), (95, np.float64(0.11959121830873498)), (454, np.float64(0.11959121830873498)), (72, np.float64(0.11846977555181847)), (275, np.float64(0.11846977555181847)), (579, np.float64(0.11846977555181847)), (2864, np.float64(0.11846977555181847)), (123, np.float64(0.11831213107007527)), (1508, np.float64(0.11831213107007527)), (2543, np.float64(0.11831213107007527)), (653, np.float64(0.11803342130469505)), (808, np.float64(0.11803342130469505)), (3145, np.float64(0.11803342130469505)), (4201, np.float64(0.11803342130469505)), (50, np.float64(0.116543309349613)), (1978, np.float64(0.116543309349613)), (692, np.float64(0.11587244366483038)), (1275, np.float64(0.11587244366483038)), (3628, np.float64(0.11587244366483038)), (169, np.float64(0.1147078669352809)), (624, np.float64(0.1147078669352809)), (166, np.float64(0.11470786693528087)), (232, np.float64(0.11470786693528087)), (294, np.float64(0.11470786693528087)), (859, np.float64(0.11470786693528087)), (1612, np.float64(0.11470786693528087)), (1570, np.float64(0.1139194873735864)), (5, np.float64(0.11357771260606365)), (199, np.float64(0.11357771260606365)), (206, np.float64(0.11357771260606365)), (10, np.float64(0.11295649894498103)), (87, np.float64(0.11295649894498103)), (513, np.float64(0.11295649894498103)), (687, np.float64(0.11295649894498103)), (1029, np.float64(0.11295649894498103)), (3006, np.float64(0.11295649894498103)), (81, np.float64(0.11239029738980326)), (627, np.float64(0.11164843913471803)), (1299, np.float64(0.11164843913471803)), (1369, np.float64(0.11164843913471803)), (1723, np.float64(0.11164843913471803)), (2255, np.float64(0.11164843913471803)), (2319, np.float64(0.11164843913471803)), (3719, np.float64(0.11164843913471803)), (3998, np.float64(0.11164843913471803)), (126, np.float64(0.11128297681493143)), (508, np.float64(0.11128297681493143)), (2446, np.float64(0.11128297681493143)), (2579, np.float64(0.11128297681493143)), (777, np.float64(0.11037769642208699)), (14, np.float64(0.10968169942141635)), (854, np.float64(0.10968169942141635)), (900, np.float64(0.10968169942141635)), (1193, np.float64(0.10968169942141635)), (3496, np.float64(0.10968169942141635)), (141, np.float64(0.10882143751650175)), (1520, np.float64(0.10882143751650175)), (1717, np.float64(0.10882143751650175)), (2630, np.float64(0.10882143751650175)), (3659, np.float64(0.10882143751650175)), (4016, np.float64(0.10882143751650175)), (4133, np.float64(0.10882143751650175)), (1017, np.float64(0.10838874619051501)), (1493, np.float64(0.10838874619051501)), (2102, np.float64(0.10838874619051501)), (2435, np.float64(0.10838874619051501)), (2756, np.float64(0.10838874619051501)), (312, np.float64(0.10814761408717502)), (1080, np.float64(0.10814761408717502)), (1292, np.float64(0.10814761408717502)), (2009, np.float64(0.10814761408717502)), (3338, np.float64(0.10814761408717502)), (3618, np.float64(0.10814761408717502)), (4095, np.float64(0.10814761408717502)), (18, np.float64(0.10743376064838502)), (102, np.float64(0.10743376064838502)), (131, np.float64(0.106676149412533)), (174, np.float64(0.106676149412533)), (266, np.float64(0.106676149412533)), (2068, np.float64(0.106676149412533)), (239, np.float64(0.10650358071057624)), (403, np.float64(0.10650358071057624)), (233, np.float64(0.10619884881071831)), (325, np.float64(0.10619884881071831)), (773, np.float64(0.10619884881071831)), (1154, np.float64(0.10619884881071831)), (3053, np.float64(0.10619884881071831)), (3779, np.float64(0.10619884881071831)), (3837, np.float64(0.10619884881071831)), (3952, np.float64(0.10619884881071831)), (295, np.float64(0.10526315789473685)), (330, np.float64(0.10526315789473685)), (535, np.float64(0.10526315789473685)), (986, np.float64(0.10526315789473685)), (1271, np.float64(0.10526315789473685)), (2177, np.float64(0.10526315789473685)), (3100, np.float64(0.10526315789473685)), (4077, np.float64(0.10526315789473685)), (4228, np.float64(0.10526315789473685)), (182, np.float64(0.10390486669322622)), (139, np.float64(0.10385162309931599)), (105, np.float64(0.1037571695799112)), (476, np.float64(0.1037571695799112)), (2452, np.float64(0.1037571695799112)), (2558, np.float64(0.1037571695799112)), (2758, np.float64(0.1037571695799112)), (4196, np.float64(0.1037571695799112)), (4545, np.float64(0.10301070542879115)), (334, np.float64(0.10259783520851541)), (643, np.float64(0.10259783520851541)), (1054, np.float64(0.10259783520851541)), (3781, np.float64(0.10259783520851541)), (85, np.float64(0.10203255357771539)), (33, np.float64(0.10147651372376076)), (148, np.float64(0.10147651372376076)), (157, np.float64(0.10147651372376076)), (263, np.float64(0.10147651372376076)), (715, np.float64(0.10147651372376076)), (935, np.float64(0.10147651372376076)), (1278, np.float64(0.10147651372376076)), (1497, np.float64(0.10147651372376076)), (2517, np.float64(0.10147651372376076)), (2656, np.float64(0.10147651372376076)), (4331, np.float64(0.10147651372376076)), (129, np.float64(0.101338918387628)), (510, np.float64(0.101338918387628)), (898, np.float64(0.101338918387628)), (1084, np.float64(0.101338918387628)), (1107, np.float64(0.101338918387628)), (3462, np.float64(0.101338918387628)), (307, np.float64(0.1003911722115382)), (587, np.float64(0.10012523486435178)), (1231, np.float64(0.10012523486435178)), (4043, np.float64(0.10012523486435178)), (35, np.float64(0.09933992677987831)), (400, np.float64(0.09933992677987831)), (660, np.float64(0.09933992677987831)), (781, np.float64(0.09933992677987831)), (1938, np.float64(0.09933992677987831)), (2657, np.float64(0.09933992677987831)), (4254, np.float64(0.09933992677987831)), (4623, np.float64(0.09933992677987831)), (371, np.float64(0.0989541391990587)), (412, np.float64(0.0989541391990587)), (473, np.float64(0.0989541391990587)), (870, np.float64(0.0989541391990587)), (1200, np.float64(0.0989541391990587)), (1435, np.float64(0.0989541391990587)), (2592, np.float64(0.0989541391990587)), (270, np.float64(0.0978231976089037)), (410, np.float64(0.0978231976089037)), (813, np.float64(0.0978231976089037)), (933, np.float64(0.0978231976089037)), (1274, np.float64(0.0978231976089037)), (1819, np.float64(0.0978231976089037)), (1842, np.float64(0.0978231976089037)), (2280, np.float64(0.0978231976089037)), (292, np.float64(0.09733285267845754)), (389, np.float64(0.09733285267845754)), (530, np.float64(0.09733285267845754)), (691, np.float64(0.09733285267845754)), (791, np.float64(0.09733285267845754)), (920, np.float64(0.09733285267845754)), (1075, np.float64(0.09733285267845754)), (2647, np.float64(0.09733285267845754)), (3091, np.float64(0.09733285267845754)), (3734, np.float64(0.09733285267845754)), (1087, np.float64(0.09694584179118516)), (1999, np.float64(0.0967301666813349)), (243, np.float64(0.09567297464698798)), (785, np.float64(0.09558988911273408)), (122, np.float64(0.09544271444636668)), (564, np.float64(0.09544271444636668)), (1404, np.float64(0.09544271444636668)), (1470, np.float64(0.09544271444636668)), (1585, np.float64(0.09544271444636668)), (1682, np.float64(0.09544271444636668)), (1752, np.float64(0.09544271444636668)), (589, np.float64(0.09464970485606021)), (618, np.float64(0.09464970485606021)), (1355, np.float64(0.09464970485606021)), (12, np.float64(0.09365858115816941)), (23, np.float64(0.09365858115816941)), (43, np.float64(0.09365858115816941)), (142, np.float64(0.09365858115816941)), (236, np.float64(0.09365858115816941)), (362, np.float64(0.09365858115816941)), (2089, np.float64(0.09365858115816941)), (2392, np.float64(0.09365858115816941)), (2648, np.float64(0.09365858115816941)), (2792, np.float64(0.09365858115816941)), (160, np.float64(0.09304036594559835)), (596, np.float64(0.09269795493186431)), (1414, np.float64(0.09269795493186431)), (2484, np.float64(0.09269795493186431)), (511, np.float64(0.09197090092274487)), (922, np.float64(0.09197090092274487)), (1025, np.float64(0.09197090092274487)), (1304, np.float64(0.09197090092274487)), (2813, np.float64(0.09197090092274487)), (2836, np.float64(0.09197090092274487)), (3426, np.float64(0.09197090092274487)), (479, np.float64(0.09183979479633063)), (1828, np.float64(0.09176629354822471)), (1920, np.float64(0.09176629354822471)), (1276, np.float64(0.09086217008485092)), (1492, np.float64(0.09086217008485092)), (112, np.float64(0.09037128496931669)), (164, np.float64(0.09037128496931669)), (242, np.float64(0.09037128496931669)), (794, np.float64(0.09037128496931669)), (960, np.float64(0.09037128496931669)), (978, np.float64(0.09037128496931669)), (1002, np.float64(0.09037128496931669)), (1247, np.float64(0.09037128496931669)), (4468, np.float64(0.09037128496931669)), (799, np.float64(0.09012301173931252)), (2270, np.float64(0.08998425413316952)), (2384, np.float64(0.08998425413316952)), (2852, np.float64(0.08998425413316952)), (3152, np.float64(0.08998425413316952)), (4353, np.float64(0.08998425413316952)), (4502, np.float64(0.08998425413316952)), (4516, np.float64(0.08998425413316952)), (4654, np.float64(0.08998425413316952)), (2966, np.float64(0.0891313035643173)), (2444, np.float64(0.08903057122447033)), (21, np.float64(0.08885233166386385)), (227, np.float64(0.08885233166386385)), (306, np.float64(0.08885233166386385)), (349, np.float64(0.08885233166386385)), (356, np.float64(0.08885233166386385)), (775, np.float64(0.08885233166386385)), (901, np.float64(0.08885233166386385)), (1374, np.float64(0.08885233166386385)), (1696, np.float64(0.08885233166386385)), (1786, np.float64(0.08885233166386385)), (2163, np.float64(0.08885233166386385)), (3535, np.float64(0.08885233166386385)), (3814, np.float64(0.08885233166386385)), (4626, np.float64(0.08885233166386385)), (63, np.float64(0.08830215713766959)), (107, np.float64(0.08830215713766959)), (170, np.float64(0.08830215713766959)), (363, np.float64(0.08830215713766959)), (541, np.float64(0.08830215713766959)), (812, np.float64(0.08830215713766959)), (2001, np.float64(0.08830215713766959)), (32, np.float64(0.08749572785196143)), (45, np.float64(0.08749572785196143)), (222, np.float64(0.08749572785196143)), (467, np.float64(0.08749572785196143)), (1, np.float64(0.08740748201220976)), (75, np.float64(0.08740748201220976)), (88, np.float64(0.08740748201220976)), (121, np.float64(0.08740748201220976)), (245, np.float64(0.08740748201220976)), (315, np.float64(0.08740748201220976)), (626, np.float64(0.08740748201220976)), (786, np.float64(0.08740748201220976)), (894, np.float64(0.08740748201220976)), (937, np.float64(0.08740748201220976)), (3299, np.float64(0.08740748201220976)), (3447, np.float64(0.08740748201220976)), (230, np.float64(0.08671099695241201)), (381, np.float64(0.08671099695241201)), (1137, np.float64(0.08671099695241201)), (2494, np.float64(0.08671099695241201)), (2876, np.float64(0.08671099695241201)), (4163, np.float64(0.08671099695241201)), (4737, np.float64(0.08671099695241201)), (2382, np.float64(0.08646430798325933)), (86, np.float64(0.08603090020146065)), (96, np.float64(0.08603090020146065)), (814, np.float64(0.08603090020146065)), (1111, np.float64(0.08603090020146065)), (1140, np.float64(0.08603090020146065)), (1267, np.float64(0.08603090020146065)), (2243, np.float64(0.08603090020146065)), (2247, np.float64(0.08603090020146065)), (2790, np.float64(0.08603090020146065)), (3089, np.float64(0.08603090020146065)), (4257, np.float64(0.08603090020146065)), (4657, np.float64(0.08603090020146065)), (654, np.float64(0.08594700851870801)), (1280, np.float64(0.08594700851870801)), (1874, np.float64(0.08594700851870801)), (103, np.float64(0.08520286456846099)), (39, np.float64(0.08471737420873576)), (101, np.float64(0.08471737420873576)), (203, np.float64(0.08471737420873576)), (457, np.float64(0.08471737420873576)), (547, np.float64(0.08471737420873576)), (899, np.float64(0.08471737420873576)), (1205, np.float64(0.08471737420873576)), (1469, np.float64(0.08471737420873576)), (1519, np.float64(0.08471737420873576)), (2300, np.float64(0.08471737420873576)), (3233, np.float64(0.08471737420873576)), (3908, np.float64(0.08471737420873576)), (193, np.float64(0.08447772061910234)), (491, np.float64(0.08447772061910234)), (501, np.float64(0.08447772061910234)), (1824, np.float64(0.08447772061910234)), (3439, np.float64(0.08447772061910234)), (1401, np.float64(0.0837707816583391)), (1617, np.float64(0.0837707816583391)), (2246, np.float64(0.0837707816583391)), (2335, np.float64(0.0837707816583391)), (3067, np.float64(0.0837707816583391)), (4492, np.float64(0.0837707816583391)), (4718, np.float64(0.0837707816583391)), (257, np.float64(0.08346223261119858)), (634, np.float64(0.08346223261119858)), (746, np.float64(0.08346223261119858)), (787, np.float64(0.08346223261119858)), (1159, np.float64(0.08346223261119858)), (3026, np.float64(0.08346223261119858)), (3138, np.float64(0.08346223261119858)), (3308, np.float64(0.08346223261119858)), (3387, np.float64(0.08346223261119858)), (3421, np.float64(0.08346223261119858)), (51, np.float64(0.0830812984794528)), (572, np.float64(0.0830812984794528)), (19, np.float64(0.08240856434303293)), (153, np.float64(0.08240856434303293)), (1530, np.float64(0.08240856434303293)), (1894, np.float64(0.08240856434303293)), (1922, np.float64(0.08240856434303293)), (2095, np.float64(0.08240856434303291)), (98, np.float64(0.08226127456606226)), (207, np.float64(0.08226127456606226)), (885, np.float64(0.08226127456606226)), (2249, np.float64(0.08226127456606226)), (2640, np.float64(0.08226127456606226)), (1635, np.float64(0.08175191193132876)), (3429, np.float64(0.08175191193132876)), (241, np.float64(0.08111071056538127)), (472, np.float64(0.08111071056538127)), (534, np.float64(0.08111071056538127)), (680, np.float64(0.08111071056538127)), (752, np.float64(0.08111071056538127)), (776, np.float64(0.08111071056538127)), (985, np.float64(0.08111071056538127)), (1610, np.float64(0.08111071056538127)), (1651, np.float64(0.08111071056538127)), (2708, np.float64(0.08111071056538127)), (2797, np.float64(0.08111071056538127)), (3251, np.float64(0.08111071056538127)), (3353, np.float64(0.08111071056538127)), (3468, np.float64(0.08111071056538127)), (3525, np.float64(0.08111071056538127)), (4431, np.float64(0.08111071056538127)), (4473, np.float64(0.08111071056538127)), (4568, np.float64(0.08111071056538127)), (4641, np.float64(0.08111071056538127)), (2199, np.float64(0.08048436365855338)), (37, np.float64(0.08000711205939975)), (82, np.float64(0.08000711205939975)), (138, np.float64(0.08000711205939975)), (223, np.float64(0.08000711205939975)), (254, np.float64(0.08000711205939975)), (329, np.float64(0.08000711205939975)), (471, np.float64(0.08000711205939975)), (503, np.float64(0.08000711205939975)), (632, np.float64(0.08000711205939975)), (1397, np.float64(0.08000711205939975)), (2679, np.float64(0.08000711205939975)), (190, np.float64(0.07987230638308718)), (2759, np.float64(0.0792740035289418)), (16, np.float64(0.07894736842105264)), (71, np.float64(0.07894736842105264)), (1288, np.float64(0.07894736842105264)), (1556, np.float64(0.07894736842105264)), (1761, np.float64(0.07894736842105264)), (2816, np.float64(0.07894736842105264)), (4053, np.float64(0.07894736842105264)), (62, np.float64(0.07868894753646337)), (189, np.float64(0.07868894753646337)), (205, np.float64(0.07868894753646337)), (256, np.float64(0.07868894753646337)), (850, np.float64(0.07868894753646337)), (1043, np.float64(0.07868894753646337)), (1321, np.float64(0.07868894753646337)), (1660, np.float64(0.07868894753646337)), (2157, np.float64(0.07868894753646337)), (2161, np.float64(0.07868894753646337)), (2322, np.float64(0.07868894753646337)), (2785, np.float64(0.07868894753646337)), (3153, np.float64(0.07868894753646337)), (3428, np.float64(0.07868894753646337)), (3830, np.float64(0.07868894753646337)), (4059, np.float64(0.07868894753646337)), (11, np.float64(0.07792865001991967)), (70, np.float64(0.07792865001991967)), (365, np.float64(0.07792865001991967)), (1287, np.float64(0.07792865001991967)), (1363, np.float64(0.07792865001991967)), (3204, np.float64(0.07792865001991967)), (3699, np.float64(0.07792865001991967)), (4451, np.float64(0.07792865001991967)), (274, np.float64(0.07768997059248714)), (59, np.float64(0.0770085628656519)), (732, np.float64(0.07694837640638656)), (737, np.float64(0.07694837640638656)), (2159, np.float64(0.07694837640638656)), (2588, np.float64(0.07694837640638656)), (2914, np.float64(0.07694837640638656)), (4081, np.float64(0.07694837640638656)), (4640, np.float64(0.07694837640638656)), (125, np.float64(0.07664241743562072)), (109, np.float64(0.07647191129018727)), (200, np.float64(0.07647191129018727)), (313, np.float64(0.07647191129018727)), (800, np.float64(0.07647191129018727)), (1286, np.float64(0.07647191129018727)), (1517, np.float64(0.07647191129018727)), (2313, np.float64(0.07647191129018727)), (2377, np.float64(0.07647191129018727)), (2406, np.float64(0.07647191129018727)), (2547, np.float64(0.07647191129018727)), (2655, np.float64(0.07647191129018727)), (2880, np.float64(0.07647191129018727)), (3396, np.float64(0.07647191129018727)), (4412, np.float64(0.07647191129018727)), (79, np.float64(0.076004188790721)), (271, np.float64(0.076004188790721)), (908, np.float64(0.076004188790721)), (2391, np.float64(0.076004188790721)), (2827, np.float64(0.076004188790721)), (3020, np.float64(0.076004188790721)), (3905, np.float64(0.076004188790721)), (4121, np.float64(0.076004188790721)), (229, np.float64(0.07594632491572426)), (76, np.float64(0.07509392614826384)), (543, np.float64(0.07509392614826384)), (784, np.float64(0.07509392614826384)), (1173, np.float64(0.07509392614826384)), (1323, np.float64(0.07509392614826384)), (2017, np.float64(0.07509392614826384)), (2359, np.float64(0.07509392614826384)), (2350, np.float64(0.07509392614826382)), (179, np.float64(0.07443229275647868)), (1003, np.float64(0.07443229275647868)), (1346, np.float64(0.07443229275647868)), (1765, np.float64(0.07443229275647868)), (2132, np.float64(0.07443229275647868)), (2208, np.float64(0.07443229275647868)), (3070, np.float64(0.07443229275647868)), (3980, np.float64(0.07443229275647868)), (3992, np.float64(0.07443229275647868)), (591, np.float64(0.07421560439929402)), (674, np.float64(0.07421560439929402)), (977, np.float64(0.07421560439929402)), (1619, np.float64(0.07421560439929402)), (1628, np.float64(0.07421560439929402)), (1879, np.float64(0.07421560439929402)), (2048, np.float64(0.07421560439929402)), (2237, np.float64(0.07421560439929402)), (2697, np.float64(0.07421560439929402)), (3186, np.float64(0.07421560439929402)), (55, np.float64(0.0734718358370645)), (9, np.float64(0.07336739820667779)), (536, np.float64(0.07336739820667779)), (665, np.float64(0.07336739820667779)), (1442, np.float64(0.07336739820667779)), (2646, np.float64(0.07336739820667779)), (488, np.float64(0.07300534327409847)), (97, np.float64(0.07254762501100118)), (419, np.float64(0.07254762501100118)), (635, np.float64(0.07254762501100118)), (728, np.float64(0.07254762501100118)), (782, np.float64(0.07254762501100118)), (827, np.float64(0.07254762501100118)), (1992, np.float64(0.07254762501100118)), (3820, np.float64(0.07254762501100118)), (570, np.float64(0.07254762501100116)), (1260, np.float64(0.07254762501100116)), (1290, np.float64(0.07254762501100116)), (1766, np.float64(0.07254762501100116)), (1770, np.float64(0.07254762501100116)), (2529, np.float64(0.07254762501100116)), (2694, np.float64(0.07254762501100116)), (2783, np.float64(0.07254762501100116)), (4004, np.float64(0.07254762501100116)), (4097, np.float64(0.07254762501100116)), (4403, np.float64(0.07254762501100116)), (4443, np.float64(0.07254762501100116)), (212, np.float64(0.07175473098524099)), (995, np.float64(0.07175473098524099)), (1016, np.float64(0.07175473098524099)), (1144, np.float64(0.07175473098524099)), (1166, np.float64(0.07175473098524099)), (1338, np.float64(0.07175473098524099)), (1697, np.float64(0.07175473098524099)), (2052, np.float64(0.07175473098524099)), (3388, np.float64(0.07175473098524099)), (183, np.float64(0.07165743639000186)), (215, np.float64(0.07098727864204515)), (704, np.float64(0.07098727864204515)), (2014, np.float64(0.07098727864204515)), (2316, np.float64(0.07098727864204515)), (100, np.float64(0.07079923254047887)), (267, np.float64(0.07079923254047887)), (336, np.float64(0.07079923254047887)), (1164, np.float64(0.07079923254047887)), (1169, np.float64(0.07079923254047887)), (1733, np.float64(0.07079923254047887)), (1986, np.float64(0.07079923254047887)), (2110, np.float64(0.07079923254047887)), (3239, np.float64(0.07079923254047887)), (3667, np.float64(0.07079923254047887)), (3974, np.float64(0.07079923254047887)), (30, np.float64(0.07024393586862707)), (281, np.float64(0.07024393586862707)), (3223, np.float64(0.07024393586862707)), (3558, np.float64(0.07024393586862707)), (4343, np.float64(0.07024393586862707)), (889, np.float64(0.0695678476053965)), (262, np.float64(0.06952346619889824)), (600, np.float64(0.06952346619889824)), (1091, np.float64(0.06952346619889824)), (1189, np.float64(0.06952346619889824)), (1441, np.float64(0.06952346619889824)), (1451, np.float64(0.06952346619889824)), (2099, np.float64(0.06952346619889824)), (2131, np.float64(0.06952346619889824)), (2886, np.float64(0.06952346619889824)), (304, np.float64(0.06917144638660747)), (1240, np.float64(0.06917144638660747)), (1406, np.float64(0.06917144638660747)), (1462, np.float64(0.06917144638660747)), (3131, np.float64(0.06917144638660747)), (3513, np.float64(0.06917144638660747)), (4214, np.float64(0.06917144638660747)), (4290, np.float64(0.06917144638660747)), (4320, np.float64(0.06917144638660747)), (4638, np.float64(0.06917144638660747)), (3210, np.float64(0.06904602208326344)), (790, np.float64(0.06882472016116853)), (1959, np.float64(0.06882472016116853)), (2368, np.float64(0.06882472016116853)), (2571, np.float64(0.06882472016116853)), (2788, np.float64(0.06882472016116853)), (3554, np.float64(0.06882472016116853)), (4179, np.float64(0.06882472016116853)), (415, np.float64(0.0687817449960909)), (29, np.float64(0.06814662756363819)), (92, np.float64(0.06814662756363819)), (425, np.float64(0.06814662756363819)), (469, np.float64(0.06814662756363819)), (612, np.float64(0.06814662756363819)), (2260, np.float64(0.06814662756363819)), (2287, np.float64(0.06814662756363819)), (3738, np.float64(0.06814662756363819)), (4538, np.float64(0.06814662756363819)), (237, np.float64(0.06765100914917384)), (308, np.float64(0.06765100914917384)), (319, np.float64(0.06765100914917384)), (498, np.float64(0.06765100914917384)), (533, np.float64(0.06765100914917384)), (537, np.float64(0.06765100914917384)), (604, np.float64(0.06765100914917384)), (621, np.float64(0.06765100914917384)), (668, np.float64(0.06765100914917384)), (1083, np.float64(0.06765100914917384)), (1145, np.float64(0.06765100914917384)), (1345, np.float64(0.06765100914917384)), (1601, np.float64(0.06765100914917384)), (1880, np.float64(0.06765100914917384)), (2049, np.float64(0.06765100914917384)), (2086, np.float64(0.06765100914917384)), (2974, np.float64(0.06765100914917384)), (3295, np.float64(0.06765100914917384)), (3372, np.float64(0.06765100914917384)), (3619, np.float64(0.06765100914917384)), (3653, np.float64(0.06765100914917384)), (3674, np.float64(0.06765100914917384)), (3929, np.float64(0.06765100914917384)), (4357, np.float64(0.06765100914917384)), (4472, np.float64(0.06765100914917384)), (456, np.float64(0.06748819059987714)), (3605, np.float64(0.06748819059987714)), (1367, np.float64(0.06684847767323797)), (2594, np.float64(0.06684847767323797)), (2998, np.float64(0.06684847767323797)), (22, np.float64(0.0662266178532522)), (167, np.float64(0.0662266178532522)), (276, np.float64(0.0662266178532522)), (695, np.float64(0.0662266178532522)), (1377, np.float64(0.0662266178532522)), (1430, np.float64(0.0662266178532522)), (1509, np.float64(0.0662266178532522)), (1569, np.float64(0.0662266178532522)), (1856, np.float64(0.0662266178532522)), (2013, np.float64(0.0662266178532522)), (2264, np.float64(0.0662266178532522)), (2266, np.float64(0.0662266178532522)), (2575, np.float64(0.0662266178532522)), (2618, np.float64(0.0662266178532522)), (2641, np.float64(0.0662266178532522)), (3570, np.float64(0.0662266178532522)), (4088, np.float64(0.0662266178532522)), (143, np.float64(0.06622661785325219)), (1005, np.float64(0.06622661785325219)), (1028, np.float64(0.06622661785325219)), (1303, np.float64(0.06622661785325219)), (1688, np.float64(0.06622661785325219)), (2252, np.float64(0.06622661785325219)), (124, np.float64(0.06562179588897107)), (234, np.float64(0.06562179588897107)), (253, np.float64(0.06562179588897107)), (475, np.float64(0.06562179588897107)), (48, np.float64(0.065033247714309)), (836, np.float64(0.065033247714309)), (1975, np.float64(0.065033247714309)), (3633, np.float64(0.065033247714309)), (4118, np.float64(0.065033247714309)), (159, np.float64(0.06488856845230502)), (744, np.float64(0.06488856845230502)), (945, np.float64(0.06488856845230502)), (951, np.float64(0.06488856845230502)), (1074, np.float64(0.06488856845230502)), (1090, np.float64(0.06488856845230502)), (1301, np.float64(0.06488856845230502)), (1603, np.float64(0.06488856845230502)), (1667, np.float64(0.06488856845230502)), (1940, np.float64(0.06488856845230502)), (1969, np.float64(0.06488856845230502)), (2053, np.float64(0.06488856845230502)), (2108, np.float64(0.06488856845230502)), (2440, np.float64(0.06488856845230502)), (2567, np.float64(0.06488856845230502)), (2660, np.float64(0.06488856845230502)), (2737, np.float64(0.06488856845230502)), (2955, np.float64(0.06488856845230502)), (3107, np.float64(0.06488856845230502)), (3163, np.float64(0.06488856845230502)), (3354, np.float64(0.06488856845230502)), (4036, np.float64(0.06488856845230502)), (4355, np.float64(0.06488856845230502)), (4591, np.float64(0.06488856845230502)), (4727, np.float64(0.06488856845230502)), (156, np.float64(0.06446025638903101)), (607, np.float64(0.06446025638903101)), (1955, np.float64(0.06446025638903101)), (277, np.float64(0.06390214842634574)), (1483, np.float64(0.06390214842634574)), (219, np.float64(0.06362847629757779)), (290, np.float64(0.06362847629757779)), (309, np.float64(0.06362847629757779)), (348, np.float64(0.06362847629757779)), (404, np.float64(0.06362847629757779)), (546, np.float64(0.06362847629757779)), (711, np.float64(0.06362847629757779)), (1095, np.float64(0.06362847629757779)), (1135, np.float64(0.06362847629757779)), (1257, np.float64(0.06362847629757779)), (1361, np.float64(0.06362847629757779)), (1566, np.float64(0.06362847629757779)), (1582, np.float64(0.06362847629757779)), (1627, np.float64(0.06362847629757779)), (1925, np.float64(0.06362847629757779)), (2116, np.float64(0.06362847629757779)), (2154, np.float64(0.06362847629757779)), (2502, np.float64(0.06362847629757779)), (2946, np.float64(0.06362847629757779)), (3609, np.float64(0.06362847629757779)), (3832, np.float64(0.06362847629757779)), (4194, np.float64(0.06362847629757779)), (4271, np.float64(0.06362847629757779)), (4312, np.float64(0.06362847629757779)), (4566, np.float64(0.06362847629757779)), (4704, np.float64(0.06362847629757779)), (246, np.float64(0.06335829046432676)), (768, np.float64(0.06335829046432676)), (1344, np.float64(0.06335829046432676)), (213, np.float64(0.06282808624375433)), (90, np.float64(0.06243905410544627)), (195, np.float64(0.06243905410544627)), (216, np.float64(0.06243905410544627)), (358, np.float64(0.06243905410544627)), (664, np.float64(0.06243905410544627)), (996, np.float64(0.06243905410544627)), (1071, np.float64(0.06243905410544627)), (1416, np.float64(0.06243905410544627)), (1476, np.float64(0.06243905410544627)), (2056, np.float64(0.06243905410544627)), (2953, np.float64(0.06243905410544627)), (2988, np.float64(0.06243905410544627)), (4132, np.float64(0.06243905410544627)), (4560, np.float64(0.06243905410544627)), (1596, np.float64(0.0623109738595896)), (1674, np.float64(0.0623109738595896)), (3615, np.float64(0.0623109738595896)), (1655, np.float64(0.061806423257274694)), (1893, np.float64(0.061806423257274694)), (3860, np.float64(0.061806423257274694)), (3903, np.float64(0.061806423257274694)), (2828, np.float64(0.06158950357943867)), (8, np.float64(0.06131393394849658)), (152, np.float64(0.06131393394849658)), (259, np.float64(0.06131393394849658)), (701, np.float64(0.06131393394849658)), (1077, np.float64(0.06131393394849658)), (1436, np.float64(0.06131393394849658)), (1465, np.float64(0.06131393394849658)), (2155, np.float64(0.06131393394849658)), (2231, np.float64(0.06131393394849658)), (2585, np.float64(0.06131393394849658)), (2791, np.float64(0.06131393394849658)), (3446, np.float64(0.06131393394849658)), (3858, np.float64(0.06131393394849658)), (4146, np.float64(0.06131393394849658)), (4781, np.float64(0.06131393394849658)), (224, np.float64(0.060833032924035954)), (1359, np.float64(0.060833032924035954)), (2644, np.float64(0.060833032924035954)), (38, np.float64(0.060363272743915036)), (755, np.float64(0.060363272743915036)), (49, np.float64(0.0602475233128778)), (147, np.float64(0.0602475233128778)), (244, np.float64(0.0602475233128778)), (402, np.float64(0.0602475233128778)), (745, np.float64(0.0602475233128778)), (823, np.float64(0.0602475233128778)), (840, np.float64(0.0602475233128778)), (1068, np.float64(0.0602475233128778)), (1139, np.float64(0.0602475233128778)), (1239, np.float64(0.0602475233128778)), (1439, np.float64(0.0602475233128778)), (1449, np.float64(0.0602475233128778)), (1552, np.float64(0.0602475233128778)), (1580, np.float64(0.0602475233128778)), (1645, np.float64(0.0602475233128778)), (1989, np.float64(0.0602475233128778)), (2018, np.float64(0.0602475233128778)), (2548, np.float64(0.0602475233128778)), (3133, np.float64(0.0602475233128778)), (3302, np.float64(0.0602475233128778)), (3371, np.float64(0.0602475233128778)), (3888, np.float64(0.0602475233128778)), (2545, np.float64(0.05990422978731538)), (2993, np.float64(0.0597347691089499)), (426, np.float64(0.05945550264670635)), (4305, np.float64(0.05945550264670635)), (117, np.float64(0.05923488777590923)), (341, np.float64(0.05923488777590923)), (492, np.float64(0.05923488777590923)), (678, np.float64(0.05923488777590923)), (843, np.float64(0.05923488777590923)), (844, np.float64(0.05923488777590923)), (1132, np.float64(0.05923488777590923)), (1259, np.float64(0.05923488777590923)), (1332, np.float64(0.05923488777590923)), (1360, np.float64(0.05923488777590923)), (1709, np.float64(0.05923488777590923)), (1792, np.float64(0.05923488777590923)), (1838, np.float64(0.05923488777590923)), (2685, np.float64(0.05923488777590923)), (2820, np.float64(0.05923488777590923)), (2861, np.float64(0.05923488777590923)), (3057, np.float64(0.05923488777590923)), (3179, np.float64(0.05923488777590923)), (3320, np.float64(0.05923488777590923)), (3744, np.float64(0.05923488777590923)), (3924, np.float64(0.05923488777590923)), (3933, np.float64(0.05923488777590923)), (4270, np.float64(0.05923488777590923)), (4519, np.float64(0.05923488777590923)), (391, np.float64(0.05901671065234752)), (89, np.float64(0.058989607683913654)), (2186, np.float64(0.058587492514838024)), (3366, np.float64(0.05850805181048254)), (2, np.float64(0.0582716546748065)), (235, np.float64(0.0582716546748065)), (512, np.float64(0.0582716546748065)), (544, np.float64(0.0582716546748065)), (847, np.float64(0.0582716546748065)), (1684, np.float64(0.0582716546748065)), (1764, np.float64(0.0582716546748065)), (3363, np.float64(0.0582716546748065)), (3675, np.float64(0.0582716546748065)), (610, np.float64(0.05775642214923893)), (428, np.float64(0.05735393346764045)), (848, np.float64(0.05735393346764045)), (104, np.float64(0.057353933467640436)), (198, np.float64(0.057353933467640436)), (282, np.float64(0.057353933467640436)), (302, np.float64(0.057353933467640436)), (326, np.float64(0.057353933467640436)), (366, np.float64(0.057353933467640436)), (614, np.float64(0.057353933467640436)), (805, np.float64(0.057353933467640436)), (1194, np.float64(0.057353933467640436)), (1310, np.float64(0.057353933467640436)), (1699, np.float64(0.057353933467640436)), (1742, np.float64(0.057353933467640436)), (2228, np.float64(0.057353933467640436)), (2415, np.float64(0.057353933467640436)), (2471, np.float64(0.057353933467640436)), (2632, np.float64(0.057353933467640436)), (4339, np.float64(0.057353933467640436)), (4636, np.float64(0.057353933467640436)), (4793, np.float64(0.057353933467640436)), (196, np.float64(0.05647824947249051)), (411, np.float64(0.05647824947249051)), (443, np.float64(0.05647824947249051)), (449, np.float64(0.05647824947249051)), (672, np.float64(0.05647824947249051)), (741, np.float64(0.05647824947249051)), (792, np.float64(0.05647824947249051)), (1030, np.float64(0.05647824947249051)), (1096, np.float64(0.05647824947249051)), (1235, np.float64(0.05647824947249051)), (1291, np.float64(0.05647824947249051)), (1382, np.float64(0.05647824947249051)), (1823, np.float64(0.05647824947249051)), (2087, np.float64(0.05647824947249051)), (2171, np.float64(0.05647824947249051)), (2474, np.float64(0.05647824947249051)), (2498, np.float64(0.05647824947249051)), (3003, np.float64(0.05647824947249051)), (3009, np.float64(0.05647824947249051)), (3164, np.float64(0.05647824947249051)), (3347, np.float64(0.05647824947249051)), (3862, np.float64(0.05647824947249051)), (4316, np.float64(0.05647824947249051)), (4799, np.float64(0.05647824947249051)), (486, np.float64(0.05619514869490164)), (20, np.float64(0.055824219567359015)), (2566, np.float64(0.055824219567359015)), (514, np.float64(0.05564148840746572)), (597, np.float64(0.05564148840746572)), (644, np.float64(0.05564148840746572)), (994, np.float64(0.05564148840746572)), (1081, np.float64(0.05564148840746572)), (1544, np.float64(0.05564148840746572)), (1581, np.float64(0.05564148840746572)), (1647, np.float64(0.05564148840746572)), (1715, np.float64(0.05564148840746572)), (1736, np.float64(0.05564148840746572)), (1745, np.float64(0.05564148840746572)), (1979, np.float64(0.05564148840746572)), (2207, np.float64(0.05564148840746572)), (2239, np.float64(0.05564148840746572)), (2296, np.float64(0.05564148840746572)), (2847, np.float64(0.05564148840746572)), (3008, np.float64(0.05564148840746572)), (3231, np.float64(0.05564148840746572)), (4377, np.float64(0.05564148840746572)), (25, np.float64(0.05546053999849018)), (116, np.float64(0.05484084971070818)), (339, np.float64(0.05484084971070818)), (395, np.float64(0.05484084971070818)), (485, np.float64(0.05484084971070818)), (575, np.float64(0.05484084971070818)), (603, np.float64(0.05484084971070818)), (646, np.float64(0.05484084971070818)), (1086, np.float64(0.05484084971070818)), (1395, np.float64(0.05484084971070818)), (1909, np.float64(0.05484084971070818)), (2059, np.float64(0.05484084971070818)), (2124, np.float64(0.05484084971070818)), (2220, np.float64(0.05484084971070818)), (2226, np.float64(0.05484084971070818)), (2429, np.float64(0.05484084971070818)), (2688, np.float64(0.05484084971070818)), (2962, np.float64(0.05484084971070818)), (3135, np.float64(0.05484084971070818)), (3345, np.float64(0.05484084971070818)), (3450, np.float64(0.05484084971070818)), (3524, np.float64(0.05484084971070818)), (4329, np.float64(0.05484084971070818)), (887, np.float64(0.054410718758250876)), (1630, np.float64(0.054410718758250876)), (3737, np.float64(0.054410718758250876)), (40, np.float64(0.05407380704358751)), (291, np.float64(0.05407380704358751)), (361, np.float64(0.05407380704358751)), (370, np.float64(0.05407380704358751)), (540, np.float64(0.05407380704358751)), (793, np.float64(0.05407380704358751)), (929, np.float64(0.05407380704358751)), (1009, np.float64(0.05407380704358751)), (1904, np.float64(0.05407380704358751)), (2144, np.float64(0.05407380704358751)), (3505, np.float64(0.05407380704358751)), (3593, np.float64(0.05407380704358751)), (3632, np.float64(0.05407380704358751)), (3760, np.float64(0.05407380704358751)), (3762, np.float64(0.05407380704358751)), (3803, np.float64(0.05407380704358751)), (3849, np.float64(0.05407380704358751)), (4123, np.float64(0.05407380704358751)), (4203, np.float64(0.05407380704358751)), (4293, np.float64(0.05407380704358751)), (4533, np.float64(0.05407380704358751)), (4602, np.float64(0.05407380704358751)), (24, np.float64(0.0533380747062665)), (144, np.float64(0.0533380747062665)), (185, np.float64(0.0533380747062665)), (335, np.float64(0.0533380747062665)), (397, np.float64(0.0533380747062665)), (416, np.float64(0.0533380747062665)), (518, np.float64(0.0533380747062665)), (875, np.float64(0.0533380747062665)), (1078, np.float64(0.0533380747062665)), (1079, np.float64(0.0533380747062665)), (1531, np.float64(0.0533380747062665)), (1588, np.float64(0.0533380747062665)), (1767, np.float64(0.0533380747062665)), (3150, np.float64(0.0533380747062665)), (3355, np.float64(0.0533380747062665)), (4082, np.float64(0.0533380747062665)), (115, np.float64(0.052631578947368425)), (594, np.float64(0.052631578947368425)), (617, np.float64(0.052631578947368425)), (731, np.float64(0.052631578947368425)), (956, np.float64(0.052631578947368425)), (1018, np.float64(0.052631578947368425)), (1059, np.float64(0.052631578947368425)), (1264, np.float64(0.052631578947368425)), (1428, np.float64(0.052631578947368425)), (1515, np.float64(0.052631578947368425)), (1806, np.float64(0.052631578947368425)), (2971, np.float64(0.052631578947368425)), (3088, np.float64(0.052631578947368425)), (3283, np.float64(0.052631578947368425)), (3378, np.float64(0.052631578947368425)), (1671, np.float64(0.052478357140598966)), (3375, np.float64(0.052478357140598966)), (2045, np.float64(0.052175885704047374)), (350, np.float64(0.05195243334661311)), (671, np.float64(0.05195243334661311)), (807, np.float64(0.05195243334661311)), (1246, np.float64(0.05195243334661311)), (1796, np.float64(0.05195243334661311)), (2105, np.float64(0.05195243334661311)), (2523, np.float64(0.05195243334661311)), (2635, np.float64(0.05195243334661311)), (2941, np.float64(0.05195243334661311)), (4369, np.float64(0.05195243334661311)), (113, np.float64(0.051298917604257706)), (372, np.float64(0.051298917604257706)), (379, np.float64(0.051298917604257706)), (658, np.float64(0.051298917604257706)), (961, np.float64(0.051298917604257706)), (1007, np.float64(0.051298917604257706)), (1021, np.float64(0.051298917604257706)), (1728, np.float64(0.051298917604257706)), (1729, np.float64(0.051298917604257706)), (1779, np.float64(0.051298917604257706)), (2003, np.float64(0.051298917604257706)), (2083, np.float64(0.051298917604257706)), (2348, np.float64(0.051298917604257706)), (2397, np.float64(0.051298917604257706)), (2653, np.float64(0.051298917604257706)), (2705, np.float64(0.051298917604257706)), (3078, np.float64(0.051298917604257706)), (3080, np.float64(0.051298917604257706)), (3227, np.float64(0.051298917604257706)), (3612, np.float64(0.051298917604257706)), (3718, np.float64(0.051298917604257706)), (4244, np.float64(0.051298917604257706)), (4281, np.float64(0.051298917604257706)), (4453, np.float64(0.051298917604257706)), (4596, np.float64(0.051298917604257706)), (4624, np.float64(0.051298917604257706)), (4777, np.float64(0.051298917604257706)), (4802, np.float64(0.051298917604257706)), (1424, np.float64(0.05101627678885769)), (163, np.float64(0.050669459193814)), (225, np.float64(0.050669459193814)), (340, np.float64(0.050669459193814)), (430, np.float64(0.050669459193814)), (480, np.float64(0.050669459193814)), (637, np.float64(0.050669459193814)), (647, np.float64(0.050669459193814)), (804, np.float64(0.050669459193814)), (1365, np.float64(0.050669459193814)), (1639, np.float64(0.050669459193814)), (2552, np.float64(0.050669459193814)), (2954, np.float64(0.050669459193814)), (3011, np.float64(0.050669459193814)), (3064, np.float64(0.050669459193814)), (3188, np.float64(0.050669459193814)), (3253, np.float64(0.050669459193814)), (3298, np.float64(0.050669459193814)), (3799, np.float64(0.050669459193814)), (114, np.float64(0.05006261743217589)), (191, np.float64(0.05006261743217589)), (210, np.float64(0.05006261743217589)), (423, np.float64(0.05006261743217589)), (523, np.float64(0.05006261743217589)), (583, np.float64(0.05006261743217589)), (666, np.float64(0.05006261743217589)), (788, np.float64(0.05006261743217589)), (932, np.float64(0.05006261743217589)), (1892, np.float64(0.05006261743217589)), (2298, np.float64(0.05006261743217589)), (2573, np.float64(0.05006261743217589)), (2860, np.float64(0.05006261743217589)), (3804, np.float64(0.05006261743217589)), (4382, np.float64(0.05006261743217589)), (69, np.float64(0.049669963389939155)), (15, np.float64(0.04947706959952935)), (78, np.float64(0.04947706959952935)), (175, np.float64(0.04947706959952935)), (383, np.float64(0.04947706959952935)), (675, np.float64(0.04947706959952935)), (1143, np.float64(0.04947706959952935)), (1467, np.float64(0.04947706959952935)), (1496, np.float64(0.04947706959952935)), (1579, np.float64(0.04947706959952935)), (2211, np.float64(0.04947706959952935)), (2901, np.float64(0.04947706959952935)), (3935, np.float64(0.04947706959952935)), (53, np.float64(0.04891159880445185)), (93, np.float64(0.04891159880445185)), (140, np.float64(0.04891159880445185)), (240, np.float64(0.04891159880445185)), (584, np.float64(0.04891159880445185)), (640, np.float64(0.04891159880445185)), (750, np.float64(0.04891159880445185)), (803, np.float64(0.04891159880445185)), (897, np.float64(0.04891159880445185)), (963, np.float64(0.04891159880445185)), (1001, np.float64(0.04891159880445185)), (1073, np.float64(0.04891159880445185)), (1270, np.float64(0.04891159880445185)), (1279, np.float64(0.04891159880445185)), (1798, np.float64(0.04891159880445185)), (1953, np.float64(0.04891159880445185)), (2031, np.float64(0.04891159880445185)), (2345, np.float64(0.04891159880445185)), (2372, np.float64(0.04891159880445185)), (2676, np.float64(0.04891159880445185)), (2846, np.float64(0.04891159880445185)), (3023, np.float64(0.04891159880445185)), (3029, np.float64(0.04891159880445185)), (3303, np.float64(0.04891159880445185)), (3495, np.float64(0.04891159880445185)), (3753, np.float64(0.04891159880445185)), (3886, np.float64(0.04891159880445185)), (3990, np.float64(0.04891159880445185)), (4050, np.float64(0.04891159880445185)), (4061, np.float64(0.04891159880445185)), (4375, np.float64(0.04891159880445185)), (4528, np.float64(0.04891159880445185)), (4597, np.float64(0.04891159880445185)), (165, np.float64(0.04836508334066745)), (289, np.float64(0.04836508334066745)), (331, np.float64(0.04836508334066745)), (531, np.float64(0.04836508334066745)), (629, np.float64(0.04836508334066745)), (683, np.float64(0.04836508334066745)), (688, np.float64(0.04836508334066745)), (767, np.float64(0.04836508334066745)), (831, np.float64(0.04836508334066745)), (833, np.float64(0.04836508334066745)), (834, np.float64(0.04836508334066745)), (1036, np.float64(0.04836508334066745)), (1184, np.float64(0.04836508334066745)), (1998, np.float64(0.04836508334066745)), (2354, np.float64(0.04836508334066745)), (2767, np.float64(0.04836508334066745)), (3013, np.float64(0.04836508334066745)), (4672, np.float64(0.04836508334066745)), (734, np.float64(0.04783648732349399)), (888, np.float64(0.04783648732349399)), (979, np.float64(0.04783648732349399)), (1453, np.float64(0.04783648732349399)), (1534, np.float64(0.04783648732349399)), (1652, np.float64(0.04783648732349399)), (1726, np.float64(0.04783648732349399)), (1744, np.float64(0.04783648732349399)), (1759, np.float64(0.04783648732349399)), (2205, np.float64(0.04783648732349399)), (2301, np.float64(0.04783648732349399)), (2748, np.float64(0.04783648732349399)), (3037, np.float64(0.04783648732349399)), (3412, np.float64(0.04783648732349399)), (4178, np.float64(0.04783648732349399)), (4512, np.float64(0.04783648732349399)), (555, np.float64(0.04772135722318334)), (3808, np.float64(0.04772135722318334)), (119, np.float64(0.047324852428030105)), (197, np.float64(0.047324852428030105)), (297, np.float64(0.047324852428030105)), (470, np.float64(0.047324852428030105)), (735, np.float64(0.047324852428030105)), (770, np.float64(0.047324852428030105)), (806, np.float64(0.047324852428030105)), (1283, np.float64(0.047324852428030105)), (1528, np.float64(0.047324852428030105)), (1599, np.float64(0.047324852428030105)), (2488, np.float64(0.047324852428030105)), (2772, np.float64(0.047324852428030105)), (3016, np.float64(0.047324852428030105)), (3879, np.float64(0.047324852428030105)), (4399, np.float64(0.047324852428030105)), (376, np.float64(0.046829290579084706)), (442, np.float64(0.046829290579084706)), (1527, np.float64(0.046829290579084706)), (1958, np.float64(0.046829290579084706)), (2196, np.float64(0.046829290579084706)), (2525, np.float64(0.046829290579084706)), (2938, np.float64(0.046829290579084706)), (3178, np.float64(0.046829290579084706)), (3200, np.float64(0.046829290579084706)), (3266, np.float64(0.046829290579084706)), (3273, np.float64(0.046829290579084706)), (3398, np.float64(0.046829290579084706)), (3503, np.float64(0.046829290579084706)), (3652, np.float64(0.046829290579084706)), (3883, np.float64(0.046829290579084706)), (3921, np.float64(0.046829290579084706)), (4060, np.float64(0.046829290579084706)), (4259, np.float64(0.046829290579084706)), (4757, np.float64(0.046829290579084706)), (3795, np.float64(0.04661398235549229)), (578, np.float64(0.046348977465932154)), (645, np.float64(0.046348977465932154)), (1085, np.float64(0.046348977465932154)), (1138, np.float64(0.046348977465932154)), (1455, np.float64(0.046348977465932154)), (2508, np.float64(0.046348977465932154)), (2659, np.float64(0.046348977465932154)), (3331, np.float64(0.046348977465932154)), (3342, np.float64(0.046348977465932154)), (13, np.float64(0.04588314677411236)), (609, np.float64(0.04588314677411236)), (1041, np.float64(0.04588314677411236)), (1110, np.float64(0.04588314677411236)), (1119, np.float64(0.04588314677411236)), (1755, np.float64(0.04588314677411236)), (2158, np.float64(0.04588314677411236)), (2516, np.float64(0.04588314677411236)), (2754, np.float64(0.04588314677411236)), (2798, np.float64(0.04588314677411236)), (4101, np.float64(0.04588314677411236)), (4158, np.float64(0.04588314677411236)), (58, np.float64(0.04543108504242546)), (132, np.float64(0.04543108504242546)), (458, np.float64(0.04543108504242546)), (990, np.float64(0.04543108504242546)), (1153, np.float64(0.04543108504242546)), (1763, np.float64(0.04543108504242546)), (1844, np.float64(0.04543108504242546)), (1997, np.float64(0.04543108504242546)), (2736, np.float64(0.04543108504242546)), (3172, np.float64(0.04543108504242546)), (3264, np.float64(0.04543108504242546)), (248, np.float64(0.04499212706658476)), (1526, np.float64(0.04499212706658476)), (1694, np.float64(0.04499212706658476)), (1818, np.float64(0.04499212706658476)), (2081, np.float64(0.04499212706658476)), (2209, np.float64(0.04499212706658476)), (2311, np.float64(0.04499212706658476)), (3156, np.float64(0.04499212706658476)), (3424, np.float64(0.04499212706658476)), (3460, np.float64(0.04499212706658476)), (3467, np.float64(0.04499212706658476)), (3689, np.float64(0.04499212706658476)), (3726, np.float64(0.04499212706658476)), (3947, np.float64(0.04499212706658476)), (3976, np.float64(0.04499212706658476)), (3986, np.float64(0.04499212706658476)), (4034, np.float64(0.04499212706658476)), (4073, np.float64(0.04499212706658476)), (4279, np.float64(0.04499212706658476)), (4333, np.float64(0.04499212706658476)), (4384, np.float64(0.04499212706658476)), (4587, np.float64(0.04499212706658476)), (4643, np.float64(0.04499212706658476)), (560, np.float64(0.04456565178215865)), (718, np.float64(0.04456565178215865)), (864, np.float64(0.04456565178215865)), (1672, np.float64(0.04456565178215865)), (1673, np.float64(0.04456565178215865)), (2315, np.float64(0.04456565178215865)), (2400, np.float64(0.04456565178215865)), (2638, np.float64(0.04456565178215865)), (3296, np.float64(0.04456565178215865)), (3492, np.float64(0.04456565178215865)), (4152, np.float64(0.04456565178215865)), (217, np.float64(0.044151078568834795)), (565, np.float64(0.044151078568834795)), (873, np.float64(0.044151078568834795)), (1771, np.float64(0.044151078568834795)), (2501, np.float64(0.044151078568834795)), (3015, np.float64(0.044151078568834795)), (586, np.float64(0.043747863925980714)), (1201, np.float64(0.043747863925980714)), (1375, np.float64(0.043747863925980714)), (1589, np.float64(0.043747863925980714)), (1809, np.float64(0.043747863925980714)), (1988, np.float64(0.043747863925980714)), (2418, np.float64(0.043747863925980714)), (602, np.float64(0.043355498476206004)), (774, np.float64(0.043355498476206004)), (816, np.float64(0.043355498476206004)), (891, np.float64(0.043355498476206004)), (1026, np.float64(0.043355498476206004)), (1858, np.float64(0.043355498476206004)), (1980, np.float64(0.043355498476206004)), (2174, np.float64(0.043355498476206004)), (2604, np.float64(0.043355498476206004)), (2643, np.float64(0.043355498476206004)), (2912, np.float64(0.043355498476206004)), (2964, np.float64(0.043355498476206004)), (3004, np.float64(0.043355498476206004)), (3068, np.float64(0.043355498476206004)), (3124, np.float64(0.043355498476206004)), (3128, np.float64(0.043355498476206004)), (3144, np.float64(0.043355498476206004)), (3157, np.float64(0.043355498476206004)), (3361, np.float64(0.043355498476206004)), (3852, np.float64(0.043355498476206004)), (3912, np.float64(0.043355498476206004)), (4362, np.float64(0.043355498476206004)), (4542, np.float64(0.043355498476206004)), (4555, np.float64(0.043355498476206004)), (4564, np.float64(0.043355498476206004)), (4646, np.float64(0.043355498476206004)), (4742, np.float64(0.043355498476206004)), (4784, np.float64(0.043355498476206004)), (106, np.float64(0.042973504259354006)), (551, np.float64(0.042973504259354006)), (710, np.float64(0.042973504259354006)), (733, np.float64(0.042973504259354006)), (2363, np.float64(0.042973504259354006)), (3484, np.float64(0.042973504259354006)), (861, np.float64(0.042601432284230495)), (969, np.float64(0.042601432284230495)), (980, np.float64(0.042601432284230495)), (1853, np.float64(0.042601432284230495)), (2019, np.float64(0.042601432284230495)), (2191, np.float64(0.042601432284230495)), (2725, np.float64(0.042601432284230495)), (4075, np.float64(0.042601432284230495)), (374, np.float64(0.04223886030955117)), (2050, np.float64(0.04223886030955117)), (2169, np.float64(0.04223886030955117)), (2563, np.float64(0.04223886030955117)), (4559, np.float64(0.04223886030955117)), (218, np.float64(0.04188539082916955)), (1019, np.float64(0.04188539082916955)), (1101, np.float64(0.04188539082916955)), (1102, np.float64(0.04188539082916955)), (1249, np.float64(0.04188539082916955)), (1306, np.float64(0.04188539082916955)), (1378, np.float64(0.04188539082916955)), (1433, np.float64(0.04188539082916955)), (1781, np.float64(0.04188539082916955)), (2057, np.float64(0.04188539082916955)), (2606, np.float64(0.04188539082916955)), (2670, np.float64(0.04188539082916955)), (2704, np.float64(0.04188539082916955)), (2720, np.float64(0.04188539082916955)), (2866, np.float64(0.04188539082916955)), (2873, np.float64(0.04188539082916955)), (2889, np.float64(0.04188539082916955)), (2973, np.float64(0.04188539082916955)), (3611, np.float64(0.04188539082916955)), (3960, np.float64(0.04188539082916955)), (4241, np.float64(0.04188539082916955)), (4365, np.float64(0.04188539082916955)), (4635, np.float64(0.04188539082916955)), (3226, np.float64(0.0415406492397264)), (3729, np.float64(0.0415406492397264)), (375, np.float64(0.04120428217151646)), (4607, np.float64(0.04120428217151646)), (1118, np.float64(0.04087595596566438)), (1128, np.float64(0.04087595596566438)), (3581, np.float64(0.04087595596566438)), (4429, np.float64(0.04087595596566438)), (251, np.float64(0.040555355282690636)), (866, np.float64(0.040555355282690636)), (1031, np.float64(0.040555355282690636)), (1181, np.float64(0.040555355282690636)), (1268, np.float64(0.040555355282690636)), (1358, np.float64(0.040555355282690636)), (1417, np.float64(0.040555355282690636)), (1537, np.float64(0.040555355282690636)), (1605, np.float64(0.040555355282690636)), (1864, np.float64(0.040555355282690636)), (1965, np.float64(0.040555355282690636)), (1982, np.float64(0.040555355282690636)), (2146, np.float64(0.040555355282690636)), (2412, np.float64(0.040555355282690636)), (2760, np.float64(0.040555355282690636)), (2776, np.float64(0.040555355282690636)), (3225, np.float64(0.040555355282690636)), (3232, np.float64(0.040555355282690636)), (3301, np.float64(0.040555355282690636)), (3376, np.float64(0.040555355282690636)), (3494, np.float64(0.040555355282690636)), (3522, np.float64(0.040555355282690636)), (3526, np.float64(0.040555355282690636)), (3751, np.float64(0.040555355282690636)), (3894, np.float64(0.040555355282690636)), (4010, np.float64(0.040555355282690636)), (4024, np.float64(0.040555355282690636)), (4042, np.float64(0.040555355282690636)), (4129, np.float64(0.040555355282690636)), (4332, np.float64(0.040555355282690636)), (4573, np.float64(0.040555355282690636)), (4594, np.float64(0.040555355282690636)), (4771, np.float64(0.040555355282690636)), (2425, np.float64(0.04024218182927669)), (4330, np.float64(0.04024218182927669)), (296, np.float64(0.03993615319154359)), (2918, np.float64(0.03993615319154359)), (299, np.float64(0.0396370017644709)), (1133, np.float64(0.0396370017644709)), (186, np.float64(0.039344473768231684)), (1104, np.float64(0.039344473768231684)), (1191, np.float64(0.039344473768231684)), (1207, np.float64(0.039344473768231684)), (1460, np.float64(0.039344473768231684)), (1474, np.float64(0.039344473768231684)), (1626, np.float64(0.039344473768231684)), (1739, np.float64(0.039344473768231684)), (1921, np.float64(0.039344473768231684)), (1935, np.float64(0.039344473768231684)), (1939, np.float64(0.039344473768231684)), (2293, np.float64(0.039344473768231684)), (2388, np.float64(0.039344473768231684)), (2431, np.float64(0.039344473768231684)), (2500, np.float64(0.039344473768231684)), (2554, np.float64(0.039344473768231684)), (2768, np.float64(0.039344473768231684)), (2786, np.float64(0.039344473768231684)), (2826, np.float64(0.039344473768231684)), (2857, np.float64(0.039344473768231684)), (2894, np.float64(0.039344473768231684)), (3117, np.float64(0.039344473768231684)), (3286, np.float64(0.039344473768231684)), (3306, np.float64(0.039344473768231684)), (3418, np.float64(0.039344473768231684)), (3475, np.float64(0.039344473768231684)), (3511, np.float64(0.039344473768231684)), (3840, np.float64(0.039344473768231684)), (3916, np.float64(0.039344473768231684)), (3919, np.float64(0.039344473768231684)), (3953, np.float64(0.039344473768231684)), (4074, np.float64(0.039344473768231684)), (4246, np.float64(0.039344473768231684)), (4300, np.float64(0.039344473768231684)), (4368, np.float64(0.039344473768231684)), (4390, np.float64(0.039344473768231684)), (4460, np.float64(0.039344473768231684)), (1422, np.float64(0.03905832834322535)), (542, np.float64(0.038778336716474064)), (950, np.float64(0.038778336716474064)), (424, np.float64(0.03850428143282595)), (478, np.float64(0.03850428143282595)), (4314, np.float64(0.03850428143282595)), (3, np.float64(0.03823595564509363)), (44, np.float64(0.03823595564509363)), (355, np.float64(0.03823595564509363)), (435, np.float64(0.03823595564509363)), (598, np.float64(0.03823595564509363)), (858, np.float64(0.03823595564509363)), (967, np.float64(0.03823595564509363)), (993, np.float64(0.03823595564509363)), (1008, np.float64(0.03823595564509363)), (1226, np.float64(0.03823595564509363)), (1318, np.float64(0.03823595564509363)), (1381, np.float64(0.03823595564509363)), (1472, np.float64(0.03823595564509363)), (1473, np.float64(0.03823595564509363)), (1498, np.float64(0.03823595564509363)), (1549, np.float64(0.03823595564509363)), (1573, np.float64(0.03823595564509363)), (1609, np.float64(0.03823595564509363)), (1741, np.float64(0.03823595564509363)), (1753, np.float64(0.03823595564509363)), (1897, np.float64(0.03823595564509363)), (1952, np.float64(0.03823595564509363)), (2349, np.float64(0.03823595564509363)), (2390, np.float64(0.03823595564509363)), (2441, np.float64(0.03823595564509363)), (2453, np.float64(0.03823595564509363)), (2475, np.float64(0.03823595564509363)), (2549, np.float64(0.03823595564509363)), (2933, np.float64(0.03823595564509363)), (2948, np.float64(0.03823595564509363)), (3045, np.float64(0.03823595564509363)), (3075, np.float64(0.03823595564509363)), (3165, np.float64(0.03823595564509363)), (3395, np.float64(0.03823595564509363)), (3481, np.float64(0.03823595564509363)), (3518, np.float64(0.03823595564509363)), (3690, np.float64(0.03823595564509363)), (3767, np.float64(0.03823595564509363)), (4128, np.float64(0.03823595564509363)), (4204, np.float64(0.03823595564509363)), (4400, np.float64(0.03823595564509363)), (4463, np.float64(0.03823595564509363)), (4557, np.float64(0.03823595564509363)), (1548, np.float64(0.03771571432023571)), (4582, np.float64(0.03771571432023571)), (613, np.float64(0.03721614637823934)), (739, np.float64(0.03721614637823934)), (748, np.float64(0.03721614637823934)), (796, np.float64(0.03721614637823934)), (1172, np.float64(0.03721614637823934)), (1778, np.float64(0.03721614637823934)), (1785, np.float64(0.03721614637823934)), (2034, np.float64(0.03721614637823934)), (2066, np.float64(0.03721614637823934)), (2278, np.float64(0.03721614637823934)), (2365, np.float64(0.03721614637823934)), (2581, np.float64(0.03721614637823934)), (2667, np.float64(0.03721614637823934)), (2668, np.float64(0.03721614637823934)), (2779, np.float64(0.03721614637823934)), (2803, np.float64(0.03721614637823934)), (3099, np.float64(0.03721614637823934)), (3101, np.float64(0.03721614637823934)), (3115, np.float64(0.03721614637823934)), (3205, np.float64(0.03721614637823934)), (3217, np.float64(0.03721614637823934)), (3445, np.float64(0.03721614637823934)), (3540, np.float64(0.03721614637823934)), (3595, np.float64(0.03721614637823934)), (3625, np.float64(0.03721614637823934)), (3706, np.float64(0.03721614637823934)), (3889, np.float64(0.03721614637823934)), (3970, np.float64(0.03721614637823934)), (4130, np.float64(0.03721614637823934)), (4135, np.float64(0.03721614637823934)), (4554, np.float64(0.03721614637823934)), (4604, np.float64(0.03721614637823934)), (4767, np.float64(0.03721614637823934)), (2342, np.float64(0.036973693332326786)), (1307, np.float64(0.03673591791853225)), (2111, np.float64(0.03650267163704923)), (73, np.float64(0.03627381250550058)), (209, np.float64(0.03627381250550058)), (685, np.float64(0.03627381250550058)), (751, np.float64(0.03627381250550058)), (1312, np.float64(0.03627381250550058)), (1540, np.float64(0.03627381250550058)), (1907, np.float64(0.03627381250550058)), (1944, np.float64(0.03627381250550058)), (2295, np.float64(0.03627381250550058)), (2304, np.float64(0.03627381250550058)), (2338, np.float64(0.03627381250550058)), (2439, np.float64(0.03627381250550058)), (2683, np.float64(0.03627381250550058)), (2733, np.float64(0.03627381250550058)), (2868, np.float64(0.03627381250550058)), (2888, np.float64(0.03627381250550058)), (2980, np.float64(0.03627381250550058)), (3079, np.float64(0.03627381250550058)), (3455, np.float64(0.03627381250550058)), (3546, np.float64(0.03627381250550058)), (3714, np.float64(0.03627381250550058)), (3861, np.float64(0.03627381250550058)), (3946, np.float64(0.03627381250550058)), (3969, np.float64(0.03627381250550058)), (3977, np.float64(0.03627381250550058)), (4028, np.float64(0.03627381250550058)), (4351, np.float64(0.03627381250550058)), (4535, np.float64(0.03627381250550058)), (657, np.float64(0.035612228489788136)), (408, np.float64(0.03539961627023944)), (418, np.float64(0.03539961627023944)), (561, np.float64(0.03539961627023944)), (601, np.float64(0.03539961627023944)), (1057, np.float64(0.03539961627023944)), (1060, np.float64(0.03539961627023944)), (1151, np.float64(0.03539961627023944)), (1333, np.float64(0.03539961627023944)), (1434, np.float64(0.03539961627023944)), (1437, np.float64(0.03539961627023944)), (1485, np.float64(0.03539961627023944)), (1516, np.float64(0.03539961627023944)), (1590, np.float64(0.03539961627023944)), (1666, np.float64(0.03539961627023944)), (1677, np.float64(0.03539961627023944)), (1703, np.float64(0.03539961627023944)), (1719, np.float64(0.03539961627023944)), (2061, np.float64(0.03539961627023944)), (2113, np.float64(0.03539961627023944)), (2190, np.float64(0.03539961627023944)), (2195, np.float64(0.03539961627023944)), (2229, np.float64(0.03539961627023944)), (2459, np.float64(0.03539961627023944)), (2757, np.float64(0.03539961627023944)), (2804, np.float64(0.03539961627023944)), (2923, np.float64(0.03539961627023944)), (3174, np.float64(0.03539961627023944)), (3221, np.float64(0.03539961627023944)), (3334, np.float64(0.03539961627023944)), (3410, np.float64(0.03539961627023944)), (3601, np.float64(0.03539961627023944)), (3648, np.float64(0.03539961627023944)), (3824, np.float64(0.03539961627023944)), (3927, np.float64(0.03539961627023944)), (4023, np.float64(0.03539961627023944)), (4027, np.float64(0.03539961627023944)), (4064, np.float64(0.03539961627023944)), (4193, np.float64(0.03539961627023944)), (4611, np.float64(0.03539961627023944)), (4632, np.float64(0.03539961627023944)), (4700, np.float64(0.03539961627023944)), (4741, np.float64(0.03539961627023944)), (3199, np.float64(0.035190767153889344)), (727, np.float64(0.03498557142706598)), (162, np.float64(0.03458572319330373)), (459, np.float64(0.03458572319330373)), (506, np.float64(0.03458572319330373)), (669, np.float64(0.03458572319330373)), (826, np.float64(0.03458572319330373)), (914, np.float64(0.03458572319330373)), (1289, np.float64(0.03458572319330373)), (1296, np.float64(0.03458572319330373)), (1454, np.float64(0.03458572319330373)), (1521, np.float64(0.03458572319330373)), (1565, np.float64(0.03458572319330373)), (1614, np.float64(0.03458572319330373)), (1800, np.float64(0.03458572319330373)), (1882, np.float64(0.03458572319330373)), (2181, np.float64(0.03458572319330373)), (2263, np.float64(0.03458572319330373)), (2402, np.float64(0.03458572319330373)), (2652, np.float64(0.03458572319330373)), (2678, np.float64(0.03458572319330373)), (2717, np.float64(0.03458572319330373)), (2807, np.float64(0.03458572319330373)), (2832, np.float64(0.03458572319330373)), (2937, np.float64(0.03458572319330373)), (3066, np.float64(0.03458572319330373)), (3500, np.float64(0.03458572319330373)), (3740, np.float64(0.03458572319330373)), (3797, np.float64(0.03458572319330373)), (4202, np.float64(0.03458572319330373)), (4218, np.float64(0.03458572319330373)), (4226, np.float64(0.03458572319330373)), (4324, np.float64(0.03458572319330373)), (4642, np.float64(0.03458572319330373)), (4703, np.float64(0.03458572319330373)), (310, np.float64(0.03439087249804545)), (1446, np.float64(0.03419927840283847)), (161, np.float64(0.03382550457458692)), (320, np.float64(0.03382550457458692)), (463, np.float64(0.03382550457458692)), (590, np.float64(0.03382550457458692)), (638, np.float64(0.03382550457458692)), (681, np.float64(0.03382550457458692)), (716, np.float64(0.03382550457458692)), (783, np.float64(0.03382550457458692)), (878, np.float64(0.03382550457458692)), (957, np.float64(0.03382550457458692)), (989, np.float64(0.03382550457458692)), (1033, np.float64(0.03382550457458692)), (1124, np.float64(0.03382550457458692)), (1217, np.float64(0.03382550457458692)), (1302, np.float64(0.03382550457458692)), (1419, np.float64(0.03382550457458692)), (1444, np.float64(0.03382550457458692)), (1490, np.float64(0.03382550457458692)), (1681, np.float64(0.03382550457458692)), (1877, np.float64(0.03382550457458692)), (1895, np.float64(0.03382550457458692)), (2011, np.float64(0.03382550457458692)), (2063, np.float64(0.03382550457458692)), (2072, np.float64(0.03382550457458692)), (2109, np.float64(0.03382550457458692)), (2140, np.float64(0.03382550457458692)), (2214, np.float64(0.03382550457458692)), (2230, np.float64(0.03382550457458692)), (2562, np.float64(0.03382550457458692)), (2711, np.float64(0.03382550457458692)), (2739, np.float64(0.03382550457458692)), (2842, np.float64(0.03382550457458692)), (2917, np.float64(0.03382550457458692)), (3058, np.float64(0.03382550457458692)), (3149, np.float64(0.03382550457458692)), (3155, np.float64(0.03382550457458692)), (3211, np.float64(0.03382550457458692)), (3214, np.float64(0.03382550457458692)), (3287, np.float64(0.03382550457458692)), (3304, np.float64(0.03382550457458692)), (3336, np.float64(0.03382550457458692)), (3507, np.float64(0.03382550457458692)), (3899, np.float64(0.03382550457458692)), (4092, np.float64(0.03382550457458692)), (4421, np.float64(0.03382550457458692)), (4319, np.float64(0.03364315551262445)), (54, np.float64(0.0331133089266261)), (80, np.float64(0.0331133089266261)), (137, np.float64(0.0331133089266261)), (202, np.float64(0.0331133089266261)), (359, np.float64(0.0331133089266261)), (417, np.float64(0.0331133089266261)), (484, np.float64(0.0331133089266261)), (903, np.float64(0.0331133089266261)), (1014, np.float64(0.0331133089266261)), (1053, np.float64(0.0331133089266261)), (1066, np.float64(0.0331133089266261)), (1348, np.float64(0.0331133089266261)), (1477, np.float64(0.0331133089266261)), (1656, np.float64(0.0331133089266261)), (1664, np.float64(0.0331133089266261)), (1801, np.float64(0.0331133089266261)), (1839, np.float64(0.0331133089266261)), (1845, np.float64(0.0331133089266261)), (1967, np.float64(0.0331133089266261)), (2224, np.float64(0.0331133089266261)), (2305, np.float64(0.0331133089266261)), (2327, np.float64(0.0331133089266261)), (2364, np.float64(0.0331133089266261)), (2560, np.float64(0.0331133089266261)), (2596, np.float64(0.0331133089266261)), (2747, np.float64(0.0331133089266261)), (2850, np.float64(0.0331133089266261)), (3238, np.float64(0.0331133089266261)), (3419, np.float64(0.0331133089266261)), (3454, np.float64(0.0331133089266261)), (3655, np.float64(0.0331133089266261)), (3670, np.float64(0.0331133089266261)), (3749, np.float64(0.0331133089266261)), (3885, np.float64(0.0331133089266261)), (3944, np.float64(0.0331133089266261)), (4182, np.float64(0.0331133089266261)), (4191, np.float64(0.0331133089266261)), (4282, np.float64(0.0331133089266261)), (4313, np.float64(0.0331133089266261)), (4408, np.float64(0.0331133089266261)), (4485, np.float64(0.0331133089266261)), (4652, np.float64(0.0331133089266261)), (4666, np.float64(0.0331133089266261)), (3949, np.float64(0.03260773253630123)), (742, np.float64(0.03244428422615251)), (912, np.float64(0.03244428422615251)), (971, np.float64(0.03244428422615251)), (1042, np.float64(0.03244428422615251)), (1112, np.float64(0.03244428422615251)), (1175, np.float64(0.03244428422615251)), (1186, np.float64(0.03244428422615251)), (1575, np.float64(0.03244428422615251)), (1799, np.float64(0.03244428422615251)), (1898, np.float64(0.03244428422615251)), (1946, np.float64(0.03244428422615251)), (1960, np.float64(0.03244428422615251)), (2015, np.float64(0.03244428422615251)), (2097, np.float64(0.03244428422615251)), (2279, np.float64(0.03244428422615251)), (2312, np.float64(0.03244428422615251)), (2323, np.float64(0.03244428422615251)), (2367, np.float64(0.03244428422615251)), (2451, np.float64(0.03244428422615251)), (3084, np.float64(0.03244428422615251)), (3108, np.float64(0.03244428422615251)), (3134, np.float64(0.03244428422615251)), (3146, np.float64(0.03244428422615251)), (3314, np.float64(0.03244428422615251)), (3465, np.float64(0.03244428422615251)), (3782, np.float64(0.03244428422615251)), (3966, np.float64(0.03244428422615251)), (3975, np.float64(0.03244428422615251)), (3981, np.float64(0.03244428422615251)), (4200, np.float64(0.03244428422615251)), (4292, np.float64(0.03244428422615251)), (599, np.float64(0.032283269414765066)), (2138, np.float64(0.032283269414765066)), (154, np.float64(0.03181423814878889)), (269, np.float64(0.03181423814878889)), (414, np.float64(0.03181423814878889)), (433, np.float64(0.03181423814878889)), (615, np.float64(0.03181423814878889)), (676, np.float64(0.03181423814878889)), (721, np.float64(0.03181423814878889)), (736, np.float64(0.03181423814878889)), (769, np.float64(0.03181423814878889)), (863, np.float64(0.03181423814878889)), (880, np.float64(0.03181423814878889)), (974, np.float64(0.03181423814878889)), (1105, np.float64(0.03181423814878889)), (1564, np.float64(0.03181423814878889)), (1720, np.float64(0.03181423814878889)), (1746, np.float64(0.03181423814878889)), (1836, np.float64(0.03181423814878889)), (2151, np.float64(0.03181423814878889)), (2396, np.float64(0.03181423814878889)), (2443, np.float64(0.03181423814878889)), (2611, np.float64(0.03181423814878889)), (2615, np.float64(0.03181423814878889)), (2654, np.float64(0.03181423814878889)), (2714, np.float64(0.03181423814878889)), (2789, np.float64(0.03181423814878889)), (2920, np.float64(0.03181423814878889)), (2935, np.float64(0.03181423814878889)), (3185, np.float64(0.03181423814878889)), (3284, np.float64(0.03181423814878889)), (3360, np.float64(0.03181423814878889)), (3635, np.float64(0.03181423814878889)), (3704, np.float64(0.03181423814878889)), (3710, np.float64(0.03181423814878889)), (3768, np.float64(0.03181423814878889)), (3817, np.float64(0.03181423814878889)), (3855, np.float64(0.03181423814878889)), (3898, np.float64(0.03181423814878889)), (3922, np.float64(0.03181423814878889)), (3985, np.float64(0.03181423814878889)), (3993, np.float64(0.03181423814878889)), (4017, np.float64(0.03181423814878889)), (4110, np.float64(0.03181423814878889)), (4139, np.float64(0.03181423814878889)), (4434, np.float64(0.03181423814878889)), (4482, np.float64(0.03181423814878889)), (4570, np.float64(0.03181423814878889)), (4744, np.float64(0.03181423814878889)), (323, np.float64(0.031219527052723135)), (384, np.float64(0.031219527052723135)), (401, np.float64(0.031219527052723135)), (553, np.float64(0.031219527052723135)), (559, np.float64(0.031219527052723135)), (648, np.float64(0.031219527052723135)), (762, np.float64(0.031219527052723135)), (818, np.float64(0.031219527052723135)), (941, np.float64(0.031219527052723135)), (991, np.float64(0.031219527052723135)), (1050, np.float64(0.031219527052723135)), (1261, np.float64(0.031219527052723135)), (1311, np.float64(0.031219527052723135)), (1584, np.float64(0.031219527052723135)), (1592, np.float64(0.031219527052723135)), (1631, np.float64(0.031219527052723135)), (2038, np.float64(0.031219527052723135)), (2123, np.float64(0.031219527052723135)), (2223, np.float64(0.031219527052723135)), (2227, np.float64(0.031219527052723135)), (2389, np.float64(0.031219527052723135)), (2409, np.float64(0.031219527052723135)), (2457, np.float64(0.031219527052723135)), (2482, np.float64(0.031219527052723135)), (2839, np.float64(0.031219527052723135)), (2913, np.float64(0.031219527052723135)), (3073, np.float64(0.031219527052723135)), (3116, np.float64(0.031219527052723135)), (3255, np.float64(0.031219527052723135)), (3260, np.float64(0.031219527052723135)), (3707, np.float64(0.031219527052723135)), (3776, np.float64(0.031219527052723135)), (4021, np.float64(0.031219527052723135)), (4083, np.float64(0.031219527052723135)), (4089, np.float64(0.031219527052723135)), (4164, np.float64(0.031219527052723135)), (4402, np.float64(0.031219527052723135)), (4459, np.float64(0.031219527052723135)), (4618, np.float64(0.031219527052723135)), (4661, np.float64(0.031219527052723135)), (4667, np.float64(0.031219527052723135)), (4680, np.float64(0.031219527052723135)), (4699, np.float64(0.031219527052723135)), (4775, np.float64(0.031219527052723135)), (130, np.float64(0.03065696697424829)), (133, np.float64(0.03065696697424829)), (293, np.float64(0.03065696697424829)), (452, np.float64(0.03065696697424829)), (625, np.float64(0.03065696697424829)), (853, np.float64(0.03065696697424829)), (1179, np.float64(0.03065696697424829)), (1336, np.float64(0.03065696697424829)), (1351, np.float64(0.03065696697424829)), (1387, np.float64(0.03065696697424829)), (1410, np.float64(0.03065696697424829)), (1421, np.float64(0.03065696697424829)), (1427, np.float64(0.03065696697424829)), (1488, np.float64(0.03065696697424829)), (1670, np.float64(0.03065696697424829)), (1716, np.float64(0.03065696697424829)), (1866, np.float64(0.03065696697424829)), (2106, np.float64(0.03065696697424829)), (2134, np.float64(0.03065696697424829)), (2344, np.float64(0.03065696697424829)), (2461, np.float64(0.03065696697424829)), (2534, np.float64(0.03065696697424829)), (2542, np.float64(0.03065696697424829)), (2686, np.float64(0.03065696697424829)), (2722, np.float64(0.03065696697424829)), (2855, np.float64(0.03065696697424829)), (2936, np.float64(0.03065696697424829)), (3012, np.float64(0.03065696697424829)), (3230, np.float64(0.03065696697424829)), (3315, np.float64(0.03065696697424829)), (3351, np.float64(0.03065696697424829)), (3547, np.float64(0.03065696697424829)), (3743, np.float64(0.03065696697424829)), (3759, np.float64(0.03065696697424829)), (3783, np.float64(0.03065696697424829)), (3915, np.float64(0.03065696697424829)), (4664, np.float64(0.03065696697424829)), (4754, np.float64(0.03065696697424829)), (4761, np.float64(0.03065696697424829)), (4790, np.float64(0.03065696697424829)), (64, np.float64(0.0301237616564389)), (344, np.float64(0.0301237616564389)), (392, np.float64(0.0301237616564389)), (764, np.float64(0.0301237616564389)), (869, np.float64(0.0301237616564389)), (917, np.float64(0.0301237616564389)), (982, np.float64(0.0301237616564389)), (1027, np.float64(0.0301237616564389)), (1062, np.float64(0.0301237616564389)), (1063, np.float64(0.0301237616564389)), (1400, np.float64(0.0301237616564389)), (1511, np.float64(0.0301237616564389)), (1722, np.float64(0.0301237616564389)), (1756, np.float64(0.0301237616564389)), (1812, np.float64(0.0301237616564389)), (1846, np.float64(0.0301237616564389)), (1850, np.float64(0.0301237616564389)), (1899, np.float64(0.0301237616564389)), (1933, np.float64(0.0301237616564389)), (2040, np.float64(0.0301237616564389)), (2531, np.float64(0.0301237616564389)), (2570, np.float64(0.0301237616564389)), (2810, np.float64(0.0301237616564389)), (2916, np.float64(0.0301237616564389)), (2942, np.float64(0.0301237616564389)), (3261, np.float64(0.0301237616564389)), (3262, np.float64(0.0301237616564389)), (3394, np.float64(0.0301237616564389)), (3436, np.float64(0.0301237616564389)), (3598, np.float64(0.0301237616564389)), (3778, np.float64(0.0301237616564389)), (3954, np.float64(0.0301237616564389)), (4063, np.float64(0.0301237616564389)), (4105, np.float64(0.0301237616564389)), (4117, np.float64(0.0301237616564389)), (4232, np.float64(0.0301237616564389)), (4349, np.float64(0.0301237616564389)), (4549, np.float64(0.0301237616564389)), (4575, np.float64(0.0301237616564389)), (4629, np.float64(0.0301237616564389)), (2684, np.float64(0.02999475137772317)), (176, np.float64(0.029617443887954616)), (272, np.float64(0.029617443887954616)), (405, np.float64(0.029617443887954616)), (439, np.float64(0.029617443887954616)), (700, np.float64(0.029617443887954616)), (987, np.float64(0.029617443887954616)), (1082, np.float64(0.029617443887954616)), (1147, np.float64(0.029617443887954616)), (1285, np.float64(0.029617443887954616)), (1349, np.float64(0.029617443887954616)), (1418, np.float64(0.029617443887954616)), (1456, np.float64(0.029617443887954616)), (1461, np.float64(0.029617443887954616)), (1663, np.float64(0.029617443887954616)), (1902, np.float64(0.029617443887954616)), (1924, np.float64(0.029617443887954616)), (2118, np.float64(0.029617443887954616)), (2185, np.float64(0.029617443887954616)), (2202, np.float64(0.029617443887954616)), (2262, np.float64(0.029617443887954616)), (2351, np.float64(0.029617443887954616)), (2925, np.float64(0.029617443887954616)), (3072, np.float64(0.029617443887954616)), (3129, np.float64(0.029617443887954616)), (3193, np.float64(0.029617443887954616)), (3337, np.float64(0.029617443887954616)), (3401, np.float64(0.029617443887954616)), (3442, np.float64(0.029617443887954616)), (3514, np.float64(0.029617443887954616)), (3845, np.float64(0.029617443887954616)), (4536, np.float64(0.029617443887954616)), (4720, np.float64(0.029617443887954616)), (4773, np.float64(0.029617443887954616)), (333, np.float64(0.02913582733740325)), (441, np.float64(0.02913582733740325)), (468, np.float64(0.02913582733740325)), (482, np.float64(0.02913582733740325)), (567, np.float64(0.02913582733740325)), (756, np.float64(0.02913582733740325)), (830, np.float64(0.02913582733740325)), (934, np.float64(0.02913582733740325)), (964, np.float64(0.02913582733740325)), (1241, np.float64(0.02913582733740325)), (1481, np.float64(0.02913582733740325)), (1659, np.float64(0.02913582733740325)), (1727, np.float64(0.02913582733740325)), (1808, np.float64(0.02913582733740325)), (1881, np.float64(0.02913582733740325)), (1956, np.float64(0.02913582733740325)), (2257, np.float64(0.02913582733740325)), (2291, np.float64(0.02913582733740325)), (2326, np.float64(0.02913582733740325)), (2496, np.float64(0.02913582733740325)), (2628, np.float64(0.02913582733740325)), (2662, np.float64(0.02913582733740325)), (2806, np.float64(0.02913582733740325)), (2854, np.float64(0.02913582733740325)), (2970, np.float64(0.02913582733740325)), (3032, np.float64(0.02913582733740325)), (3069, np.float64(0.02913582733740325)), (3181, np.float64(0.02913582733740325)), (3249, np.float64(0.02913582733740325)), (3291, np.float64(0.02913582733740325)), (3327, np.float64(0.02913582733740325)), (3340, np.float64(0.02913582733740325)), (3367, np.float64(0.02913582733740325)), (3771, np.float64(0.02913582733740325)), (3843, np.float64(0.02913582733740325)), (3951, np.float64(0.02913582733740325)), (4111, np.float64(0.02913582733740325)), (4112, np.float64(0.02913582733740325)), (4209, np.float64(0.02913582733740325)), (4327, np.float64(0.02913582733740325)), (4413, np.float64(0.02913582733740325)), (4669, np.float64(0.02913582733740325)), (4691, np.float64(0.02913582733740325)), (4693, np.float64(0.02913582733740325)), (4731, np.float64(0.02913582733740325)), (4752, np.float64(0.02913582733740325)), (171, np.float64(0.028676966733820218)), (226, np.float64(0.028676966733820218)), (352, np.float64(0.028676966733820218)), (761, np.float64(0.028676966733820218)), (871, np.float64(0.028676966733820218)), (882, np.float64(0.028676966733820218)), (1022, np.float64(0.028676966733820218)), (1098, np.float64(0.028676966733820218)), (1129, np.float64(0.028676966733820218)), (1227, np.float64(0.028676966733820218)), (1322, np.float64(0.028676966733820218)), (1402, np.float64(0.028676966733820218)), (1486, np.float64(0.028676966733820218)), (1608, np.float64(0.028676966733820218)), (1833, np.float64(0.028676966733820218)), (1855, np.float64(0.028676966733820218)), (1884, np.float64(0.028676966733820218)), (2020, np.float64(0.028676966733820218)), (2168, np.float64(0.028676966733820218)), (2175, np.float64(0.028676966733820218)), (2192, np.float64(0.028676966733820218)), (2333, np.float64(0.028676966733820218)), (2343, np.float64(0.028676966733820218)), (2510, np.float64(0.028676966733820218)), (2755, np.float64(0.028676966733820218)), (2890, np.float64(0.028676966733820218)), (2927, np.float64(0.028676966733820218)), (2951, np.float64(0.028676966733820218)), (2982, np.float64(0.028676966733820218)), (3098, np.float64(0.028676966733820218)), (3162, np.float64(0.028676966733820218)), (3645, np.float64(0.028676966733820218)), (4035, np.float64(0.028676966733820218)), (4037, np.float64(0.028676966733820218)), (4166, np.float64(0.028676966733820218)), (4238, np.float64(0.028676966733820218)), (4248, np.float64(0.028676966733820218)), (4406, np.float64(0.028676966733820218)), (4420, np.float64(0.028676966733820218)), (4569, np.float64(0.028676966733820218)), (99, np.float64(0.028239124736245257)), (214, np.float64(0.028239124736245257)), (265, np.float64(0.028239124736245257)), (303, np.float64(0.028239124736245257)), (327, np.float64(0.028239124736245257)), (427, np.float64(0.028239124736245257)), (437, np.float64(0.028239124736245257)), (690, np.float64(0.028239124736245257)), (753, np.float64(0.028239124736245257)), (883, np.float64(0.028239124736245257)), (1197, np.float64(0.028239124736245257)), (1562, np.float64(0.028239124736245257)), (1642, np.float64(0.028239124736245257)), (1862, np.float64(0.028239124736245257)), (1929, np.float64(0.028239124736245257)), (2073, np.float64(0.028239124736245257)), (2128, np.float64(0.028239124736245257)), (2130, np.float64(0.028239124736245257)), (2198, np.float64(0.028239124736245257)), (2445, np.float64(0.028239124736245257)), (2495, np.float64(0.028239124736245257)), (2658, np.float64(0.028239124736245257)), (2702, np.float64(0.028239124736245257)), (2744, np.float64(0.028239124736245257)), (2811, np.float64(0.028239124736245257)), (2822, np.float64(0.028239124736245257)), (2875, np.float64(0.028239124736245257)), (3022, np.float64(0.028239124736245257)), (3051, np.float64(0.028239124736245257)), (3062, np.float64(0.028239124736245257)), (3220, np.float64(0.028239124736245257)), (3316, np.float64(0.028239124736245257)), (3470, np.float64(0.028239124736245257)), (3501, np.float64(0.028239124736245257)), (3510, np.float64(0.028239124736245257)), (3532, np.float64(0.028239124736245257)), (3761, np.float64(0.028239124736245257)), (4007, np.float64(0.028239124736245257)), (4341, np.float64(0.028239124736245257)), (4510, np.float64(0.028239124736245257)), (4540, np.float64(0.028239124736245257)), (4589, np.float64(0.028239124736245257)), (4149, np.float64(0.028132762306570986)), (57, np.float64(0.02782074420373286)), (521, np.float64(0.02782074420373286)), (556, np.float64(0.02782074420373286)), (588, np.float64(0.02782074420373286)), (810, np.float64(0.02782074420373286)), (837, np.float64(0.02782074420373286)), (862, np.float64(0.02782074420373286)), (1032, np.float64(0.02782074420373286)), (1196, np.float64(0.02782074420373286)), (1245, np.float64(0.02782074420373286)), (1593, np.float64(0.02782074420373286)), (1691, np.float64(0.02782074420373286)), (1735, np.float64(0.02782074420373286)), (1817, np.float64(0.02782074420373286)), (1947, np.float64(0.02782074420373286)), (1964, np.float64(0.02782074420373286)), (2062, np.float64(0.02782074420373286)), (2156, np.float64(0.02782074420373286)), (2160, np.float64(0.02782074420373286)), (2180, np.float64(0.02782074420373286)), (2265, np.float64(0.02782074420373286)), (2416, np.float64(0.02782074420373286)), (2859, np.float64(0.02782074420373286)), (2899, np.float64(0.02782074420373286)), (3147, np.float64(0.02782074420373286)), (3166, np.float64(0.02782074420373286)), (3167, np.float64(0.02782074420373286)), (3281, np.float64(0.02782074420373286)), (3285, np.float64(0.02782074420373286)), (3384, np.float64(0.02782074420373286)), (3541, np.float64(0.02782074420373286)), (3555, np.float64(0.02782074420373286)), (3644, np.float64(0.02782074420373286)), (3660, np.float64(0.02782074420373286)), (3669, np.float64(0.02782074420373286)), (3742, np.float64(0.02782074420373286)), (3846, np.float64(0.02782074420373286)), (4076, np.float64(0.02782074420373286)), (4107, np.float64(0.02782074420373286)), (4211, np.float64(0.02782074420373286)), (4380, np.float64(0.02782074420373286)), (4543, np.float64(0.02782074420373286)), (4675, np.float64(0.02782074420373286)), (60, np.float64(0.02742042485535409)), (390, np.float64(0.02742042485535409)), (438, np.float64(0.02742042485535409)), (445, np.float64(0.02742042485535409)), (460, np.float64(0.02742042485535409)), (500, np.float64(0.02742042485535409)), (545, np.float64(0.02742042485535409)), (550, np.float64(0.02742042485535409)), (576, np.float64(0.02742042485535409)), (636, np.float64(0.02742042485535409)), (955, np.float64(0.02742042485535409)), (1044, np.float64(0.02742042485535409)), (1445, np.float64(0.02742042485535409)), (1502, np.float64(0.02742042485535409)), (1784, np.float64(0.02742042485535409)), (1788, np.float64(0.02742042485535409)), (1795, np.float64(0.02742042485535409)), (1807, np.float64(0.02742042485535409)), (2024, np.float64(0.02742042485535409)), (2601, np.float64(0.02742042485535409)), (2699, np.float64(0.02742042485535409)), (2773, np.float64(0.02742042485535409)), (2825, np.float64(0.02742042485535409)), (2929, np.float64(0.02742042485535409)), (3142, np.float64(0.02742042485535409)), (3318, np.float64(0.02742042485535409)), (3386, np.float64(0.02742042485535409)), (3438, np.float64(0.02742042485535409)), (3733, np.float64(0.02742042485535409)), (3809, np.float64(0.02742042485535409)), (3876, np.float64(0.02742042485535409)), (3902, np.float64(0.02742042485535409)), (4185, np.float64(0.02742042485535409)), (4207, np.float64(0.02742042485535409)), (4410, np.float64(0.02742042485535409)), (4498, np.float64(0.02742042485535409)), (4674, np.float64(0.02742042485535409)), (4707, np.float64(0.02742042485535409)), (380, np.float64(0.027036903521793755)), (440, np.float64(0.027036903521793755)), (817, np.float64(0.027036903521793755)), (828, np.float64(0.027036903521793755)), (1163, np.float64(0.027036903521793755)), (1168, np.float64(0.027036903521793755)), (1258, np.float64(0.027036903521793755)), (1384, np.float64(0.027036903521793755)), (1618, np.float64(0.027036903521793755)), (1690, np.float64(0.027036903521793755)), (1971, np.float64(0.027036903521793755)), (2414, np.float64(0.027036903521793755)), (2718, np.float64(0.027036903521793755)), (2770, np.float64(0.027036903521793755)), (2831, np.float64(0.027036903521793755)), (2837, np.float64(0.027036903521793755)), (2957, np.float64(0.027036903521793755)), (3203, np.float64(0.027036903521793755)), (3282, np.float64(0.027036903521793755)), (3356, np.float64(0.027036903521793755)), (3572, np.float64(0.027036903521793755)), (3745, np.float64(0.027036903521793755)), (3788, np.float64(0.027036903521793755)), (3914, np.float64(0.027036903521793755)), (3923, np.float64(0.027036903521793755)), (4236, np.float64(0.027036903521793755)), (4422, np.float64(0.027036903521793755)), (677, np.float64(0.02666903735313325)), (757, np.float64(0.02666903735313325)), (832, np.float64(0.02666903735313325)), (855, np.float64(0.02666903735313325)), (902, np.float64(0.02666903735313325)), (1004, np.float64(0.02666903735313325)), (1034, np.float64(0.02666903735313325)), (1046, np.float64(0.02666903735313325)), (1471, np.float64(0.02666903735313325)), (1507, np.float64(0.02666903735313325)), (1577, np.float64(0.02666903735313325)), (1604, np.float64(0.02666903735313325)), (1649, np.float64(0.02666903735313325)), (1868, np.float64(0.02666903735313325)), (1908, np.float64(0.02666903735313325)), (1957, np.float64(0.02666903735313325)), (1977, np.float64(0.02666903735313325)), (2173, np.float64(0.02666903735313325)), (2347, np.float64(0.02666903735313325)), (2467, np.float64(0.02666903735313325)), (2539, np.float64(0.02666903735313325)), (2823, np.float64(0.02666903735313325)), (3030, np.float64(0.02666903735313325)), (3035, np.float64(0.02666903735313325)), (3268, np.float64(0.02666903735313325)), (3608, np.float64(0.02666903735313325)), (3834, np.float64(0.02666903735313325)), (3853, np.float64(0.02666903735313325)), (3932, np.float64(0.02666903735313325)), (4634, np.float64(0.02666903735313325)), (4755, np.float64(0.02666903735313325)), (211, np.float64(0.026315789473684213)), (268, np.float64(0.026315789473684213)), (387, np.float64(0.026315789473684213)), (515, np.float64(0.026315789473684213)), (563, np.float64(0.026315789473684213)), (713, np.float64(0.026315789473684213)), (720, np.float64(0.026315789473684213)), (835, np.float64(0.026315789473684213)), (874, np.float64(0.026315789473684213)), (915, np.float64(0.026315789473684213)), (1300, np.float64(0.026315789473684213)), (1450, np.float64(0.026315789473684213)), (1598, np.float64(0.026315789473684213)), (1621, np.float64(0.026315789473684213)), (1640, np.float64(0.026315789473684213)), (1657, np.float64(0.026315789473684213)), (2362, np.float64(0.026315789473684213)), (2373, np.float64(0.026315789473684213)), (2460, np.float64(0.026315789473684213)), (2463, np.float64(0.026315789473684213)), (2477, np.float64(0.026315789473684213)), (2486, np.float64(0.026315789473684213)), (2795, np.float64(0.026315789473684213)), (2809, np.float64(0.026315789473684213)), (2819, np.float64(0.026315789473684213)), (2965, np.float64(0.026315789473684213)), (3010, np.float64(0.026315789473684213)), (3321, np.float64(0.026315789473684213)), (3483, np.float64(0.026315789473684213)), (3780, np.float64(0.026315789473684213)), (3850, np.float64(0.026315789473684213)), (3872, np.float64(0.026315789473684213)), (3910, np.float64(0.026315789473684213)), (4020, np.float64(0.026315789473684213)), (4213, np.float64(0.026315789473684213)), (4263, np.float64(0.026315789473684213)), (4288, np.float64(0.026315789473684213)), (4335, np.float64(0.026315789473684213)), (4372, np.float64(0.026315789473684213)), (4553, np.float64(0.026315789473684213)), (4558, np.float64(0.026315789473684213)), (4739, np.float64(0.026315789473684213)), (287, np.float64(0.025976216673306556)), (592, np.float64(0.025976216673306556)), (631, np.float64(0.025976216673306556)), (659, np.float64(0.025976216673306556)), (1121, np.float64(0.025976216673306556)), (1203, np.float64(0.025976216673306556)), (1233, np.float64(0.025976216673306556)), (1501, np.float64(0.025976216673306556)), (1686, np.float64(0.025976216673306556)), (2004, np.float64(0.025976216673306556)), (2005, np.float64(0.025976216673306556)), (2008, np.float64(0.025976216673306556)), (2025, np.float64(0.025976216673306556)), (2051, np.float64(0.025976216673306556)), (2150, np.float64(0.025976216673306556)), (2176, np.float64(0.025976216673306556)), (2197, np.float64(0.025976216673306556)), (2272, np.float64(0.025976216673306556)), (2294, np.float64(0.025976216673306556)), (2340, np.float64(0.025976216673306556)), (2369, np.float64(0.025976216673306556)), (2532, np.float64(0.025976216673306556)), (2551, np.float64(0.025976216673306556)), (2719, np.float64(0.025976216673306556)), (2848, np.float64(0.025976216673306556)), (2986, np.float64(0.025976216673306556)), (3005, np.float64(0.025976216673306556)), (3136, np.float64(0.025976216673306556)), (3290, np.float64(0.025976216673306556)), (3476, np.float64(0.025976216673306556)), (3700, np.float64(0.025976216673306556)), (3702, np.float64(0.025976216673306556)), (3747, np.float64(0.025976216673306556)), (4125, np.float64(0.025976216673306556)), (4261, np.float64(0.025976216673306556)), (4299, np.float64(0.025976216673306556)), (4317, np.float64(0.025976216673306556)), (4383, np.float64(0.025976216673306556)), (4450, np.float64(0.025976216673306556)), (4782, np.float64(0.025976216673306556)), (453, np.float64(0.025649458802128853)), (723, np.float64(0.025649458802128853)), (930, np.float64(0.025649458802128853)), (959, np.float64(0.025649458802128853)), (1228, np.float64(0.025649458802128853)), (1447, np.float64(0.025649458802128853)), (1466, np.float64(0.025649458802128853)), (1542, np.float64(0.025649458802128853)), (1557, np.float64(0.025649458802128853)), (1638, np.float64(0.025649458802128853)), (1644, np.float64(0.025649458802128853)), (1749, np.float64(0.025649458802128853)), (1843, np.float64(0.025649458802128853)), (1896, np.float64(0.025649458802128853)), (1912, np.float64(0.025649458802128853)), (2010, np.float64(0.025649458802128853)), (2076, np.float64(0.025649458802128853)), (2469, np.float64(0.025649458802128853)), (2483, np.float64(0.025649458802128853)), (2689, np.float64(0.025649458802128853)), (2696, np.float64(0.025649458802128853)), (2824, np.float64(0.025649458802128853)), (2947, np.float64(0.025649458802128853)), (2983, np.float64(0.025649458802128853)), (3018, np.float64(0.025649458802128853)), (3252, np.float64(0.025649458802128853)), (3271, np.float64(0.025649458802128853)), (3399, np.float64(0.025649458802128853)), (3473, np.float64(0.025649458802128853)), (3662, np.float64(0.025649458802128853)), (3928, np.float64(0.025649458802128853)), (3989, np.float64(0.025649458802128853)), (4284, np.float64(0.025649458802128853)), (4401, np.float64(0.025649458802128853)), (4446, np.float64(0.025649458802128853)), (4458, np.float64(0.025649458802128853)), (4469, np.float64(0.025649458802128853)), (4633, np.float64(0.025649458802128853)), (4730, np.float64(0.025649458802128853)), (4804, np.float64(0.025649458802128853)), (204, np.float64(0.025334729596907)), (324, np.float64(0.025334729596907)), (407, np.float64(0.025334729596907)), (450, np.float64(0.025334729596907)), (841, np.float64(0.025334729596907)), (946, np.float64(0.025334729596907)), (2002, np.float64(0.025334729596907)), (2142, np.float64(0.025334729596907)), (2352, np.float64(0.025334729596907)), (2357, np.float64(0.025334729596907)), (2410, np.float64(0.025334729596907)), (2436, np.float64(0.025334729596907)), (2613, np.float64(0.025334729596907)), (2665, np.float64(0.025334729596907)), (2707, np.float64(0.025334729596907)), (2713, np.float64(0.025334729596907)), (2752, np.float64(0.025334729596907)), (2777, np.float64(0.025334729596907)), (2932, np.float64(0.025334729596907)), (3206, np.float64(0.025334729596907)), (3276, np.float64(0.025334729596907)), (3358, np.float64(0.025334729596907)), (3368, np.float64(0.025334729596907)), (3711, np.float64(0.025334729596907)), (4011, np.float64(0.025334729596907)), (4078, np.float64(0.025334729596907)), (4262, np.float64(0.025334729596907)), (4266, np.float64(0.025334729596907)), (4576, np.float64(0.025334729596907)), (4772, np.float64(0.025334729596907)), (1859, np.float64(0.02510614089713764)), (178, np.float64(0.025031308716087945)), (364, np.float64(0.025031308716087945)), (394, np.float64(0.025031308716087945)), (431, np.float64(0.025031308716087945)), (451, np.float64(0.025031308716087945)), (509, np.float64(0.025031308716087945)), (655, np.float64(0.025031308716087945)), (706, np.float64(0.025031308716087945)), (856, np.float64(0.025031308716087945)), (952, np.float64(0.025031308716087945)), (1015, np.float64(0.025031308716087945)), (1116, np.float64(0.025031308716087945)), (1125, np.float64(0.025031308716087945)), (1178, np.float64(0.025031308716087945)), (1255, np.float64(0.025031308716087945)), (1553, np.float64(0.025031308716087945)), (1561, np.float64(0.025031308716087945)), (1701, np.float64(0.025031308716087945)), (1797, np.float64(0.025031308716087945)), (1834, np.float64(0.025031308716087945)), (2378, np.float64(0.025031308716087945)), (2433, np.float64(0.025031308716087945)), (2607, np.float64(0.025031308716087945)), (2623, np.float64(0.025031308716087945)), (2627, np.float64(0.025031308716087945)), (2726, np.float64(0.025031308716087945)), (2863, np.float64(0.025031308716087945)), (2952, np.float64(0.025031308716087945)), (3043, np.float64(0.025031308716087945)), (3118, np.float64(0.025031308716087945)), (3202, np.float64(0.025031308716087945)), (3242, np.float64(0.025031308716087945)), (3289, np.float64(0.025031308716087945)), (3414, np.float64(0.025031308716087945)), (3823, np.float64(0.025031308716087945)), (4620, np.float64(0.025031308716087945)), (399, np.float64(0.024738534799764674)), (446, np.float64(0.024738534799764674)), (448, np.float64(0.024738534799764674)), (455, np.float64(0.024738534799764674)), (516, np.float64(0.024738534799764674)), (630, np.float64(0.024738534799764674)), (724, np.float64(0.024738534799764674)), (743, np.float64(0.024738534799764674)), (758, np.float64(0.024738534799764674)), (1142, np.float64(0.024738534799764674)), (1837, np.float64(0.024738534799764674)), (1932, np.float64(0.024738534799764674)), (2055, np.float64(0.024738534799764674)), (2088, np.float64(0.024738534799764674)), (2091, np.float64(0.024738534799764674)), (2182, np.float64(0.024738534799764674)), (2222, np.float64(0.024738534799764674)), (2268, np.float64(0.024738534799764674)), (2337, np.float64(0.024738534799764674)), (2669, np.float64(0.024738534799764674)), (2821, np.float64(0.024738534799764674)), (3106, np.float64(0.024738534799764674)), (3159, np.float64(0.024738534799764674)), (3224, np.float64(0.024738534799764674)), (3254, np.float64(0.024738534799764674)), (3538, np.float64(0.024738534799764674)), (3643, np.float64(0.024738534799764674)), (3693, np.float64(0.024738534799764674)), (3930, np.float64(0.024738534799764674)), (3988, np.float64(0.024738534799764674)), (4427, np.float64(0.024738534799764674)), (4690, np.float64(0.024738534799764674)), (136, np.float64(0.024455799402225926)), (261, np.float64(0.024455799402225926)), (705, np.float64(0.024455799402225926)), (708, np.float64(0.024455799402225926)), (919, np.float64(0.024455799402225926)), (953, np.float64(0.024455799402225926)), (962, np.float64(0.024455799402225926)), (1065, np.float64(0.024455799402225926)), (1155, np.float64(0.024455799402225926)), (1368, np.float64(0.024455799402225926)), (1494, np.float64(0.024455799402225926)), (1689, np.float64(0.024455799402225926)), (1782, np.float64(0.024455799402225926)), (2079, np.float64(0.024455799402225926)), (2426, np.float64(0.024455799402225926)), (2449, np.float64(0.024455799402225926)), (2922, np.float64(0.024455799402225926)), (2992, np.float64(0.024455799402225926)), (3173, np.float64(0.024455799402225926)), (3182, np.float64(0.024455799402225926)), (3197, np.float64(0.024455799402225926)), (3551, np.float64(0.024455799402225926)), (3586, np.float64(0.024455799402225926)), (3786, np.float64(0.024455799402225926)), (4065, np.float64(0.024455799402225926)), (4192, np.float64(0.024455799402225926)), (4371, np.float64(0.024455799402225926)), (4392, np.float64(0.024455799402225926)), (4748, np.float64(0.024455799402225926)), (2878, np.float64(0.02438661736998237)), (580, np.float64(0.024182541670333724)), (1340, np.float64(0.024182541670333724)), (1794, np.float64(0.024182541670333724)), (1906, np.float64(0.024182541670333724)), (2259, np.float64(0.024182541670333724)), (2437, np.float64(0.024182541670333724)), (2512, np.float64(0.024182541670333724)), (2556, np.float64(0.024182541670333724)), (2631, np.float64(0.024182541670333724)), (2801, np.float64(0.024182541670333724)), (3046, np.float64(0.024182541670333724)), (3105, np.float64(0.024182541670333724)), (4530, np.float64(0.024182541670333724)), (4590, np.float64(0.024182541670333724)), (4713, np.float64(0.024182541670333724)), (4803, np.float64(0.024182541670333724)), (66, np.float64(0.023918243661746996)), (110, np.float64(0.023918243661746996)), (173, np.float64(0.023918243661746996)), (525, np.float64(0.023918243661746996)), (611, np.float64(0.023918243661746996)), (868, np.float64(0.023918243661746996)), (1051, np.float64(0.023918243661746996)), (1993, np.float64(0.023918243661746996)), (2047, np.float64(0.023918243661746996)), (2674, np.float64(0.023918243661746996)), (3459, np.float64(0.023918243661746996)), (3614, np.float64(0.023918243661746996)), (3877, np.float64(0.023918243661746996)), (4066, np.float64(0.023918243661746996)), (4103, np.float64(0.023918243661746996)), (4325, np.float64(0.023918243661746996)), (4484, np.float64(0.023918243661746996)), (4801, np.float64(0.023918243661746996)), (2879, np.float64(0.023853512166434804)), (221, np.float64(0.023662426214015053)), (273, np.float64(0.023662426214015053)), (566, np.float64(0.023662426214015053)), (907, np.float64(0.023662426214015053)), (911, np.float64(0.023662426214015053)), (1099, np.float64(0.023662426214015053)), (1100, np.float64(0.023662426214015053)), (1123, np.float64(0.023662426214015053)), (1225, np.float64(0.023662426214015053)), (1506, np.float64(0.023662426214015053)), (1810, np.float64(0.023662426214015053)), (1872, np.float64(0.023662426214015053)), (1983, np.float64(0.023662426214015053)), (2046, np.float64(0.023662426214015053)), (2067, np.float64(0.023662426214015053)), (2183, np.float64(0.023662426214015053)), (2366, np.float64(0.023662426214015053)), (3097, np.float64(0.023662426214015053)), (3369, np.float64(0.023662426214015053)), (3727, np.float64(0.023662426214015053)), (3736, np.float64(0.023662426214015053)), (3793, np.float64(0.023662426214015053)), (3805, np.float64(0.023662426214015053)), (3995, np.float64(0.023662426214015053)), (4529, np.float64(0.023662426214015053)), (569, np.float64(0.023414645289542353)), (652, np.float64(0.023414645289542353)), (1115, np.float64(0.023414645289542353)), (1216, np.float64(0.023414645289542353)), (1413, np.float64(0.023414645289542353)), (1459, np.float64(0.023414645289542353)), (2026, np.float64(0.023414645289542353)), (2216, np.float64(0.023414645289542353)), (2521, np.float64(0.023414645289542353)), (2625, np.float64(0.023414645289542353)), (3109, np.float64(0.023414645289542353)), (3474, np.float64(0.023414645289542353)), (3520, np.float64(0.023414645289542353)), (3629, np.float64(0.023414645289542353)), (4002, np.float64(0.023414645289542353)), (4359, np.float64(0.023414645289542353)), (337, np.float64(0.023174488732966077)), (528, np.float64(0.023174488732966077)), (574, np.float64(0.023174488732966077)), (682, np.float64(0.023174488732966077)), (702, np.float64(0.023174488732966077)), (1208, np.float64(0.023174488732966077)), (1463, np.float64(0.023174488732966077)), (1512, np.float64(0.023174488732966077)), (1586, np.float64(0.023174488732966077)), (1680, np.float64(0.023174488732966077)), (1860, np.float64(0.023174488732966077)), (2021, np.float64(0.023174488732966077)), (2473, np.float64(0.023174488732966077)), (3042, np.float64(0.023174488732966077)), (3151, np.float64(0.023174488732966077)), (3246, np.float64(0.023174488732966077)), (3269, np.float64(0.023174488732966077)), (3530, np.float64(0.023174488732966077)), (3735, np.float64(0.023174488732966077)), (4177, np.float64(0.023174488732966077)), (4552, np.float64(0.023174488732966077)), (4759, np.float64(0.023174488732966077)), (353, np.float64(0.02294157338705618)), (447, np.float64(0.02294157338705618)), (633, np.float64(0.02294157338705618)), (747, np.float64(0.02294157338705618)), (1126, np.float64(0.02294157338705618)), (1550, np.float64(0.02294157338705618)), (1721, np.float64(0.02294157338705618)), (1758, np.float64(0.02294157338705618)), (2600, np.float64(0.02294157338705618)), (2780, np.float64(0.02294157338705618)), (3813, np.float64(0.02294157338705618)), (3948, np.float64(0.02294157338705618)), (4694, np.float64(0.02294157338705618)), (698, np.float64(0.02271554252121273)), (1305, np.float64(0.02271554252121273)), (1704, np.float64(0.02271554252121273)), (1936, np.float64(0.02271554252121273)), (2149, np.float64(0.02271554252121273)), (2187, np.float64(0.02271554252121273)), (2376, np.float64(0.02271554252121273)), (2602, np.float64(0.02271554252121273)), (2753, np.float64(0.02271554252121273)), (2814, np.float64(0.02271554252121273)), (3213, np.float64(0.02271554252121273)), (3235, np.float64(0.02271554252121273)), (3328, np.float64(0.02271554252121273)), (3692, np.float64(0.02271554252121273)), (4280, np.float64(0.02271554252121273)), (4358, np.float64(0.02271554252121273)), (181, np.float64(0.02249606353329238)), (258, np.float64(0.02249606353329238)), (345, np.float64(0.02249606353329238)), (386, np.float64(0.02249606353329238)), (396, np.float64(0.02249606353329238)), (795, np.float64(0.02249606353329238)), (815, np.float64(0.02249606353329238)), (852, np.float64(0.02249606353329238)), (904, np.float64(0.02249606353329238)), (910, np.float64(0.02249606353329238)), (1242, np.float64(0.02249606353329238)), (1313, np.float64(0.02249606353329238)), (1499, np.float64(0.02249606353329238)), (1545, np.float64(0.02249606353329238)), (2358, np.float64(0.02249606353329238)), (2818, np.float64(0.02249606353329238)), (2892, np.float64(0.02249606353329238)), (3130, np.float64(0.02249606353329238)), (3406, np.float64(0.02249606353329238)), (3867, np.float64(0.02249606353329238)), (3961, np.float64(0.02249606353329238)), (4787, np.float64(0.02249606353329238)), (180, np.float64(0.022282825891079324)), (532, np.float64(0.022282825891079324)), (886, np.float64(0.022282825891079324)), (1448, np.float64(0.022282825891079324)), (1773, np.float64(0.022282825891079324)), (1870, np.float64(0.022282825891079324)), (2219, np.float64(0.022282825891079324)), (2537, np.float64(0.022282825891079324)), (2787, np.float64(0.022282825891079324)), (2961, np.float64(0.022282825891079324)), (3031, np.float64(0.022282825891079324)), (3341, np.float64(0.022282825891079324)), (3841, np.float64(0.022282825891079324)), (4265, np.float64(0.022282825891079324)), (809, np.float64(0.022075539284417398)), (811, np.float64(0.022075539284417398)), (1120, np.float64(0.022075539284417398)), (1330, np.float64(0.022075539284417398)), (1452, np.float64(0.022075539284417398)), (1646, np.float64(0.022075539284417398)), (1910, np.float64(0.022075539284417398)), (2360, np.float64(0.022075539284417398)), (2599, np.float64(0.022075539284417398)), (4019, np.float64(0.022075539284417398)), (4695, np.float64(0.022075539284417398)), (4789, np.float64(0.022075539284417398)), (188, np.float64(0.021873931962990357)), (252, np.float64(0.021873931962990357)), (285, np.float64(0.021873931962990357)), (673, np.float64(0.021873931962990357)), (1572, np.float64(0.021873931962990357)), (2582, np.float64(0.021873931962990357)), (2800, np.float64(0.021873931962990357)), (3491, np.float64(0.021873931962990357)), (3512, np.float64(0.021873931962990357)), (3945, np.float64(0.021873931962990357)), (4098, np.float64(0.021873931962990357)), (4235, np.float64(0.021873931962990357)), (4397, np.float64(0.021873931962990357)), (4656, np.float64(0.021873931962990357)), (4780, np.float64(0.021873931962990357)), (145, np.float64(0.021677749238103002)), (286, np.float64(0.021677749238103002)), (343, np.float64(0.021677749238103002)), (573, np.float64(0.021677749238103002)), (694, np.float64(0.021677749238103002)), (822, np.float64(0.021677749238103002)), (1458, np.float64(0.021677749238103002)), (1750, np.float64(0.021677749238103002)), (2468, np.float64(0.021677749238103002)), (2605, np.float64(0.021677749238103002)), (4247, np.float64(0.021677749238103002)), (4647, np.float64(0.021677749238103002)), (622, np.float64(0.021486752129677003)), (1386, np.float64(0.021486752129677003)), (1567, np.float64(0.021486752129677003)), (1594, np.float64(0.021486752129677003)), (1987, np.float64(0.021486752129677003)), (2424, np.float64(0.021486752129677003)), (3658, np.float64(0.021486752129677003)), (4015, np.float64(0.021486752129677003)), (4115, np.float64(0.021486752129677003)), (2393, np.float64(0.021300716142115247)), (2740, np.float64(0.021300716142115247)), (2856, np.float64(0.021300716142115247)), (2902, np.float64(0.021300716142115247)), (3775, np.float64(0.021300716142115247)), (4525, np.float64(0.021300716142115247)), (2608, np.float64(0.021119430154775586)), (3754, np.float64(0.021119430154775586)), (3807, np.float64(0.021119430154775586)), (4049, np.float64(0.021119430154775586)), (4506, np.float64(0.021119430154775586)), (406, np.float64(0.020942695414584774)), (571, np.float64(0.020942695414584774)), (1117, np.float64(0.020942695414584774)), (1634, np.float64(0.020942695414584774)), (2887, np.float64(0.020942695414584774)), (3311, np.float64(0.020942695414584774)), (1505, np.float64(0.0207703246198632)), (2077, np.float64(0.0207703246198632)), (1109, np.float64(0.02060214108575823)), (3959, np.float64(0.02060214108575823)), (4167, np.float64(0.02060214108575823)), (1097, np.float64(0.02043797798283219)), (1250, np.float64(0.02043797798283219)), (1637, np.float64(0.02043797798283219)), (1863, np.float64(0.02043797798283219)), (2303, np.float64(0.02043797798283219)), (3076, np.float64(0.02043797798283219)), (3292, np.float64(0.02043797798283219)), (3417, np.float64(0.02043797798283219)), (3911, np.float64(0.02043797798283219)), (4466, np.float64(0.02043797798283219)), (4798, np.float64(0.02043797798283219)), (925, np.float64(0.020277677641345318)), (1213, np.float64(0.020277677641345318)), (1525, np.float64(0.020277677641345318)), (2881, np.float64(0.020277677641345318)), (2976, np.float64(0.020277677641345318)), (3140, np.float64(0.020277677641345318)), (4670, np.float64(0.020277677641345318)), (65, np.float64(0.020121090914638345)), (703, np.float64(0.020121090914638345)), (1551, np.float64(0.020121090914638345)), (2583, np.float64(0.020121090914638345)), (2778, np.float64(0.020121090914638345)), (3245, np.float64(0.020121090914638345)), (3487, np.float64(0.020121090914638345)), (1563, np.float64(0.019968076595771794)), (3613, np.float64(0.019968076595771794)), (2472, np.float64(0.01981850088223545)), (3404, np.float64(0.01981850088223545)), (2730, np.float64(0.019672236884115842)), (3479, np.float64(0.019672236884115842)), (284, np.float64(0.019529164171612674)), (1141, np.float64(0.019529164171612674)), (1851, np.float64(0.019529164171612674)), (1914, np.float64(0.019529164171612674)), (3228, np.float64(0.019529164171612674)), (3991, np.float64(0.019529164171612674)), (4136, np.float64(0.019529164171612674)), (4711, np.float64(0.019529164171612674)), (6, np.float64(0.019389168358237032)), (893, np.float64(0.019389168358237032)), (1236, np.float64(0.019389168358237032)), (1574, np.float64(0.019389168358237032)), (2339, np.float64(0.019389168358237032)), (2729, np.float64(0.019389168358237032)), (2877, np.float64(0.019389168358237032)), (3458, np.float64(0.019389168358237032)), (3502, np.float64(0.019389168358237032)), (1852, np.float64(0.019252140716412975)), (3552, np.float64(0.019252140716412975)), (1343, np.float64(0.019117977822546817)), (3272, np.float64(0.019117977822546817)), (3370, np.float64(0.019117977822546817)), (3890, np.float64(0.019117977822546817)), (4722, np.float64(0.019117977822546817)), (4026, np.float64(0.018986581228931064)), (1282, np.float64(0.018857857160117855)), (2028, np.float64(0.018857857160117855)), (2078, np.float64(0.018857857160117855)), (3732, np.float64(0.018857857160117855)), (4277, np.float64(0.018857857160117855)), (493, np.float64(0.018731716231633878)), (1403, np.float64(0.018731716231633878)), (2203, np.float64(0.01860807318911967)), (730, np.float64(0.018486846666163393)), (1335, np.float64(0.018486846666163393)), (4159, np.float64(0.018486846666163393)), (3119, np.float64(0.018367958959266125)), (1832, np.float64(0.018251335818524617)), (1869, np.float64(0.018251335818524617)), (4233, np.float64(0.018251335818524617)), (1648, np.float64(0.01813690625275029)), (3187, np.float64(0.01813690625275029)), (4000, np.float64(0.01813690625275029)), (4532, np.float64(0.01813690625275029)), (4630, np.float64(0.01813690625275029)), (4388, np.float64(0.018024602347862503)), (821, np.float64(0.017806114244894068)), (3074, np.float64(0.017806114244894068)), (3329, np.float64(0.017806114244894068)), (3825, np.float64(0.017806114244894068)), (4250, np.float64(0.01769980813511972)), (2515, np.float64(0.01749278571353299)), (4682, np.float64(0.01749278571353299)), (4766, np.float64(0.01749278571353299)), (2162, np.float64(0.017391961901349125)), (2297, np.float64(0.017391961901349125)), (2908, np.float64(0.017195436249022724)), (670, np.float64(0.017099639201419235)), (820, np.float64(0.017099639201419235)), (4743, np.float64(0.017099639201419235)), (118, np.float64(0.01691275228729346)), (860, np.float64(0.01691275228729346)), (4696, np.float64(0.016821577756312225)), (1949, np.float64(0.016731862035256367)), (4114, np.float64(0.016731862035256367)), (146, np.float64(0.016643566632465155)), (4127, np.float64(0.016643566632465155)), (2996, np.float64(0.01647108978476456)), (983, np.float64(0.016386838133611553)), (1425, np.float64(0.016386838133611553)), (4223, np.float64(0.016303866268150616)), (1134, np.float64(0.016141634707382533)), (3377, np.float64(0.015537994118497428)), (1254, np.float64(0.01546720562224365)), (4565, np.float64(0.0151934281365691)), (2290, np.float64(0.015127225520401293)), (3979, np.float64(0.01506188082821945)), (77, np.float64(0.014227759830611806)), (3610, np.float64(0.01324532357065044)), (4706, np.float64(0.012441815044835986)), (34, np.float64(0.0)), (42, np.float64(0.0)), (120, np.float64(0.0)), (128, np.float64(0.0)), (135, np.float64(0.0)), (155, np.float64(0.0)), (177, np.float64(0.0)), (192, np.float64(0.0)), (194, np.float64(0.0)), (201, np.float64(0.0)), (231, np.float64(0.0)), (247, np.float64(0.0)), (250, np.float64(0.0)), (255, np.float64(0.0)), (264, np.float64(0.0)), (280, np.float64(0.0)), (283, np.float64(0.0)), (288, np.float64(0.0)), (298, np.float64(0.0)), (314, np.float64(0.0)), (316, np.float64(0.0)), (317, np.float64(0.0)), (318, np.float64(0.0)), (321, np.float64(0.0)), (328, np.float64(0.0)), (338, np.float64(0.0)), (346, np.float64(0.0)), (347, np.float64(0.0)), (351, np.float64(0.0)), (354, np.float64(0.0)), (357, np.float64(0.0)), (360, np.float64(0.0)), (367, np.float64(0.0)), (377, np.float64(0.0)), (378, np.float64(0.0)), (382, np.float64(0.0)), (385, np.float64(0.0)), (388, np.float64(0.0)), (393, np.float64(0.0)), (398, np.float64(0.0)), (409, np.float64(0.0)), (421, np.float64(0.0)), (429, np.float64(0.0)), (434, np.float64(0.0)), (436, np.float64(0.0)), (444, np.float64(0.0)), (462, np.float64(0.0)), (464, np.float64(0.0)), (465, np.float64(0.0)), (474, np.float64(0.0)), (477, np.float64(0.0)), (481, np.float64(0.0)), (489, np.float64(0.0)), (494, np.float64(0.0)), (496, np.float64(0.0)), (497, np.float64(0.0)), (499, np.float64(0.0)), (504, np.float64(0.0)), (517, np.float64(0.0)), (519, np.float64(0.0)), (520, np.float64(0.0)), (522, np.float64(0.0)), (524, np.float64(0.0)), (526, np.float64(0.0)), (527, np.float64(0.0)), (538, np.float64(0.0)), (548, np.float64(0.0)), (552, np.float64(0.0)), (554, np.float64(0.0)), (558, np.float64(0.0)), (562, np.float64(0.0)), (585, np.float64(0.0)), (593, np.float64(0.0)), (605, np.float64(0.0)), (606, np.float64(0.0)), (608, np.float64(0.0)), (616, np.float64(0.0)), (619, np.float64(0.0)), (620, np.float64(0.0)), (623, np.float64(0.0)), (628, np.float64(0.0)), (639, np.float64(0.0)), (641, np.float64(0.0)), (642, np.float64(0.0)), (649, np.float64(0.0)), (650, np.float64(0.0)), (651, np.float64(0.0)), (656, np.float64(0.0)), (662, np.float64(0.0)), (663, np.float64(0.0)), (667, np.float64(0.0)), (679, np.float64(0.0)), (684, np.float64(0.0)), (686, np.float64(0.0)), (689, np.float64(0.0)), (693, np.float64(0.0)), (696, np.float64(0.0)), (697, np.float64(0.0)), (699, np.float64(0.0)), (707, np.float64(0.0)), (709, np.float64(0.0)), (712, np.float64(0.0)), (714, np.float64(0.0)), (717, np.float64(0.0)), (719, np.float64(0.0)), (722, np.float64(0.0)), (725, np.float64(0.0)), (726, np.float64(0.0)), (729, np.float64(0.0)), (738, np.float64(0.0)), (749, np.float64(0.0)), (759, np.float64(0.0)), (760, np.float64(0.0)), (763, np.float64(0.0)), (765, np.float64(0.0)), (766, np.float64(0.0)), (771, np.float64(0.0)), (772, np.float64(0.0)), (779, np.float64(0.0)), (780, np.float64(0.0)), (789, np.float64(0.0)), (797, np.float64(0.0)), (798, np.float64(0.0)), (801, np.float64(0.0)), (802, np.float64(0.0)), (819, np.float64(0.0)), (824, np.float64(0.0)), (825, np.float64(0.0)), (829, np.float64(0.0)), (839, np.float64(0.0)), (842, np.float64(0.0)), (845, np.float64(0.0)), (846, np.float64(0.0)), (849, np.float64(0.0)), (851, np.float64(0.0)), (857, np.float64(0.0)), (865, np.float64(0.0)), (867, np.float64(0.0)), (872, np.float64(0.0)), (876, np.float64(0.0)), (877, np.float64(0.0)), (879, np.float64(0.0)), (881, np.float64(0.0)), (884, np.float64(0.0)), (890, np.float64(0.0)), (892, np.float64(0.0)), (895, np.float64(0.0)), (896, np.float64(0.0)), (905, np.float64(0.0)), (906, np.float64(0.0)), (909, np.float64(0.0)), (913, np.float64(0.0)), (916, np.float64(0.0)), (918, np.float64(0.0)), (921, np.float64(0.0)), (923, np.float64(0.0)), (924, np.float64(0.0)), (926, np.float64(0.0)), (927, np.float64(0.0)), (928, np.float64(0.0)), (936, np.float64(0.0)), (938, np.float64(0.0)), (940, np.float64(0.0)), (943, np.float64(0.0)), (944, np.float64(0.0)), (947, np.float64(0.0)), (948, np.float64(0.0)), (949, np.float64(0.0)), (954, np.float64(0.0)), (958, np.float64(0.0)), (965, np.float64(0.0)), (966, np.float64(0.0)), (968, np.float64(0.0)), (970, np.float64(0.0)), (975, np.float64(0.0)), (976, np.float64(0.0)), (981, np.float64(0.0)), (984, np.float64(0.0)), (988, np.float64(0.0)), (992, np.float64(0.0)), (997, np.float64(0.0)), (998, np.float64(0.0)), (999, np.float64(0.0)), (1006, np.float64(0.0)), (1010, np.float64(0.0)), (1011, np.float64(0.0)), (1012, np.float64(0.0)), (1020, np.float64(0.0)), (1023, np.float64(0.0)), (1024, np.float64(0.0)), (1037, np.float64(0.0)), (1038, np.float64(0.0)), (1039, np.float64(0.0)), (1040, np.float64(0.0)), (1047, np.float64(0.0)), (1048, np.float64(0.0)), (1049, np.float64(0.0)), (1052, np.float64(0.0)), (1055, np.float64(0.0)), (1056, np.float64(0.0)), (1058, np.float64(0.0)), (1061, np.float64(0.0)), (1064, np.float64(0.0)), (1067, np.float64(0.0)), (1070, np.float64(0.0)), (1072, np.float64(0.0)), (1076, np.float64(0.0)), (1088, np.float64(0.0)), (1089, np.float64(0.0)), (1092, np.float64(0.0)), (1093, np.float64(0.0)), (1103, np.float64(0.0)), (1106, np.float64(0.0)), (1108, np.float64(0.0)), (1113, np.float64(0.0)), (1114, np.float64(0.0)), (1122, np.float64(0.0)), (1127, np.float64(0.0)), (1130, np.float64(0.0)), (1131, np.float64(0.0)), (1136, np.float64(0.0)), (1146, np.float64(0.0)), (1148, np.float64(0.0)), (1149, np.float64(0.0)), (1150, np.float64(0.0)), (1152, np.float64(0.0)), (1157, np.float64(0.0)), (1158, np.float64(0.0)), (1160, np.float64(0.0)), (1161, np.float64(0.0)), (1162, np.float64(0.0)), (1165, np.float64(0.0)), (1167, np.float64(0.0)), (1170, np.float64(0.0)), (1171, np.float64(0.0)), (1174, np.float64(0.0)), (1177, np.float64(0.0)), (1180, np.float64(0.0)), (1182, np.float64(0.0)), (1183, np.float64(0.0)), (1185, np.float64(0.0)), (1187, np.float64(0.0)), (1188, np.float64(0.0)), (1190, np.float64(0.0)), (1195, np.float64(0.0)), (1198, np.float64(0.0)), (1204, np.float64(0.0)), (1206, np.float64(0.0)), (1209, np.float64(0.0)), (1210, np.float64(0.0)), (1211, np.float64(0.0)), (1212, np.float64(0.0)), (1215, np.float64(0.0)), (1219, np.float64(0.0)), (1220, np.float64(0.0)), (1221, np.float64(0.0)), (1222, np.float64(0.0)), (1223, np.float64(0.0)), (1224, np.float64(0.0)), (1229, np.float64(0.0)), (1230, np.float64(0.0)), (1232, np.float64(0.0)), (1234, np.float64(0.0)), (1237, np.float64(0.0)), (1238, np.float64(0.0)), (1243, np.float64(0.0)), (1244, np.float64(0.0)), (1248, np.float64(0.0)), (1251, np.float64(0.0)), (1252, np.float64(0.0)), (1253, np.float64(0.0)), (1256, np.float64(0.0)), (1262, np.float64(0.0)), (1263, np.float64(0.0)), (1265, np.float64(0.0)), (1266, np.float64(0.0)), (1269, np.float64(0.0)), (1277, np.float64(0.0)), (1281, np.float64(0.0)), (1284, np.float64(0.0)), (1293, np.float64(0.0)), (1294, np.float64(0.0)), (1298, np.float64(0.0)), (1308, np.float64(0.0)), (1309, np.float64(0.0)), (1314, np.float64(0.0)), (1315, np.float64(0.0)), (1316, np.float64(0.0)), (1317, np.float64(0.0)), (1324, np.float64(0.0)), (1326, np.float64(0.0)), (1328, np.float64(0.0)), (1329, np.float64(0.0)), (1331, np.float64(0.0)), (1334, np.float64(0.0)), (1337, np.float64(0.0)), (1339, np.float64(0.0)), (1341, np.float64(0.0)), (1347, np.float64(0.0)), (1350, np.float64(0.0)), (1352, np.float64(0.0)), (1354, np.float64(0.0)), (1356, np.float64(0.0)), (1357, np.float64(0.0)), (1362, np.float64(0.0)), (1364, np.float64(0.0)), (1366, np.float64(0.0)), (1370, np.float64(0.0)), (1371, np.float64(0.0)), (1372, np.float64(0.0)), (1373, np.float64(0.0)), (1376, np.float64(0.0)), (1380, np.float64(0.0)), (1383, np.float64(0.0)), (1385, np.float64(0.0)), (1388, np.float64(0.0)), (1389, np.float64(0.0)), (1390, np.float64(0.0)), (1391, np.float64(0.0)), (1393, np.float64(0.0)), (1394, np.float64(0.0)), (1396, np.float64(0.0)), (1398, np.float64(0.0)), (1399, np.float64(0.0)), (1405, np.float64(0.0)), (1407, np.float64(0.0)), (1408, np.float64(0.0)), (1409, np.float64(0.0)), (1411, np.float64(0.0)), (1412, np.float64(0.0)), (1415, np.float64(0.0)), (1420, np.float64(0.0)), (1423, np.float64(0.0)), (1426, np.float64(0.0)), (1429, np.float64(0.0)), (1431, np.float64(0.0)), (1432, np.float64(0.0)), (1438, np.float64(0.0)), (1443, np.float64(0.0)), (1457, np.float64(0.0)), (1464, np.float64(0.0)), (1468, np.float64(0.0)), (1478, np.float64(0.0)), (1479, np.float64(0.0)), (1480, np.float64(0.0)), (1482, np.float64(0.0)), (1487, np.float64(0.0)), (1489, np.float64(0.0)), (1491, np.float64(0.0)), (1495, np.float64(0.0)), (1500, np.float64(0.0)), (1503, np.float64(0.0)), (1504, np.float64(0.0)), (1510, np.float64(0.0)), (1513, np.float64(0.0)), (1514, np.float64(0.0)), (1518, np.float64(0.0)), (1522, np.float64(0.0)), (1523, np.float64(0.0)), (1524, np.float64(0.0)), (1529, np.float64(0.0)), (1532, np.float64(0.0)), (1535, np.float64(0.0)), (1536, np.float64(0.0)), (1538, np.float64(0.0)), (1539, np.float64(0.0)), (1541, np.float64(0.0)), (1543, np.float64(0.0)), (1546, np.float64(0.0)), (1547, np.float64(0.0)), (1554, np.float64(0.0)), (1555, np.float64(0.0)), (1558, np.float64(0.0)), (1559, np.float64(0.0)), (1560, np.float64(0.0)), (1568, np.float64(0.0)), (1576, np.float64(0.0)), (1578, np.float64(0.0)), (1583, np.float64(0.0)), (1587, np.float64(0.0)), (1591, np.float64(0.0)), (1595, np.float64(0.0)), (1597, np.float64(0.0)), (1600, np.float64(0.0)), (1602, np.float64(0.0)), (1606, np.float64(0.0)), (1607, np.float64(0.0)), (1611, np.float64(0.0)), (1615, np.float64(0.0)), (1616, np.float64(0.0)), (1620, np.float64(0.0)), (1622, np.float64(0.0)), (1623, np.float64(0.0)), (1624, np.float64(0.0)), (1625, np.float64(0.0)), (1629, np.float64(0.0)), (1632, np.float64(0.0)), (1633, np.float64(0.0)), (1636, np.float64(0.0)), (1641, np.float64(0.0)), (1643, np.float64(0.0)), (1650, np.float64(0.0)), (1653, np.float64(0.0)), (1658, np.float64(0.0)), (1661, np.float64(0.0)), (1662, np.float64(0.0)), (1665, np.float64(0.0)), (1668, np.float64(0.0)), (1675, np.float64(0.0)), (1676, np.float64(0.0)), (1678, np.float64(0.0)), (1679, np.float64(0.0)), (1683, np.float64(0.0)), (1685, np.float64(0.0)), (1687, np.float64(0.0)), (1692, np.float64(0.0)), (1693, np.float64(0.0)), (1695, np.float64(0.0)), (1698, np.float64(0.0)), (1700, np.float64(0.0)), (1702, np.float64(0.0)), (1705, np.float64(0.0)), (1706, np.float64(0.0)), (1707, np.float64(0.0)), (1708, np.float64(0.0)), (1710, np.float64(0.0)), (1712, np.float64(0.0)), (1713, np.float64(0.0)), (1714, np.float64(0.0)), (1718, np.float64(0.0)), (1724, np.float64(0.0)), (1725, np.float64(0.0)), (1730, np.float64(0.0)), (1731, np.float64(0.0)), (1732, np.float64(0.0)), (1734, np.float64(0.0)), (1738, np.float64(0.0)), (1740, np.float64(0.0)), (1747, np.float64(0.0)), (1748, np.float64(0.0)), (1751, np.float64(0.0)), (1754, np.float64(0.0)), (1757, np.float64(0.0)), (1760, np.float64(0.0)), (1762, np.float64(0.0)), (1768, np.float64(0.0)), (1769, np.float64(0.0)), (1772, np.float64(0.0)), (1774, np.float64(0.0)), (1775, np.float64(0.0)), (1776, np.float64(0.0)), (1777, np.float64(0.0)), (1780, np.float64(0.0)), (1783, np.float64(0.0)), (1787, np.float64(0.0)), (1789, np.float64(0.0)), (1790, np.float64(0.0)), (1791, np.float64(0.0)), (1793, np.float64(0.0)), (1802, np.float64(0.0)), (1803, np.float64(0.0)), (1805, np.float64(0.0)), (1811, np.float64(0.0)), (1813, np.float64(0.0)), (1814, np.float64(0.0)), (1815, np.float64(0.0)), (1816, np.float64(0.0)), (1820, np.float64(0.0)), (1821, np.float64(0.0)), (1822, np.float64(0.0)), (1825, np.float64(0.0)), (1826, np.float64(0.0)), (1830, np.float64(0.0)), (1831, np.float64(0.0)), (1835, np.float64(0.0)), (1840, np.float64(0.0)), (1841, np.float64(0.0)), (1847, np.float64(0.0)), (1848, np.float64(0.0)), (1849, np.float64(0.0)), (1854, np.float64(0.0)), (1857, np.float64(0.0)), (1861, np.float64(0.0)), (1865, np.float64(0.0)), (1867, np.float64(0.0)), (1871, np.float64(0.0)), (1873, np.float64(0.0)), (1875, np.float64(0.0)), (1876, np.float64(0.0)), (1878, np.float64(0.0)), (1883, np.float64(0.0)), (1885, np.float64(0.0)), (1886, np.float64(0.0)), (1887, np.float64(0.0)), (1888, np.float64(0.0)), (1889, np.float64(0.0)), (1890, np.float64(0.0)), (1891, np.float64(0.0)), (1900, np.float64(0.0)), (1901, np.float64(0.0)), (1903, np.float64(0.0)), (1905, np.float64(0.0)), (1911, np.float64(0.0)), (1913, np.float64(0.0)), (1915, np.float64(0.0)), (1917, np.float64(0.0)), (1918, np.float64(0.0)), (1919, np.float64(0.0)), (1923, np.float64(0.0)), (1926, np.float64(0.0)), (1927, np.float64(0.0)), (1928, np.float64(0.0)), (1930, np.float64(0.0)), (1931, np.float64(0.0)), (1937, np.float64(0.0)), (1942, np.float64(0.0)), (1943, np.float64(0.0)), (1945, np.float64(0.0)), (1948, np.float64(0.0)), (1950, np.float64(0.0)), (1951, np.float64(0.0)), (1954, np.float64(0.0)), (1962, np.float64(0.0)), (1963, np.float64(0.0)), (1966, np.float64(0.0)), (1968, np.float64(0.0)), (1970, np.float64(0.0)), (1972, np.float64(0.0)), (1973, np.float64(0.0)), (1974, np.float64(0.0)), (1976, np.float64(0.0)), (1981, np.float64(0.0)), (1984, np.float64(0.0)), (1985, np.float64(0.0)), (1990, np.float64(0.0)), (1991, np.float64(0.0)), (1994, np.float64(0.0)), (1995, np.float64(0.0)), (1996, np.float64(0.0)), (2000, np.float64(0.0)), (2006, np.float64(0.0)), (2007, np.float64(0.0)), (2012, np.float64(0.0)), (2016, np.float64(0.0)), (2022, np.float64(0.0)), (2023, np.float64(0.0)), (2027, np.float64(0.0)), (2029, np.float64(0.0)), (2030, np.float64(0.0)), (2032, np.float64(0.0)), (2033, np.float64(0.0)), (2035, np.float64(0.0)), (2036, np.float64(0.0)), (2037, np.float64(0.0)), (2039, np.float64(0.0)), (2041, np.float64(0.0)), (2042, np.float64(0.0)), (2043, np.float64(0.0)), (2044, np.float64(0.0)), (2054, np.float64(0.0)), (2058, np.float64(0.0)), (2060, np.float64(0.0)), (2064, np.float64(0.0)), (2065, np.float64(0.0)), (2069, np.float64(0.0)), (2070, np.float64(0.0)), (2074, np.float64(0.0)), (2075, np.float64(0.0)), (2080, np.float64(0.0)), (2082, np.float64(0.0)), (2084, np.float64(0.0)), (2085, np.float64(0.0)), (2090, np.float64(0.0)), (2092, np.float64(0.0)), (2093, np.float64(0.0)), (2094, np.float64(0.0)), (2096, np.float64(0.0)), (2098, np.float64(0.0)), (2100, np.float64(0.0)), (2101, np.float64(0.0)), (2103, np.float64(0.0)), (2104, np.float64(0.0)), (2107, np.float64(0.0)), (2112, np.float64(0.0)), (2114, np.float64(0.0)), (2115, np.float64(0.0)), (2117, np.float64(0.0)), (2119, np.float64(0.0)), (2120, np.float64(0.0)), (2121, np.float64(0.0)), (2122, np.float64(0.0)), (2125, np.float64(0.0)), (2126, np.float64(0.0)), (2127, np.float64(0.0)), (2133, np.float64(0.0)), (2135, np.float64(0.0)), (2136, np.float64(0.0)), (2137, np.float64(0.0)), (2139, np.float64(0.0)), (2141, np.float64(0.0)), (2143, np.float64(0.0)), (2145, np.float64(0.0)), (2147, np.float64(0.0)), (2148, np.float64(0.0)), (2152, np.float64(0.0)), (2153, np.float64(0.0)), (2164, np.float64(0.0)), (2166, np.float64(0.0)), (2167, np.float64(0.0)), (2170, np.float64(0.0)), (2172, np.float64(0.0)), (2178, np.float64(0.0)), (2179, np.float64(0.0)), (2184, np.float64(0.0)), (2188, np.float64(0.0)), (2189, np.float64(0.0)), (2193, np.float64(0.0)), (2194, np.float64(0.0)), (2201, np.float64(0.0)), (2204, np.float64(0.0)), (2206, np.float64(0.0)), (2210, np.float64(0.0)), (2212, np.float64(0.0)), (2213, np.float64(0.0)), (2215, np.float64(0.0)), (2217, np.float64(0.0)), (2218, np.float64(0.0)), (2221, np.float64(0.0)), (2225, np.float64(0.0)), (2232, np.float64(0.0)), (2233, np.float64(0.0)), (2234, np.float64(0.0)), (2235, np.float64(0.0)), (2236, np.float64(0.0)), (2238, np.float64(0.0)), (2240, np.float64(0.0)), (2241, np.float64(0.0)), (2242, np.float64(0.0)), (2244, np.float64(0.0)), (2245, np.float64(0.0)), (2248, np.float64(0.0)), (2250, np.float64(0.0)), (2251, np.float64(0.0)), (2253, np.float64(0.0)), (2254, np.float64(0.0)), (2256, np.float64(0.0)), (2258, np.float64(0.0)), (2261, np.float64(0.0)), (2267, np.float64(0.0)), (2269, np.float64(0.0)), (2271, np.float64(0.0)), (2273, np.float64(0.0)), (2274, np.float64(0.0)), (2275, np.float64(0.0)), (2276, np.float64(0.0)), (2277, np.float64(0.0)), (2281, np.float64(0.0)), (2282, np.float64(0.0)), (2283, np.float64(0.0)), (2284, np.float64(0.0)), (2285, np.float64(0.0)), (2286, np.float64(0.0)), (2288, np.float64(0.0)), (2289, np.float64(0.0)), (2292, np.float64(0.0)), (2299, np.float64(0.0)), (2302, np.float64(0.0)), (2306, np.float64(0.0)), (2307, np.float64(0.0)), (2308, np.float64(0.0)), (2309, np.float64(0.0)), (2310, np.float64(0.0)), (2314, np.float64(0.0)), (2317, np.float64(0.0)), (2318, np.float64(0.0)), (2320, np.float64(0.0)), (2321, np.float64(0.0)), (2324, np.float64(0.0)), (2325, np.float64(0.0)), (2328, np.float64(0.0)), (2330, np.float64(0.0)), (2331, np.float64(0.0)), (2332, np.float64(0.0)), (2334, np.float64(0.0)), (2336, np.float64(0.0)), (2341, np.float64(0.0)), (2346, np.float64(0.0)), (2353, np.float64(0.0)), (2355, np.float64(0.0)), (2356, np.float64(0.0)), (2361, np.float64(0.0)), (2370, np.float64(0.0)), (2371, np.float64(0.0)), (2375, np.float64(0.0)), (2379, np.float64(0.0)), (2380, np.float64(0.0)), (2381, np.float64(0.0)), (2383, np.float64(0.0)), (2385, np.float64(0.0)), (2386, np.float64(0.0)), (2387, np.float64(0.0)), (2394, np.float64(0.0)), (2395, np.float64(0.0)), (2398, np.float64(0.0)), (2399, np.float64(0.0)), (2401, np.float64(0.0)), (2403, np.float64(0.0)), (2404, np.float64(0.0)), (2407, np.float64(0.0)), (2408, np.float64(0.0)), (2411, np.float64(0.0)), (2413, np.float64(0.0)), (2417, np.float64(0.0)), (2419, np.float64(0.0)), (2420, np.float64(0.0)), (2421, np.float64(0.0)), (2422, np.float64(0.0)), (2423, np.float64(0.0)), (2427, np.float64(0.0)), (2428, np.float64(0.0)), (2430, np.float64(0.0)), (2432, np.float64(0.0)), (2434, np.float64(0.0)), (2438, np.float64(0.0)), (2442, np.float64(0.0)), (2447, np.float64(0.0)), (2448, np.float64(0.0)), (2450, np.float64(0.0)), (2454, np.float64(0.0)), (2455, np.float64(0.0)), (2456, np.float64(0.0)), (2458, np.float64(0.0)), (2462, np.float64(0.0)), (2464, np.float64(0.0)), (2465, np.float64(0.0)), (2466, np.float64(0.0)), (2470, np.float64(0.0)), (2478, np.float64(0.0)), (2479, np.float64(0.0)), (2480, np.float64(0.0)), (2481, np.float64(0.0)), (2485, np.float64(0.0)), (2487, np.float64(0.0)), (2489, np.float64(0.0)), (2490, np.float64(0.0)), (2491, np.float64(0.0)), (2493, np.float64(0.0)), (2497, np.float64(0.0)), (2499, np.float64(0.0)), (2503, np.float64(0.0)), (2504, np.float64(0.0)), (2505, np.float64(0.0)), (2506, np.float64(0.0)), (2507, np.float64(0.0)), (2509, np.float64(0.0)), (2513, np.float64(0.0)), (2514, np.float64(0.0)), (2518, np.float64(0.0)), (2519, np.float64(0.0)), (2520, np.float64(0.0)), (2522, np.float64(0.0)), (2524, np.float64(0.0)), (2526, np.float64(0.0)), (2527, np.float64(0.0)), (2528, np.float64(0.0)), (2530, np.float64(0.0)), (2533, np.float64(0.0)), (2535, np.float64(0.0)), (2536, np.float64(0.0)), (2538, np.float64(0.0)), (2540, np.float64(0.0)), (2541, np.float64(0.0)), (2544, np.float64(0.0)), (2546, np.float64(0.0)), (2550, np.float64(0.0)), (2553, np.float64(0.0)), (2555, np.float64(0.0)), (2557, np.float64(0.0)), (2559, np.float64(0.0)), (2561, np.float64(0.0)), (2564, np.float64(0.0)), (2565, np.float64(0.0)), (2568, np.float64(0.0)), (2569, np.float64(0.0)), (2572, np.float64(0.0)), (2574, np.float64(0.0)), (2576, np.float64(0.0)), (2577, np.float64(0.0)), (2578, np.float64(0.0)), (2584, np.float64(0.0)), (2586, np.float64(0.0)), (2587, np.float64(0.0)), (2589, np.float64(0.0)), (2590, np.float64(0.0)), (2591, np.float64(0.0)), (2593, np.float64(0.0)), (2595, np.float64(0.0)), (2597, np.float64(0.0)), (2598, np.float64(0.0)), (2603, np.float64(0.0)), (2609, np.float64(0.0)), (2610, np.float64(0.0)), (2612, np.float64(0.0)), (2614, np.float64(0.0)), (2617, np.float64(0.0)), (2619, np.float64(0.0)), (2620, np.float64(0.0)), (2621, np.float64(0.0)), (2622, np.float64(0.0)), (2624, np.float64(0.0)), (2626, np.float64(0.0)), (2629, np.float64(0.0)), (2633, np.float64(0.0)), (2634, np.float64(0.0)), (2636, np.float64(0.0)), (2637, np.float64(0.0)), (2639, np.float64(0.0)), (2642, np.float64(0.0)), (2645, np.float64(0.0)), (2649, np.float64(0.0)), (2650, np.float64(0.0)), (2651, np.float64(0.0)), (2661, np.float64(0.0)), (2663, np.float64(0.0)), (2664, np.float64(0.0)), (2666, np.float64(0.0)), (2671, np.float64(0.0)), (2672, np.float64(0.0)), (2673, np.float64(0.0)), (2675, np.float64(0.0)), (2677, np.float64(0.0)), (2680, np.float64(0.0)), (2681, np.float64(0.0)), (2687, np.float64(0.0)), (2690, np.float64(0.0)), (2691, np.float64(0.0)), (2692, np.float64(0.0)), (2693, np.float64(0.0)), (2695, np.float64(0.0)), (2698, np.float64(0.0)), (2700, np.float64(0.0)), (2701, np.float64(0.0)), (2703, np.float64(0.0)), (2706, np.float64(0.0)), (2710, np.float64(0.0)), (2712, np.float64(0.0)), (2715, np.float64(0.0)), (2716, np.float64(0.0)), (2721, np.float64(0.0)), (2723, np.float64(0.0)), (2724, np.float64(0.0)), (2728, np.float64(0.0)), (2731, np.float64(0.0)), (2732, np.float64(0.0)), (2734, np.float64(0.0)), (2735, np.float64(0.0)), (2738, np.float64(0.0)), (2741, np.float64(0.0)), (2742, np.float64(0.0)), (2743, np.float64(0.0)), (2745, np.float64(0.0)), (2746, np.float64(0.0)), (2749, np.float64(0.0)), (2750, np.float64(0.0)), (2751, np.float64(0.0)), (2761, np.float64(0.0)), (2762, np.float64(0.0)), (2763, np.float64(0.0)), (2764, np.float64(0.0)), (2765, np.float64(0.0)), (2766, np.float64(0.0)), (2769, np.float64(0.0)), (2771, np.float64(0.0)), (2774, np.float64(0.0)), (2775, np.float64(0.0)), (2781, np.float64(0.0)), (2784, np.float64(0.0)), (2793, np.float64(0.0)), (2794, np.float64(0.0)), (2796, np.float64(0.0)), (2799, np.float64(0.0)), (2802, np.float64(0.0)), (2805, np.float64(0.0)), (2808, np.float64(0.0)), (2812, np.float64(0.0)), (2815, np.float64(0.0)), (2817, np.float64(0.0)), (2829, np.float64(0.0)), (2830, np.float64(0.0)), (2833, np.float64(0.0)), (2834, np.float64(0.0)), (2835, np.float64(0.0)), (2838, np.float64(0.0)), (2840, np.float64(0.0)), (2841, np.float64(0.0)), (2843, np.float64(0.0)), (2844, np.float64(0.0)), (2845, np.float64(0.0)), (2849, np.float64(0.0)), (2851, np.float64(0.0)), (2853, np.float64(0.0)), (2858, np.float64(0.0)), (2862, np.float64(0.0)), (2865, np.float64(0.0)), (2867, np.float64(0.0)), (2870, np.float64(0.0)), (2871, np.float64(0.0)), (2872, np.float64(0.0)), (2874, np.float64(0.0)), (2882, np.float64(0.0)), (2883, np.float64(0.0)), (2884, np.float64(0.0)), (2885, np.float64(0.0)), (2891, np.float64(0.0)), (2893, np.float64(0.0)), (2895, np.float64(0.0)), (2896, np.float64(0.0)), (2897, np.float64(0.0)), (2898, np.float64(0.0)), (2900, np.float64(0.0)), (2903, np.float64(0.0)), (2904, np.float64(0.0)), (2905, np.float64(0.0)), (2906, np.float64(0.0)), (2907, np.float64(0.0)), (2909, np.float64(0.0)), (2910, np.float64(0.0)), (2911, np.float64(0.0)), (2915, np.float64(0.0)), (2919, np.float64(0.0)), (2921, np.float64(0.0)), (2924, np.float64(0.0)), (2926, np.float64(0.0)), (2928, np.float64(0.0)), (2930, np.float64(0.0)), (2931, np.float64(0.0)), (2934, np.float64(0.0)), (2939, np.float64(0.0)), (2940, np.float64(0.0)), (2943, np.float64(0.0)), (2944, np.float64(0.0)), (2945, np.float64(0.0)), (2949, np.float64(0.0)), (2950, np.float64(0.0)), (2956, np.float64(0.0)), (2958, np.float64(0.0)), (2959, np.float64(0.0)), (2960, np.float64(0.0)), (2963, np.float64(0.0)), (2967, np.float64(0.0)), (2972, np.float64(0.0)), (2975, np.float64(0.0)), (2977, np.float64(0.0)), (2978, np.float64(0.0)), (2979, np.float64(0.0)), (2981, np.float64(0.0)), (2984, np.float64(0.0)), (2985, np.float64(0.0)), (2987, np.float64(0.0)), (2989, np.float64(0.0)), (2990, np.float64(0.0)), (2991, np.float64(0.0)), (2994, np.float64(0.0)), (2995, np.float64(0.0)), (2999, np.float64(0.0)), (3000, np.float64(0.0)), (3001, np.float64(0.0)), (3002, np.float64(0.0)), (3007, np.float64(0.0)), (3014, np.float64(0.0)), (3017, np.float64(0.0)), (3019, np.float64(0.0)), (3021, np.float64(0.0)), (3024, np.float64(0.0)), (3025, np.float64(0.0)), (3027, np.float64(0.0)), (3028, np.float64(0.0)), (3033, np.float64(0.0)), (3034, np.float64(0.0)), (3036, np.float64(0.0)), (3038, np.float64(0.0)), (3039, np.float64(0.0)), (3040, np.float64(0.0)), (3041, np.float64(0.0)), (3044, np.float64(0.0)), (3047, np.float64(0.0)), (3048, np.float64(0.0)), (3049, np.float64(0.0)), (3050, np.float64(0.0)), (3052, np.float64(0.0)), (3054, np.float64(0.0)), (3055, np.float64(0.0)), (3056, np.float64(0.0)), (3059, np.float64(0.0)), (3060, np.float64(0.0)), (3061, np.float64(0.0)), (3063, np.float64(0.0)), (3065, np.float64(0.0)), (3071, np.float64(0.0)), (3077, np.float64(0.0)), (3081, np.float64(0.0)), (3082, np.float64(0.0)), (3083, np.float64(0.0)), (3085, np.float64(0.0)), (3086, np.float64(0.0)), (3087, np.float64(0.0)), (3090, np.float64(0.0)), (3092, np.float64(0.0)), (3093, np.float64(0.0)), (3094, np.float64(0.0)), (3095, np.float64(0.0)), (3096, np.float64(0.0)), (3102, np.float64(0.0)), (3103, np.float64(0.0)), (3104, np.float64(0.0)), (3110, np.float64(0.0)), (3111, np.float64(0.0)), (3112, np.float64(0.0)), (3113, np.float64(0.0)), (3114, np.float64(0.0)), (3120, np.float64(0.0)), (3121, np.float64(0.0)), (3122, np.float64(0.0)), (3123, np.float64(0.0)), (3125, np.float64(0.0)), (3126, np.float64(0.0)), (3127, np.float64(0.0)), (3132, np.float64(0.0)), (3137, np.float64(0.0)), (3139, np.float64(0.0)), (3141, np.float64(0.0)), (3143, np.float64(0.0)), (3148, np.float64(0.0)), (3154, np.float64(0.0)), (3158, np.float64(0.0)), (3161, np.float64(0.0)), (3168, np.float64(0.0)), (3169, np.float64(0.0)), (3170, np.float64(0.0)), (3171, np.float64(0.0)), (3175, np.float64(0.0)), (3176, np.float64(0.0)), (3177, np.float64(0.0)), (3180, np.float64(0.0)), (3183, np.float64(0.0)), (3184, np.float64(0.0)), (3189, np.float64(0.0)), (3190, np.float64(0.0)), (3191, np.float64(0.0)), (3192, np.float64(0.0)), (3194, np.float64(0.0)), (3195, np.float64(0.0)), (3196, np.float64(0.0)), (3198, np.float64(0.0)), (3201, np.float64(0.0)), (3207, np.float64(0.0)), (3208, np.float64(0.0)), (3209, np.float64(0.0)), (3212, np.float64(0.0)), (3215, np.float64(0.0)), (3218, np.float64(0.0)), (3219, np.float64(0.0)), (3222, np.float64(0.0)), (3229, np.float64(0.0)), (3234, np.float64(0.0)), (3236, np.float64(0.0)), (3237, np.float64(0.0)), (3240, np.float64(0.0)), (3241, np.float64(0.0)), (3243, np.float64(0.0)), (3244, np.float64(0.0)), (3247, np.float64(0.0)), (3248, np.float64(0.0)), (3250, np.float64(0.0)), (3256, np.float64(0.0)), (3257, np.float64(0.0)), (3258, np.float64(0.0)), (3259, np.float64(0.0)), (3263, np.float64(0.0)), (3265, np.float64(0.0)), (3267, np.float64(0.0)), (3270, np.float64(0.0)), (3274, np.float64(0.0)), (3275, np.float64(0.0)), (3277, np.float64(0.0)), (3278, np.float64(0.0)), (3279, np.float64(0.0)), (3280, np.float64(0.0)), (3288, np.float64(0.0)), (3293, np.float64(0.0)), (3294, np.float64(0.0)), (3297, np.float64(0.0)), (3300, np.float64(0.0)), (3305, np.float64(0.0)), (3309, np.float64(0.0)), (3310, np.float64(0.0)), (3312, np.float64(0.0)), (3313, np.float64(0.0)), (3317, np.float64(0.0)), (3319, np.float64(0.0)), (3322, np.float64(0.0)), (3323, np.float64(0.0)), (3324, np.float64(0.0)), (3326, np.float64(0.0)), (3330, np.float64(0.0)), (3332, np.float64(0.0)), (3333, np.float64(0.0)), (3335, np.float64(0.0)), (3339, np.float64(0.0)), (3343, np.float64(0.0)), (3344, np.float64(0.0)), (3346, np.float64(0.0)), (3348, np.float64(0.0)), (3349, np.float64(0.0)), (3350, np.float64(0.0)), (3357, np.float64(0.0)), (3359, np.float64(0.0)), (3362, np.float64(0.0)), (3364, np.float64(0.0)), (3365, np.float64(0.0)), (3373, np.float64(0.0)), (3379, np.float64(0.0)), (3380, np.float64(0.0)), (3381, np.float64(0.0)), (3382, np.float64(0.0)), (3383, np.float64(0.0)), (3385, np.float64(0.0)), (3389, np.float64(0.0)), (3390, np.float64(0.0)), (3391, np.float64(0.0)), (3392, np.float64(0.0)), (3393, np.float64(0.0)), (3397, np.float64(0.0)), (3400, np.float64(0.0)), (3402, np.float64(0.0)), (3403, np.float64(0.0)), (3408, np.float64(0.0)), (3409, np.float64(0.0)), (3411, np.float64(0.0)), (3413, np.float64(0.0)), (3415, np.float64(0.0)), (3416, np.float64(0.0)), (3420, np.float64(0.0)), (3422, np.float64(0.0)), (3423, np.float64(0.0)), (3425, np.float64(0.0)), (3427, np.float64(0.0)), (3430, np.float64(0.0)), (3431, np.float64(0.0)), (3432, np.float64(0.0)), (3433, np.float64(0.0)), (3434, np.float64(0.0)), (3435, np.float64(0.0)), (3437, np.float64(0.0)), (3440, np.float64(0.0)), (3443, np.float64(0.0)), (3444, np.float64(0.0)), (3448, np.float64(0.0)), (3449, np.float64(0.0)), (3451, np.float64(0.0)), (3452, np.float64(0.0)), (3453, np.float64(0.0)), (3456, np.float64(0.0)), (3457, np.float64(0.0)), (3461, np.float64(0.0)), (3463, np.float64(0.0)), (3464, np.float64(0.0)), (3466, np.float64(0.0)), (3469, np.float64(0.0)), (3471, np.float64(0.0)), (3472, np.float64(0.0)), (3477, np.float64(0.0)), (3478, np.float64(0.0)), (3480, np.float64(0.0)), (3482, np.float64(0.0)), (3485, np.float64(0.0)), (3486, np.float64(0.0)), (3488, np.float64(0.0)), (3489, np.float64(0.0)), (3490, np.float64(0.0)), (3493, np.float64(0.0)), (3497, np.float64(0.0)), (3498, np.float64(0.0)), (3499, np.float64(0.0)), (3504, np.float64(0.0)), (3506, np.float64(0.0)), (3508, np.float64(0.0)), (3509, np.float64(0.0)), (3515, np.float64(0.0)), (3516, np.float64(0.0)), (3517, np.float64(0.0)), (3519, np.float64(0.0)), (3521, np.float64(0.0)), (3523, np.float64(0.0)), (3527, np.float64(0.0)), (3528, np.float64(0.0)), (3529, np.float64(0.0)), (3531, np.float64(0.0)), (3533, np.float64(0.0)), (3534, np.float64(0.0)), (3537, np.float64(0.0)), (3539, np.float64(0.0)), (3542, np.float64(0.0)), (3543, np.float64(0.0)), (3544, np.float64(0.0)), (3545, np.float64(0.0)), (3548, np.float64(0.0)), (3549, np.float64(0.0)), (3550, np.float64(0.0)), (3553, np.float64(0.0)), (3556, np.float64(0.0)), (3557, np.float64(0.0)), (3559, np.float64(0.0)), (3560, np.float64(0.0)), (3561, np.float64(0.0)), (3562, np.float64(0.0)), (3563, np.float64(0.0)), (3564, np.float64(0.0)), (3565, np.float64(0.0)), (3566, np.float64(0.0)), (3567, np.float64(0.0)), (3568, np.float64(0.0)), (3569, np.float64(0.0)), (3571, np.float64(0.0)), (3573, np.float64(0.0)), (3574, np.float64(0.0)), (3575, np.float64(0.0)), (3576, np.float64(0.0)), (3577, np.float64(0.0)), (3578, np.float64(0.0)), (3579, np.float64(0.0)), (3580, np.float64(0.0)), (3582, np.float64(0.0)), (3583, np.float64(0.0)), (3584, np.float64(0.0)), (3585, np.float64(0.0)), (3587, np.float64(0.0)), (3588, np.float64(0.0)), (3589, np.float64(0.0)), (3590, np.float64(0.0)), (3591, np.float64(0.0)), (3592, np.float64(0.0)), (3594, np.float64(0.0)), (3596, np.float64(0.0)), (3597, np.float64(0.0)), (3599, np.float64(0.0)), (3600, np.float64(0.0)), (3602, np.float64(0.0)), (3603, np.float64(0.0)), (3604, np.float64(0.0)), (3607, np.float64(0.0)), (3616, np.float64(0.0)), (3617, np.float64(0.0)), (3621, np.float64(0.0)), (3622, np.float64(0.0)), (3623, np.float64(0.0)), (3624, np.float64(0.0)), (3627, np.float64(0.0)), (3630, np.float64(0.0)), (3631, np.float64(0.0)), (3634, np.float64(0.0)), (3636, np.float64(0.0)), (3637, np.float64(0.0)), (3638, np.float64(0.0)), (3639, np.float64(0.0)), (3640, np.float64(0.0)), (3641, np.float64(0.0)), (3642, np.float64(0.0)), (3646, np.float64(0.0)), (3647, np.float64(0.0)), (3649, np.float64(0.0)), (3650, np.float64(0.0)), (3651, np.float64(0.0)), (3654, np.float64(0.0)), (3656, np.float64(0.0)), (3657, np.float64(0.0)), (3661, np.float64(0.0)), (3663, np.float64(0.0)), (3664, np.float64(0.0)), (3665, np.float64(0.0)), (3666, np.float64(0.0)), (3668, np.float64(0.0)), (3672, np.float64(0.0)), (3673, np.float64(0.0)), (3676, np.float64(0.0)), (3677, np.float64(0.0)), (3678, np.float64(0.0)), (3679, np.float64(0.0)), (3680, np.float64(0.0)), (3681, np.float64(0.0)), (3682, np.float64(0.0)), (3683, np.float64(0.0)), (3684, np.float64(0.0)), (3685, np.float64(0.0)), (3686, np.float64(0.0)), (3687, np.float64(0.0)), (3688, np.float64(0.0)), (3691, np.float64(0.0)), (3694, np.float64(0.0)), (3695, np.float64(0.0)), (3696, np.float64(0.0)), (3697, np.float64(0.0)), (3698, np.float64(0.0)), (3701, np.float64(0.0)), (3703, np.float64(0.0)), (3705, np.float64(0.0)), (3708, np.float64(0.0)), (3709, np.float64(0.0)), (3712, np.float64(0.0)), (3713, np.float64(0.0)), (3715, np.float64(0.0)), (3716, np.float64(0.0)), (3717, np.float64(0.0)), (3720, np.float64(0.0)), (3721, np.float64(0.0)), (3722, np.float64(0.0)), (3723, np.float64(0.0)), (3724, np.float64(0.0)), (3725, np.float64(0.0)), (3730, np.float64(0.0)), (3731, np.float64(0.0)), (3739, np.float64(0.0)), (3741, np.float64(0.0)), (3746, np.float64(0.0)), (3748, np.float64(0.0)), (3750, np.float64(0.0)), (3752, np.float64(0.0)), (3755, np.float64(0.0)), (3756, np.float64(0.0)), (3757, np.float64(0.0)), (3758, np.float64(0.0)), (3763, np.float64(0.0)), (3764, np.float64(0.0)), (3765, np.float64(0.0)), (3766, np.float64(0.0)), (3769, np.float64(0.0)), (3770, np.float64(0.0)), (3772, np.float64(0.0)), (3773, np.float64(0.0)), (3774, np.float64(0.0)), (3777, np.float64(0.0)), (3784, np.float64(0.0)), (3785, np.float64(0.0)), (3787, np.float64(0.0)), (3789, np.float64(0.0)), (3790, np.float64(0.0)), (3791, np.float64(0.0)), (3792, np.float64(0.0)), (3794, np.float64(0.0)), (3796, np.float64(0.0)), (3798, np.float64(0.0)), (3800, np.float64(0.0)), (3801, np.float64(0.0)), (3802, np.float64(0.0)), (3806, np.float64(0.0)), (3810, np.float64(0.0)), (3811, np.float64(0.0)), (3812, np.float64(0.0)), (3815, np.float64(0.0)), (3816, np.float64(0.0)), (3818, np.float64(0.0)), (3819, np.float64(0.0)), (3821, np.float64(0.0)), (3822, np.float64(0.0)), (3826, np.float64(0.0)), (3827, np.float64(0.0)), (3828, np.float64(0.0)), (3829, np.float64(0.0)), (3831, np.float64(0.0)), (3833, np.float64(0.0)), (3835, np.float64(0.0)), (3836, np.float64(0.0)), (3838, np.float64(0.0)), (3839, np.float64(0.0)), (3842, np.float64(0.0)), (3844, np.float64(0.0)), (3847, np.float64(0.0)), (3848, np.float64(0.0)), (3851, np.float64(0.0)), (3854, np.float64(0.0)), (3856, np.float64(0.0)), (3857, np.float64(0.0)), (3859, np.float64(0.0)), (3863, np.float64(0.0)), (3864, np.float64(0.0)), (3865, np.float64(0.0)), (3866, np.float64(0.0)), (3868, np.float64(0.0)), (3869, np.float64(0.0)), (3870, np.float64(0.0)), (3871, np.float64(0.0)), (3873, np.float64(0.0)), (3874, np.float64(0.0)), (3875, np.float64(0.0)), (3878, np.float64(0.0)), (3880, np.float64(0.0)), (3881, np.float64(0.0)), (3882, np.float64(0.0)), (3884, np.float64(0.0)), (3887, np.float64(0.0)), (3891, np.float64(0.0)), (3892, np.float64(0.0)), (3893, np.float64(0.0)), (3895, np.float64(0.0)), (3896, np.float64(0.0)), (3897, np.float64(0.0)), (3900, np.float64(0.0)), (3901, np.float64(0.0)), (3904, np.float64(0.0)), (3906, np.float64(0.0)), (3907, np.float64(0.0)), (3909, np.float64(0.0)), (3913, np.float64(0.0)), (3917, np.float64(0.0)), (3918, np.float64(0.0)), (3920, np.float64(0.0)), (3925, np.float64(0.0)), (3926, np.float64(0.0)), (3931, np.float64(0.0)), (3934, np.float64(0.0)), (3936, np.float64(0.0)), (3937, np.float64(0.0)), (3938, np.float64(0.0)), (3939, np.float64(0.0)), (3940, np.float64(0.0)), (3941, np.float64(0.0)), (3942, np.float64(0.0)), (3943, np.float64(0.0)), (3950, np.float64(0.0)), (3955, np.float64(0.0)), (3956, np.float64(0.0)), (3957, np.float64(0.0)), (3958, np.float64(0.0)), (3962, np.float64(0.0)), (3963, np.float64(0.0)), (3964, np.float64(0.0)), (3965, np.float64(0.0)), (3967, np.float64(0.0)), (3968, np.float64(0.0)), (3971, np.float64(0.0)), (3972, np.float64(0.0)), (3973, np.float64(0.0)), (3978, np.float64(0.0)), (3982, np.float64(0.0)), (3983, np.float64(0.0)), (3984, np.float64(0.0)), (3987, np.float64(0.0)), (3994, np.float64(0.0)), (3996, np.float64(0.0)), (3999, np.float64(0.0)), (4001, np.float64(0.0)), (4003, np.float64(0.0)), (4005, np.float64(0.0)), (4006, np.float64(0.0)), (4009, np.float64(0.0)), (4012, np.float64(0.0)), (4013, np.float64(0.0)), (4014, np.float64(0.0)), (4018, np.float64(0.0)), (4022, np.float64(0.0)), (4025, np.float64(0.0)), (4029, np.float64(0.0)), (4030, np.float64(0.0)), (4031, np.float64(0.0)), (4032, np.float64(0.0)), (4033, np.float64(0.0)), (4038, np.float64(0.0)), (4039, np.float64(0.0)), (4040, np.float64(0.0)), (4041, np.float64(0.0)), (4044, np.float64(0.0)), (4045, np.float64(0.0)), (4047, np.float64(0.0)), (4048, np.float64(0.0)), (4051, np.float64(0.0)), (4052, np.float64(0.0)), (4054, np.float64(0.0)), (4055, np.float64(0.0)), (4056, np.float64(0.0)), (4057, np.float64(0.0)), (4058, np.float64(0.0)), (4062, np.float64(0.0)), (4067, np.float64(0.0)), (4068, np.float64(0.0)), (4069, np.float64(0.0)), (4070, np.float64(0.0)), (4071, np.float64(0.0)), (4072, np.float64(0.0)), (4079, np.float64(0.0)), (4080, np.float64(0.0)), (4084, np.float64(0.0)), (4085, np.float64(0.0)), (4086, np.float64(0.0)), (4087, np.float64(0.0)), (4090, np.float64(0.0)), (4091, np.float64(0.0)), (4093, np.float64(0.0)), (4094, np.float64(0.0)), (4096, np.float64(0.0)), (4099, np.float64(0.0)), (4100, np.float64(0.0)), (4102, np.float64(0.0)), (4104, np.float64(0.0)), (4106, np.float64(0.0)), (4108, np.float64(0.0)), (4109, np.float64(0.0)), (4113, np.float64(0.0)), (4116, np.float64(0.0)), (4119, np.float64(0.0)), (4120, np.float64(0.0)), (4122, np.float64(0.0)), (4124, np.float64(0.0)), (4126, np.float64(0.0)), (4131, np.float64(0.0)), (4134, np.float64(0.0)), (4137, np.float64(0.0)), (4138, np.float64(0.0)), (4140, np.float64(0.0)), (4141, np.float64(0.0)), (4142, np.float64(0.0)), (4143, np.float64(0.0)), (4144, np.float64(0.0)), (4145, np.float64(0.0)), (4147, np.float64(0.0)), (4148, np.float64(0.0)), (4150, np.float64(0.0)), (4151, np.float64(0.0)), (4153, np.float64(0.0)), (4154, np.float64(0.0)), (4155, np.float64(0.0)), (4156, np.float64(0.0)), (4157, np.float64(0.0)), (4160, np.float64(0.0)), (4161, np.float64(0.0)), (4162, np.float64(0.0)), (4165, np.float64(0.0)), (4168, np.float64(0.0)), (4169, np.float64(0.0)), (4170, np.float64(0.0)), (4171, np.float64(0.0)), (4172, np.float64(0.0)), (4173, np.float64(0.0)), (4174, np.float64(0.0)), (4175, np.float64(0.0)), (4176, np.float64(0.0)), (4180, np.float64(0.0)), (4181, np.float64(0.0)), (4183, np.float64(0.0)), (4184, np.float64(0.0)), (4186, np.float64(0.0)), (4187, np.float64(0.0)), (4188, np.float64(0.0)), (4189, np.float64(0.0)), (4195, np.float64(0.0)), (4197, np.float64(0.0)), (4198, np.float64(0.0)), (4199, np.float64(0.0)), (4205, np.float64(0.0)), (4206, np.float64(0.0)), (4208, np.float64(0.0)), (4210, np.float64(0.0)), (4212, np.float64(0.0)), (4215, np.float64(0.0)), (4216, np.float64(0.0)), (4217, np.float64(0.0)), (4219, np.float64(0.0)), (4220, np.float64(0.0)), (4221, np.float64(0.0)), (4222, np.float64(0.0)), (4224, np.float64(0.0)), (4225, np.float64(0.0)), (4227, np.float64(0.0)), (4229, np.float64(0.0)), (4230, np.float64(0.0)), (4231, np.float64(0.0)), (4234, np.float64(0.0)), (4237, np.float64(0.0)), (4239, np.float64(0.0)), (4240, np.float64(0.0)), (4242, np.float64(0.0)), (4243, np.float64(0.0)), (4245, np.float64(0.0)), (4249, np.float64(0.0)), (4251, np.float64(0.0)), (4252, np.float64(0.0)), (4253, np.float64(0.0)), (4255, np.float64(0.0)), (4256, np.float64(0.0)), (4258, np.float64(0.0)), (4260, np.float64(0.0)), (4264, np.float64(0.0)), (4267, np.float64(0.0)), (4268, np.float64(0.0)), (4269, np.float64(0.0)), (4272, np.float64(0.0)), (4273, np.float64(0.0)), (4274, np.float64(0.0)), (4275, np.float64(0.0)), (4276, np.float64(0.0)), (4278, np.float64(0.0)), (4283, np.float64(0.0)), (4285, np.float64(0.0)), (4286, np.float64(0.0)), (4287, np.float64(0.0)), (4289, np.float64(0.0)), (4291, np.float64(0.0)), (4294, np.float64(0.0)), (4295, np.float64(0.0)), (4296, np.float64(0.0)), (4297, np.float64(0.0)), (4298, np.float64(0.0)), (4301, np.float64(0.0)), (4302, np.float64(0.0)), (4303, np.float64(0.0)), (4304, np.float64(0.0)), (4306, np.float64(0.0)), (4307, np.float64(0.0)), (4308, np.float64(0.0)), (4309, np.float64(0.0)), (4310, np.float64(0.0)), (4311, np.float64(0.0)), (4315, np.float64(0.0)), (4318, np.float64(0.0)), (4321, np.float64(0.0)), (4322, np.float64(0.0)), (4323, np.float64(0.0)), (4326, np.float64(0.0)), (4328, np.float64(0.0)), (4334, np.float64(0.0)), (4337, np.float64(0.0)), (4338, np.float64(0.0)), (4340, np.float64(0.0)), (4342, np.float64(0.0)), (4344, np.float64(0.0)), (4345, np.float64(0.0)), (4346, np.float64(0.0)), (4347, np.float64(0.0)), (4350, np.float64(0.0)), (4352, np.float64(0.0)), (4354, np.float64(0.0)), (4356, np.float64(0.0)), (4360, np.float64(0.0)), (4361, np.float64(0.0)), (4363, np.float64(0.0)), (4364, np.float64(0.0)), (4366, np.float64(0.0)), (4367, np.float64(0.0)), (4370, np.float64(0.0)), (4373, np.float64(0.0)), (4374, np.float64(0.0)), (4376, np.float64(0.0)), (4378, np.float64(0.0)), (4379, np.float64(0.0)), (4381, np.float64(0.0)), (4385, np.float64(0.0)), (4386, np.float64(0.0)), (4387, np.float64(0.0)), (4389, np.float64(0.0)), (4391, np.float64(0.0)), (4393, np.float64(0.0)), (4394, np.float64(0.0)), (4395, np.float64(0.0)), (4396, np.float64(0.0)), (4398, np.float64(0.0)), (4404, np.float64(0.0)), (4407, np.float64(0.0)), (4409, np.float64(0.0)), (4411, np.float64(0.0)), (4414, np.float64(0.0)), (4415, np.float64(0.0)), (4416, np.float64(0.0)), (4417, np.float64(0.0)), (4418, np.float64(0.0)), (4419, np.float64(0.0)), (4423, np.float64(0.0)), (4424, np.float64(0.0)), (4425, np.float64(0.0)), (4426, np.float64(0.0)), (4428, np.float64(0.0)), (4430, np.float64(0.0)), (4432, np.float64(0.0)), (4433, np.float64(0.0)), (4435, np.float64(0.0)), (4436, np.float64(0.0)), (4437, np.float64(0.0)), (4438, np.float64(0.0)), (4439, np.float64(0.0)), (4440, np.float64(0.0)), (4441, np.float64(0.0)), (4442, np.float64(0.0)), (4444, np.float64(0.0)), (4445, np.float64(0.0)), (4447, np.float64(0.0)), (4448, np.float64(0.0)), (4449, np.float64(0.0)), (4452, np.float64(0.0)), (4454, np.float64(0.0)), (4455, np.float64(0.0)), (4456, np.float64(0.0)), (4457, np.float64(0.0)), (4461, np.float64(0.0)), (4462, np.float64(0.0)), (4464, np.float64(0.0)), (4465, np.float64(0.0)), (4467, np.float64(0.0)), (4470, np.float64(0.0)), (4471, np.float64(0.0)), (4474, np.float64(0.0)), (4475, np.float64(0.0)), (4476, np.float64(0.0)), (4477, np.float64(0.0)), (4478, np.float64(0.0)), (4479, np.float64(0.0)), (4480, np.float64(0.0)), (4481, np.float64(0.0)), (4483, np.float64(0.0)), (4486, np.float64(0.0)), (4487, np.float64(0.0)), (4488, np.float64(0.0)), (4489, np.float64(0.0)), (4491, np.float64(0.0)), (4493, np.float64(0.0)), (4494, np.float64(0.0)), (4495, np.float64(0.0)), (4496, np.float64(0.0)), (4497, np.float64(0.0)), (4499, np.float64(0.0)), (4500, np.float64(0.0)), (4501, np.float64(0.0)), (4503, np.float64(0.0)), (4504, np.float64(0.0)), (4505, np.float64(0.0)), (4507, np.float64(0.0)), (4508, np.float64(0.0)), (4509, np.float64(0.0)), (4511, np.float64(0.0)), (4513, np.float64(0.0)), (4514, np.float64(0.0)), (4515, np.float64(0.0)), (4517, np.float64(0.0)), (4518, np.float64(0.0)), (4520, np.float64(0.0)), (4521, np.float64(0.0)), (4522, np.float64(0.0)), (4523, np.float64(0.0)), (4524, np.float64(0.0)), (4526, np.float64(0.0)), (4527, np.float64(0.0)), (4531, np.float64(0.0)), (4534, np.float64(0.0)), (4537, np.float64(0.0)), (4539, np.float64(0.0)), (4541, np.float64(0.0)), (4544, np.float64(0.0)), (4546, np.float64(0.0)), (4547, np.float64(0.0)), (4548, np.float64(0.0)), (4550, np.float64(0.0)), (4551, np.float64(0.0)), (4556, np.float64(0.0)), (4561, np.float64(0.0)), (4562, np.float64(0.0)), (4563, np.float64(0.0)), (4567, np.float64(0.0)), (4571, np.float64(0.0)), (4572, np.float64(0.0)), (4574, np.float64(0.0)), (4577, np.float64(0.0)), (4578, np.float64(0.0)), (4579, np.float64(0.0)), (4580, np.float64(0.0)), (4581, np.float64(0.0)), (4583, np.float64(0.0)), (4584, np.float64(0.0)), (4585, np.float64(0.0)), (4586, np.float64(0.0)), (4588, np.float64(0.0)), (4592, np.float64(0.0)), (4593, np.float64(0.0)), (4595, np.float64(0.0)), (4598, np.float64(0.0)), (4599, np.float64(0.0)), (4600, np.float64(0.0)), (4601, np.float64(0.0)), (4603, np.float64(0.0)), (4605, np.float64(0.0)), (4606, np.float64(0.0)), (4608, np.float64(0.0)), (4609, np.float64(0.0)), (4610, np.float64(0.0)), (4612, np.float64(0.0)), (4613, np.float64(0.0)), (4614, np.float64(0.0)), (4615, np.float64(0.0)), (4616, np.float64(0.0)), (4617, np.float64(0.0)), (4619, np.float64(0.0)), (4621, np.float64(0.0)), (4622, np.float64(0.0)), (4625, np.float64(0.0)), (4627, np.float64(0.0)), (4628, np.float64(0.0)), (4631, np.float64(0.0)), (4637, np.float64(0.0)), (4639, np.float64(0.0)), (4644, np.float64(0.0)), (4645, np.float64(0.0)), (4648, np.float64(0.0)), (4649, np.float64(0.0)), (4650, np.float64(0.0)), (4651, np.float64(0.0)), (4653, np.float64(0.0)), (4655, np.float64(0.0)), (4658, np.float64(0.0)), (4659, np.float64(0.0)), (4660, np.float64(0.0)), (4662, np.float64(0.0)), (4663, np.float64(0.0)), (4665, np.float64(0.0)), (4668, np.float64(0.0)), (4671, np.float64(0.0)), (4676, np.float64(0.0)), (4677, np.float64(0.0)), (4678, np.float64(0.0)), (4679, np.float64(0.0)), (4681, np.float64(0.0)), (4683, np.float64(0.0)), (4684, np.float64(0.0)), (4685, np.float64(0.0)), (4686, np.float64(0.0)), (4687, np.float64(0.0)), (4688, np.float64(0.0)), (4689, np.float64(0.0)), (4692, np.float64(0.0)), (4697, np.float64(0.0)), (4698, np.float64(0.0)), (4701, np.float64(0.0)), (4702, np.float64(0.0)), (4705, np.float64(0.0)), (4708, np.float64(0.0)), (4709, np.float64(0.0)), (4710, np.float64(0.0)), (4712, np.float64(0.0)), (4714, np.float64(0.0)), (4715, np.float64(0.0)), (4716, np.float64(0.0)), (4717, np.float64(0.0)), (4719, np.float64(0.0)), (4721, np.float64(0.0)), (4723, np.float64(0.0)), (4724, np.float64(0.0)), (4725, np.float64(0.0)), (4726, np.float64(0.0)), (4728, np.float64(0.0)), (4729, np.float64(0.0)), (4732, np.float64(0.0)), (4733, np.float64(0.0)), (4734, np.float64(0.0)), (4735, np.float64(0.0)), (4736, np.float64(0.0)), (4738, np.float64(0.0)), (4740, np.float64(0.0)), (4745, np.float64(0.0)), (4746, np.float64(0.0)), (4747, np.float64(0.0)), (4749, np.float64(0.0)), (4750, np.float64(0.0)), (4751, np.float64(0.0)), (4753, np.float64(0.0)), (4756, np.float64(0.0)), (4758, np.float64(0.0)), (4760, np.float64(0.0)), (4762, np.float64(0.0)), (4763, np.float64(0.0)), (4764, np.float64(0.0)), (4765, np.float64(0.0)), (4768, np.float64(0.0)), (4769, np.float64(0.0)), (4770, np.float64(0.0)), (4774, np.float64(0.0)), (4776, np.float64(0.0)), (4778, np.float64(0.0)), (4779, np.float64(0.0)), (4783, np.float64(0.0)), (4785, np.float64(0.0)), (4786, np.float64(0.0)), (4788, np.float64(0.0)), (4791, np.float64(0.0)), (4792, np.float64(0.0)), (4794, np.float64(0.0)), (4795, np.float64(0.0)), (4796, np.float64(0.0)), (4797, np.float64(0.0)), (4800, np.float64(0.0)), (4805, np.float64(0.0))]\n",
      "Titan A.E.\n",
      "Small Soldiers\n",
      "Independence Day\n",
      "Ender's Game\n",
      "Aliens vs Predator: Requiem\n"
     ]
    }
   ],
   "source": [
    "recommend('Avatar')"
   ]
  },
  {
   "cell_type": "code",
   "execution_count": 51,
   "id": "aa587766",
   "metadata": {},
   "outputs": [],
   "source": [
    "import pickle"
   ]
  },
  {
   "cell_type": "code",
   "execution_count": 52,
   "id": "cce90141",
   "metadata": {},
   "outputs": [],
   "source": [
    "pickle.dump(new_df,open('movies_list.pkl' , 'wb'))\n",
    "\n",
    "pickle.dump(similarity,open('similarity.pkl' , 'wb'))\n"
   ]
  },
  {
   "cell_type": "code",
   "execution_count": 63,
   "id": "a702d467",
   "metadata": {},
   "outputs": [],
   "source": [
    "pickle.dump(new_df.to_dict(),open('movies_dict.pkl','wb'))"
   ]
  },
  {
   "cell_type": "code",
   "execution_count": 53,
   "id": "08d59d4d",
   "metadata": {},
   "outputs": [],
   "source": [
    "new_df.to_csv('data.csv')"
   ]
  },
  {
   "cell_type": "code",
   "execution_count": 54,
   "id": "a1bd9d5a",
   "metadata": {},
   "outputs": [
    {
     "data": {
      "text/plain": [
       "array(['Avatar', \"Pirates of the Caribbean: At World's End\", 'Spectre',\n",
       "       ..., 'Signed, Sealed, Delivered', 'Shanghai Calling',\n",
       "       'My Date with Drew'], dtype=object)"
      ]
     },
     "execution_count": 54,
     "metadata": {},
     "output_type": "execute_result"
    }
   ],
   "source": [
    "new_df['title'].values"
   ]
  }
 ],
 "metadata": {
  "kernelspec": {
   "display_name": "Python 3",
   "language": "python",
   "name": "python3"
  },
  "language_info": {
   "codemirror_mode": {
    "name": "ipython",
    "version": 3
   },
   "file_extension": ".py",
   "mimetype": "text/x-python",
   "name": "python",
   "nbconvert_exporter": "python",
   "pygments_lexer": "ipython3",
   "version": "3.12.4"
  }
 },
 "nbformat": 4,
 "nbformat_minor": 5
}
